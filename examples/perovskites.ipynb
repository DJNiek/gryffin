{
 "cells": [
  {
   "cell_type": "code",
   "execution_count": 1,
   "id": "enclosed-banks",
   "metadata": {},
   "outputs": [],
   "source": [
    "import pickle\n",
    "import numpy as np\n",
    "import pandas as pd"
   ]
  },
  {
   "cell_type": "code",
   "execution_count": 2,
   "id": "announced-reality",
   "metadata": {},
   "outputs": [
    {
     "name": "stderr",
     "output_type": "stream",
     "text": [
      "2022-05-17 13:28:06.623615: W tensorflow/stream_executor/platform/default/dso_loader.cc:64] Could not load dynamic library 'libcudart.so.11.0'; dlerror: libcudart.so.11.0: cannot open shared object file: No such file or directory\n",
      "2022-05-17 13:28:06.623647: I tensorflow/stream_executor/cuda/cudart_stub.cc:29] Ignore above cudart dlerror if you do not have a GPU set up on your machine.\n"
     ]
    }
   ],
   "source": [
    "from gryffin import Gryffin"
   ]
  },
  {
   "cell_type": "code",
   "execution_count": 3,
   "id": "necessary-catch",
   "metadata": {},
   "outputs": [],
   "source": [
    "budget = 192\n",
    "sampling_strategies = np.array([-1, 1])\n",
    "with_desc = True\n",
    "dynamic = True\n",
    "random_seed = 2022"
   ]
  },
  {
   "cell_type": "code",
   "execution_count": 4,
   "id": "encouraging-lambda",
   "metadata": {},
   "outputs": [],
   "source": [
    "optimum = ['hydrazinium', 'I', 'Sn'] # value = 1.5249 eV"
   ]
  },
  {
   "cell_type": "code",
   "execution_count": 5,
   "id": "prescribed-bargain",
   "metadata": {},
   "outputs": [],
   "source": [
    "# load in the perovskites dataset\n",
    "lookup_df = pickle.load(open('perovskites.pkl', 'rb'))"
   ]
  },
  {
   "cell_type": "code",
   "execution_count": 6,
   "id": "banner-advocate",
   "metadata": {},
   "outputs": [],
   "source": [
    "# helper functions\n",
    "def measure(param):\n",
    "\t''' lookup the HSEO6 bandgap for given perovskite composition\n",
    "\t'''\n",
    "\tmatch = lookup_df.loc[\n",
    "\t\t\t\t\t(lookup_df.organic == param['organic']) &\n",
    "\t\t\t\t\t(lookup_df.anion == param['anion']) &\n",
    "\t\t\t\t\t(lookup_df.cation == param['cation'])\n",
    "\t\t\t\t]\n",
    "\tassert len(match)==1\n",
    "\tbandgap = match.loc[:, 'hse06'].to_numpy()[0]\n",
    "\treturn bandgap\n",
    "\n",
    "def get_descriptors(element, kind):\n",
    "\t''' retrive the descriptors for a given element\n",
    "\t'''\n",
    "\treturn lookup_df.loc[(lookup_df[kind]==element)].loc[:, lookup_df.columns.str.startswith(f'{kind}-')].values[0].tolist()"
   ]
  },
  {
   "cell_type": "code",
   "execution_count": 7,
   "id": "familiar-converter",
   "metadata": {},
   "outputs": [],
   "source": [
    "# prepare descriptors\n",
    "organic_options = lookup_df.organic.unique().tolist()\n",
    "anion_options = lookup_df.anion.unique().tolist()\n",
    "cation_options = lookup_df.cation.unique().tolist()"
   ]
  },
  {
   "cell_type": "code",
   "execution_count": 8,
   "id": "assigned-advertiser",
   "metadata": {},
   "outputs": [],
   "source": [
    "if with_desc:\n",
    "\t# use physicochemical descriptors - static or dynamic gryffin\n",
    "\tdesc_organic = {option: get_descriptors(option, 'organic') for option in organic_options}\n",
    "\tdesc_anion = {option: get_descriptors(option, 'anion') for option in anion_options}\n",
    "\tdesc_cation = {option: get_descriptors(option, 'cation') for option in cation_options}\n",
    "else:\n",
    "\t# no descriptors - naive gryffin\n",
    "\tdesc_organic = {option: None for option in organic_options}\n",
    "\tdesc_anion = {option: None for option in anion_options}\n",
    "\tdesc_cation = {option: None for option in cation_options}"
   ]
  },
  {
   "cell_type": "code",
   "execution_count": 9,
   "id": "compressed-limitation",
   "metadata": {},
   "outputs": [],
   "source": [
    "# gryffin config\n",
    "config = {\n",
    "\t\"general\": {\n",
    "\t\t\"num_cpus\": 4,\n",
    "\t\t\"auto_desc_gen\": dynamic,\n",
    "\t\t\"batches\": 1,\n",
    "\t\t\"sampling_strategies\": 1,\n",
    "\t\t\"boosted\":  False,\n",
    "\t\t\"caching\": True,\n",
    "\t\t\"random_seed\": random_seed,\n",
    "\t\t\"acquisition_optimizer\": \"genetic\",\n",
    "\t\t\"verbosity\": 3\n",
    "\t\t},\n",
    "\t\"parameters\": [\n",
    "\t\t{\"name\": \"organic\", \"type\": \"categorical\", 'options': organic_options, 'category_details': desc_organic},\n",
    "\t\t{\"name\": \"anion\", \"type\": \"categorical\", 'options': anion_options, 'category_details': desc_anion},\n",
    "\t\t{\"name\": \"cation\", \"type\": \"categorical\",  'options': cation_options, 'category_details': desc_cation},\n",
    "\t],\n",
    "\t\"objectives\": [\n",
    "\t\t{\"name\": \"bandgap\", \"goal\": \"min\"},\n",
    "\t]\n",
    "}"
   ]
  },
  {
   "cell_type": "code",
   "execution_count": 10,
   "id": "allied-scale",
   "metadata": {},
   "outputs": [
    {
     "data": {
      "text/html": [
       "<pre style=\"white-space:pre;overflow-x:auto;line-height:normal;font-family:Menlo,'DejaVu Sans Mono',consolas,'Courier New',monospace\"><span style=\"color: #f4a261; text-decoration-color: #f4a261\">Could not find any observations, falling back to random sampling</span>\n",
       "</pre>\n"
      ],
      "text/plain": [
       "\u001b[38;2;244;162;97mCould not find any observations, falling back to random sampling\u001b[0m\n"
      ]
     },
     "metadata": {},
     "output_type": "display_data"
    },
    {
     "data": {
      "text/html": [
       "<pre style=\"white-space:pre;overflow-x:auto;line-height:normal;font-family:Menlo,'DejaVu Sans Mono',consolas,'Courier New',monospace\">Memory usage: <span style=\"color: #008080; text-decoration-color: #008080; font-weight: bold\">0</span> GB, <span style=\"color: #008080; text-decoration-color: #008080; font-weight: bold\">389</span> MB, <span style=\"color: #008080; text-decoration-color: #008080; font-weight: bold\">628</span> kB\n",
       "</pre>\n"
      ],
      "text/plain": [
       "Memory usage: \u001b[1;36m0\u001b[0m GB, \u001b[1;36m389\u001b[0m MB, \u001b[1;36m628\u001b[0m kB\n"
      ]
     },
     "metadata": {},
     "output_type": "display_data"
    },
    {
     "data": {
      "text/html": [
       "<pre style=\"white-space:pre;overflow-x:auto;line-height:normal;font-family:Menlo,'DejaVu Sans Mono',consolas,'Courier New',monospace\">Overall time required: <span style=\"color: #008080; text-decoration-color: #008080; font-weight: bold\">24.3</span> ms\n",
       "</pre>\n"
      ],
      "text/plain": [
       "Overall time required: \u001b[1;36m24.3\u001b[0m ms\n"
      ]
     },
     "metadata": {},
     "output_type": "display_data"
    },
    {
     "name": "stdout",
     "output_type": "stream",
     "text": [
      "ITER : 0\tSAMPLES : [{'organic': 'dimethylammonium', 'anion': 'Cl', 'cation': 'Pb', 'bandgap': 3.3139}]\t MEASUREMENT : 3.3139\n"
     ]
    },
    {
     "data": {
      "text/html": [
       "<pre style=\"white-space:pre;overflow-x:auto;line-height:normal;font-family:Menlo,'DejaVu Sans Mono',consolas,'Courier New',monospace\"><span style=\"color: #008080; text-decoration-color: #008080; font-weight: bold\">1</span> observations found\n",
       "</pre>\n"
      ],
      "text/plain": [
       "\u001b[1;36m1\u001b[0m observations found\n"
      ]
     },
     "metadata": {},
     "output_type": "display_data"
    },
    {
     "name": "stderr",
     "output_type": "stream",
     "text": [
      "2022-05-17 13:30:43.488175: I tensorflow/core/platform/cpu_feature_guard.cc:151] This TensorFlow binary is optimized with oneAPI Deep Neural Network Library (oneDNN) to use the following CPU instructions in performance-critical operations:  AVX2 AVX512F FMA\n",
      "To enable them in other operations, rebuild TensorFlow with the appropriate compiler flags.\n",
      "2022-05-17 13:30:48.364906: W tensorflow/stream_executor/platform/default/dso_loader.cc:64] Could not load dynamic library 'libcudart.so.11.0'; dlerror: libcudart.so.11.0: cannot open shared object file: No such file or directory\n",
      "2022-05-17 13:30:48.365225: W tensorflow/stream_executor/platform/default/dso_loader.cc:64] Could not load dynamic library 'libcublas.so.11'; dlerror: libcublas.so.11: cannot open shared object file: No such file or directory\n",
      "2022-05-17 13:30:48.365632: W tensorflow/stream_executor/platform/default/dso_loader.cc:64] Could not load dynamic library 'libcublasLt.so.11'; dlerror: libcublasLt.so.11: cannot open shared object file: No such file or directory\n",
      "2022-05-17 13:30:48.365945: W tensorflow/stream_executor/platform/default/dso_loader.cc:64] Could not load dynamic library 'libcufft.so.10'; dlerror: libcufft.so.10: cannot open shared object file: No such file or directory\n",
      "2022-05-17 13:30:48.366199: W tensorflow/stream_executor/platform/default/dso_loader.cc:64] Could not load dynamic library 'libcurand.so.10'; dlerror: libcurand.so.10: cannot open shared object file: No such file or directory\n",
      "2022-05-17 13:30:48.366469: W tensorflow/stream_executor/platform/default/dso_loader.cc:64] Could not load dynamic library 'libcusolver.so.11'; dlerror: libcusolver.so.11: cannot open shared object file: No such file or directory\n",
      "2022-05-17 13:30:48.366737: W tensorflow/stream_executor/platform/default/dso_loader.cc:64] Could not load dynamic library 'libcusparse.so.11'; dlerror: libcusparse.so.11: cannot open shared object file: No such file or directory\n",
      "2022-05-17 13:30:48.367005: W tensorflow/stream_executor/platform/default/dso_loader.cc:64] Could not load dynamic library 'libcudnn.so.8'; dlerror: libcudnn.so.8: cannot open shared object file: No such file or directory\n",
      "2022-05-17 13:30:48.367032: W tensorflow/core/common_runtime/gpu/gpu_device.cc:1850] Cannot dlopen some GPU libraries. Please make sure the missing libraries mentioned above are installed properly if you would like to use GPU. Follow the guide at https://www.tensorflow.org/install/gpu for how to download and setup the required libraries for your platform.\n",
      "Skipping registering GPU devices...\n",
      "2022-05-17 13:30:48.566035: W tensorflow/core/common_runtime/gpu/gpu_device.cc:1850] Cannot dlopen some GPU libraries. Please make sure the missing libraries mentioned above are installed properly if you would like to use GPU. Follow the guide at https://www.tensorflow.org/install/gpu for how to download and setup the required libraries for your platform.\n",
      "Skipping registering GPU devices...\n",
      "2022-05-17 13:30:48.962056: W tensorflow/core/common_runtime/gpu/gpu_device.cc:1850] Cannot dlopen some GPU libraries. Please make sure the missing libraries mentioned above are installed properly if you would like to use GPU. Follow the guide at https://www.tensorflow.org/install/gpu for how to download and setup the required libraries for your platform.\n",
      "Skipping registering GPU devices...\n"
     ]
    },
    {
     "data": {
      "text/html": [
       "<pre style=\"white-space:pre;overflow-x:auto;line-height:normal;font-family:Menlo,'DejaVu Sans Mono',consolas,'Courier New',monospace\">Bayesian neural network trained in <span style=\"color: #008080; text-decoration-color: #008080; font-weight: bold\">10.2</span> s\n",
       "</pre>\n"
      ],
      "text/plain": [
       "Bayesian neural network trained in \u001b[1;36m10.2\u001b[0m s\n"
      ]
     },
     "metadata": {},
     "output_type": "display_data"
    },
    {
     "data": {
      "text/html": [
       "<pre style=\"white-space:pre;overflow-x:auto;line-height:normal;font-family:Menlo,'DejaVu Sans Mono',consolas,'Courier New',monospace\"><span style=\"color: #008080; text-decoration-color: #008080; font-weight: bold\">1200</span> random proposals drawn in <span style=\"color: #008080; text-decoration-color: #008080; font-weight: bold\">188.0</span> ms\n",
       "</pre>\n"
      ],
      "text/plain": [
       "\u001b[1;36m1200\u001b[0m random proposals drawn in \u001b[1;36m188.0\u001b[0m ms\n"
      ]
     },
     "metadata": {},
     "output_type": "display_data"
    },
    {
     "name": "stdout",
     "output_type": "stream",
     "text": [
      "package \"deap\" required by GeneticOptimizer not found, please installpackage \"deap\" required by GeneticOptimizer not found, please install\n"
     ]
    },
    {
     "name": "stderr",
     "output_type": "stream",
     "text": [
      "Process Process-17:\n"
     ]
    },
    {
     "name": "stdout",
     "output_type": "stream",
     "text": [
      "package \"deap\" required by GeneticOptimizer not found, please install\n",
      "\n"
     ]
    },
    {
     "name": "stderr",
     "output_type": "stream",
     "text": [
      "Process Process-16:\n",
      "Process Process-18:\n",
      "Traceback (most recent call last):\n",
      "  File \"/ssd003/home/jwilles/condaenvs/gryffin-sphinx/lib/python3.8/multiprocessing/process.py\", line 315, in _bootstrap\n",
      "    self.run()\n",
      "Traceback (most recent call last):\n",
      "  File \"/ssd003/home/jwilles/condaenvs/gryffin-sphinx/lib/python3.8/multiprocessing/process.py\", line 108, in run\n",
      "    self._target(*self._args, **self._kwargs)\n",
      "  File \"/ssd003/home/jwilles/condaenvs/gryffin-sphinx/lib/python3.8/multiprocessing/process.py\", line 315, in _bootstrap\n",
      "    self.run()\n",
      "  File \"/ssd003/home/jwilles/condaenvs/gryffin-sphinx/lib/python3.8/multiprocessing/process.py\", line 108, in run\n",
      "    self._target(*self._args, **self._kwargs)\n",
      "  File \"/ssd003/home/jwilles/condaenvs/gryffin-sphinx/lib/python3.8/site-packages/gryffin/acquisition/acquisition.py\", line 171, in _proposal_optimization_thread\n",
      "    local_optimizer = self._load_optimizer(acquisition_constraints=acquisition_constraints)\n",
      "  File \"/ssd003/home/jwilles/condaenvs/gryffin-sphinx/lib/python3.8/site-packages/gryffin/acquisition/acquisition.py\", line 356, in _load_optimizer\n",
      "    from .genetic_optimizer import GeneticOptimizer\n",
      "  File \"/ssd003/home/jwilles/condaenvs/gryffin-sphinx/lib/python3.8/site-packages/gryffin/acquisition/genetic_optimizer/__init__.py\", line 8, in <module>\n",
      "    from .genetic_optimizer import GeneticOptimizer\n",
      "  File \"/ssd003/home/jwilles/condaenvs/gryffin-sphinx/lib/python3.8/site-packages/gryffin/acquisition/genetic_optimizer/genetic_optimizer.py\", line 9, in <module>\n",
      "    from deap import base, creator, tools\n",
      "ModuleNotFoundError: No module named 'deap'\n",
      "Traceback (most recent call last):\n",
      "  File \"/ssd003/home/jwilles/condaenvs/gryffin-sphinx/lib/python3.8/multiprocessing/process.py\", line 315, in _bootstrap\n",
      "    self.run()\n"
     ]
    },
    {
     "name": "stdout",
     "output_type": "stream",
     "text": [
      "package \"deap\" required by GeneticOptimizer not found, please install"
     ]
    },
    {
     "name": "stderr",
     "output_type": "stream",
     "text": [
      "  File \"/ssd003/home/jwilles/condaenvs/gryffin-sphinx/lib/python3.8/multiprocessing/process.py\", line 108, in run\n",
      "    self._target(*self._args, **self._kwargs)\n",
      "  File \"/ssd003/home/jwilles/condaenvs/gryffin-sphinx/lib/python3.8/site-packages/gryffin/acquisition/acquisition.py\", line 171, in _proposal_optimization_thread\n",
      "    local_optimizer = self._load_optimizer(acquisition_constraints=acquisition_constraints)\n",
      "  File \"/ssd003/home/jwilles/condaenvs/gryffin-sphinx/lib/python3.8/site-packages/gryffin/acquisition/acquisition.py\", line 356, in _load_optimizer\n",
      "    from .genetic_optimizer import GeneticOptimizer\n",
      "  File \"/ssd003/home/jwilles/condaenvs/gryffin-sphinx/lib/python3.8/site-packages/gryffin/acquisition/genetic_optimizer/__init__.py\", line 8, in <module>\n",
      "    from .genetic_optimizer import GeneticOptimizer\n",
      "  File \"/ssd003/home/jwilles/condaenvs/gryffin-sphinx/lib/python3.8/site-packages/gryffin/acquisition/genetic_optimizer/genetic_optimizer.py\", line 9, in <module>\n",
      "    from deap import base, creator, tools\n",
      "ModuleNotFoundError: No module named 'deap'\n",
      "  File \"/ssd003/home/jwilles/condaenvs/gryffin-sphinx/lib/python3.8/site-packages/gryffin/acquisition/acquisition.py\", line 171, in _proposal_optimization_thread\n",
      "    local_optimizer = self._load_optimizer(acquisition_constraints=acquisition_constraints)\n"
     ]
    },
    {
     "name": "stdout",
     "output_type": "stream",
     "text": [
      "\n"
     ]
    },
    {
     "name": "stderr",
     "output_type": "stream",
     "text": [
      "Process Process-19:\n",
      "  File \"/ssd003/home/jwilles/condaenvs/gryffin-sphinx/lib/python3.8/site-packages/gryffin/acquisition/acquisition.py\", line 356, in _load_optimizer\n",
      "    from .genetic_optimizer import GeneticOptimizer\n",
      "Traceback (most recent call last):\n",
      "  File \"/ssd003/home/jwilles/condaenvs/gryffin-sphinx/lib/python3.8/site-packages/gryffin/acquisition/genetic_optimizer/__init__.py\", line 8, in <module>\n",
      "    from .genetic_optimizer import GeneticOptimizer\n",
      "  File \"/ssd003/home/jwilles/condaenvs/gryffin-sphinx/lib/python3.8/multiprocessing/process.py\", line 315, in _bootstrap\n",
      "    self.run()\n",
      "  File \"/ssd003/home/jwilles/condaenvs/gryffin-sphinx/lib/python3.8/multiprocessing/process.py\", line 108, in run\n",
      "    self._target(*self._args, **self._kwargs)\n",
      "  File \"/ssd003/home/jwilles/condaenvs/gryffin-sphinx/lib/python3.8/site-packages/gryffin/acquisition/genetic_optimizer/genetic_optimizer.py\", line 9, in <module>\n",
      "    from deap import base, creator, tools\n",
      "ModuleNotFoundError: No module named 'deap'\n",
      "  File \"/ssd003/home/jwilles/condaenvs/gryffin-sphinx/lib/python3.8/site-packages/gryffin/acquisition/acquisition.py\", line 171, in _proposal_optimization_thread\n",
      "    local_optimizer = self._load_optimizer(acquisition_constraints=acquisition_constraints)\n",
      "  File \"/ssd003/home/jwilles/condaenvs/gryffin-sphinx/lib/python3.8/site-packages/gryffin/acquisition/acquisition.py\", line 356, in _load_optimizer\n",
      "    from .genetic_optimizer import GeneticOptimizer\n",
      "  File \"/ssd003/home/jwilles/condaenvs/gryffin-sphinx/lib/python3.8/site-packages/gryffin/acquisition/genetic_optimizer/__init__.py\", line 8, in <module>\n",
      "    from .genetic_optimizer import GeneticOptimizer\n",
      "  File \"/ssd003/home/jwilles/condaenvs/gryffin-sphinx/lib/python3.8/site-packages/gryffin/acquisition/genetic_optimizer/genetic_optimizer.py\", line 9, in <module>\n",
      "    from deap import base, creator, tools\n",
      "ModuleNotFoundError: No module named 'deap'\n"
     ]
    },
    {
     "ename": "KeyError",
     "evalue": "0",
     "output_type": "error",
     "traceback": [
      "\u001b[0;31m---------------------------------------------------------------------------\u001b[0m",
      "\u001b[0;31mKeyError\u001b[0m                                  Traceback (most recent call last)",
      "Input \u001b[0;32mIn [10]\u001b[0m, in \u001b[0;36m<cell line: 6>\u001b[0;34m()\u001b[0m\n\u001b[1;32m     10\u001b[0m sampling_strategy \u001b[38;5;241m=\u001b[39m sampling_strategies[idx]\n\u001b[1;32m     12\u001b[0m \u001b[38;5;66;03m# ask Gryffin for a new sample\u001b[39;00m\n\u001b[0;32m---> 13\u001b[0m samples \u001b[38;5;241m=\u001b[39m \u001b[43mgryffin\u001b[49m\u001b[38;5;241;43m.\u001b[39;49m\u001b[43mrecommend\u001b[49m\u001b[43m(\u001b[49m\u001b[43mobservations\u001b[49m\u001b[38;5;241;43m=\u001b[39;49m\u001b[43mobservations\u001b[49m\u001b[43m,\u001b[49m\u001b[43m \u001b[49m\u001b[43msampling_strategies\u001b[49m\u001b[38;5;241;43m=\u001b[39;49m\u001b[43m[\u001b[49m\u001b[43msampling_strategy\u001b[49m\u001b[43m]\u001b[49m\u001b[43m)\u001b[49m\n\u001b[1;32m     15\u001b[0m measurement \u001b[38;5;241m=\u001b[39m measure(samples[\u001b[38;5;241m0\u001b[39m])\n\u001b[1;32m     16\u001b[0m samples[\u001b[38;5;241m0\u001b[39m][\u001b[38;5;124m'\u001b[39m\u001b[38;5;124mbandgap\u001b[39m\u001b[38;5;124m'\u001b[39m] \u001b[38;5;241m=\u001b[39m measurement\n",
      "File \u001b[0;32m/ssd003/home/jwilles/condaenvs/gryffin-sphinx/lib/python3.8/site-packages/gryffin/gryffin.py:355\u001b[0m, in \u001b[0;36mGryffin.recommend\u001b[0;34m(self, observations, sampling_strategies, num_batches, as_array)\u001b[0m\n\u001b[1;32m    352\u001b[0m \u001b[38;5;66;03m# then select the remaining proposals\u001b[39;00m\n\u001b[1;32m    353\u001b[0m \u001b[38;5;66;03m# note num_samples get multiplied by the number of input variables\u001b[39;00m\n\u001b[1;32m    354\u001b[0m \u001b[38;5;28mself\u001b[39m\u001b[38;5;241m.\u001b[39mlog_chapter(\u001b[38;5;124m'\u001b[39m\u001b[38;5;124mAcquisition\u001b[39m\u001b[38;5;124m'\u001b[39m)\n\u001b[0;32m--> 355\u001b[0m \u001b[38;5;28mself\u001b[39m\u001b[38;5;241m.\u001b[39mproposals \u001b[38;5;241m=\u001b[39m \u001b[38;5;28;43mself\u001b[39;49m\u001b[38;5;241;43m.\u001b[39;49m\u001b[43macquisition\u001b[49m\u001b[38;5;241;43m.\u001b[39;49m\u001b[43mpropose\u001b[49m\u001b[43m(\u001b[49m\u001b[43mbest_params\u001b[49m\u001b[38;5;241;43m=\u001b[39;49m\u001b[43mbest_params\u001b[49m\u001b[43m,\u001b[49m\n\u001b[1;32m    356\u001b[0m \u001b[43m                                          \u001b[49m\u001b[43mbayesian_network\u001b[49m\u001b[38;5;241;43m=\u001b[39;49m\u001b[38;5;28;43mself\u001b[39;49m\u001b[38;5;241;43m.\u001b[39;49m\u001b[43mbayesian_network\u001b[49m\u001b[43m,\u001b[49m\n\u001b[1;32m    357\u001b[0m \u001b[43m                                          \u001b[49m\u001b[43msampling_param_values\u001b[49m\u001b[38;5;241;43m=\u001b[39;49m\u001b[38;5;28;43mself\u001b[39;49m\u001b[38;5;241;43m.\u001b[39;49m\u001b[43msampling_param_values\u001b[49m\u001b[43m,\u001b[49m\n\u001b[1;32m    358\u001b[0m \u001b[43m                                          \u001b[49m\u001b[43mnum_samples_per_dim\u001b[49m\u001b[38;5;241;43m=\u001b[39;49m\u001b[43mnum_samples_per_dim\u001b[49m\u001b[43m,\u001b[49m\n\u001b[1;32m    359\u001b[0m \u001b[43m                                          \u001b[49m\u001b[43mdominant_samples\u001b[49m\u001b[38;5;241;43m=\u001b[39;49m\u001b[43mconstraining_samples\u001b[49m\u001b[43m,\u001b[49m\n\u001b[1;32m    360\u001b[0m \u001b[43m                                          \u001b[49m\u001b[43mtimings_dict\u001b[49m\u001b[38;5;241;43m=\u001b[39;49m\u001b[38;5;28;43mself\u001b[39;49m\u001b[38;5;241;43m.\u001b[39;49m\u001b[43mtimings\u001b[49m\u001b[43m)\u001b[49m\n\u001b[1;32m    362\u001b[0m \u001b[38;5;28mself\u001b[39m\u001b[38;5;241m.\u001b[39mlog_chapter(\u001b[38;5;124m'\u001b[39m\u001b[38;5;124mSample Selector\u001b[39m\u001b[38;5;124m'\u001b[39m)\n\u001b[1;32m    363\u001b[0m \u001b[38;5;66;03m# note: provide `obs_params` as it contains the params for _all_ samples, including the unfeasible ones\u001b[39;00m\n",
      "File \u001b[0;32m/ssd003/home/jwilles/condaenvs/gryffin-sphinx/lib/python3.8/site-packages/gryffin/acquisition/acquisition.py:440\u001b[0m, in \u001b[0;36mAcquisition.propose\u001b[0;34m(self, best_params, bayesian_network, sampling_param_values, num_samples_per_dim, dominant_samples, timings_dict)\u001b[0m\n\u001b[1;32m    436\u001b[0m \u001b[38;5;66;03m# ---------------------------------------------------------\u001b[39;00m\n\u001b[1;32m    437\u001b[0m \u001b[38;5;66;03m# run acquisition optimization starting from random samples\u001b[39;00m\n\u001b[1;32m    438\u001b[0m \u001b[38;5;66;03m# ---------------------------------------------------------\u001b[39;00m\n\u001b[1;32m    439\u001b[0m start_opt \u001b[38;5;241m=\u001b[39m time\u001b[38;5;241m.\u001b[39mtime()\n\u001b[0;32m--> 440\u001b[0m optimized_proposals \u001b[38;5;241m=\u001b[39m \u001b[38;5;28;43mself\u001b[39;49m\u001b[38;5;241;43m.\u001b[39;49m\u001b[43m_optimize_proposals\u001b[49m\u001b[43m(\u001b[49m\u001b[43mrandom_proposals\u001b[49m\u001b[43m,\u001b[49m\n\u001b[1;32m    441\u001b[0m \u001b[43m                                               \u001b[49m\u001b[43macquisition_constraints\u001b[49m\u001b[38;5;241;43m=\u001b[39;49m\u001b[43macquisition_constraints\u001b[49m\u001b[43m,\u001b[49m\n\u001b[1;32m    442\u001b[0m \u001b[43m                                               \u001b[49m\u001b[43mdominant_samples\u001b[49m\u001b[38;5;241;43m=\u001b[39;49m\u001b[43mdominant_samples\u001b[49m\u001b[43m)\u001b[49m\n\u001b[1;32m    443\u001b[0m end_opt \u001b[38;5;241m=\u001b[39m time\u001b[38;5;241m.\u001b[39mtime()\n\u001b[1;32m    445\u001b[0m extended_proposals \u001b[38;5;241m=\u001b[39m np\u001b[38;5;241m.\u001b[39marray([random_proposals \u001b[38;5;28;01mfor\u001b[39;00m _ \u001b[38;5;129;01min\u001b[39;00m \u001b[38;5;28mrange\u001b[39m(\u001b[38;5;28mlen\u001b[39m(sampling_param_values))])\n",
      "File \u001b[0;32m/ssd003/home/jwilles/condaenvs/gryffin-sphinx/lib/python3.8/site-packages/gryffin/acquisition/acquisition.py:327\u001b[0m, in \u001b[0;36mAcquisition._optimize_proposals\u001b[0;34m(self, random_proposals, acquisition_constraints, dominant_samples)\u001b[0m\n\u001b[1;32m    325\u001b[0m     optimized_batch_samples \u001b[38;5;241m=\u001b[39m []\n\u001b[1;32m    326\u001b[0m     \u001b[38;5;28;01mfor\u001b[39;00m idx \u001b[38;5;129;01min\u001b[39;00m \u001b[38;5;28mrange\u001b[39m(\u001b[38;5;28mlen\u001b[39m(random_proposals_splits)):\n\u001b[0;32m--> 327\u001b[0m         optimized_batch_samples\u001b[38;5;241m.\u001b[39mextend(\u001b[43mreturn_dict\u001b[49m\u001b[43m[\u001b[49m\u001b[43midx\u001b[49m\u001b[43m]\u001b[49m)\n\u001b[1;32m    329\u001b[0m \u001b[38;5;66;03m# ---------------------\u001b[39;00m\n\u001b[1;32m    330\u001b[0m \u001b[38;5;66;03m# sequential processing\u001b[39;00m\n\u001b[1;32m    331\u001b[0m \u001b[38;5;66;03m# ---------------------\u001b[39;00m\n\u001b[1;32m    332\u001b[0m \u001b[38;5;28;01melse\u001b[39;00m:\n\u001b[1;32m    333\u001b[0m     \u001b[38;5;66;03m# optimized samples for this batch/sampling strategy\u001b[39;00m\n\u001b[1;32m    334\u001b[0m     optimized_batch_samples \u001b[38;5;241m=\u001b[39m \u001b[38;5;28mself\u001b[39m\u001b[38;5;241m.\u001b[39m_proposal_optimization_thread(proposals\u001b[38;5;241m=\u001b[39mrandom_proposals,\n\u001b[1;32m    335\u001b[0m                                                                  acquisition\u001b[38;5;241m=\u001b[39macquisition,\n\u001b[1;32m    336\u001b[0m                                                                  acquisition_constraints\u001b[38;5;241m=\u001b[39macquisition_constraints,\n\u001b[1;32m    337\u001b[0m                                                                  return_dict\u001b[38;5;241m=\u001b[39m\u001b[38;5;28;01mNone\u001b[39;00m,\n\u001b[1;32m    338\u001b[0m                                                                  return_index\u001b[38;5;241m=\u001b[39m\u001b[38;5;241m0\u001b[39m,\n\u001b[1;32m    339\u001b[0m                                                                  dominant_samples\u001b[38;5;241m=\u001b[39mdominant_samples)\n",
      "File \u001b[0;32m<string>:2\u001b[0m, in \u001b[0;36m__getitem__\u001b[0;34m(self, *args, **kwds)\u001b[0m\n",
      "File \u001b[0;32m/ssd003/home/jwilles/condaenvs/gryffin-sphinx/lib/python3.8/multiprocessing/managers.py:850\u001b[0m, in \u001b[0;36mBaseProxy._callmethod\u001b[0;34m(self, methodname, args, kwds)\u001b[0m\n\u001b[1;32m    848\u001b[0m     dispatch(conn, \u001b[38;5;28;01mNone\u001b[39;00m, \u001b[38;5;124m'\u001b[39m\u001b[38;5;124mdecref\u001b[39m\u001b[38;5;124m'\u001b[39m, (token\u001b[38;5;241m.\u001b[39mid,))\n\u001b[1;32m    849\u001b[0m     \u001b[38;5;28;01mreturn\u001b[39;00m proxy\n\u001b[0;32m--> 850\u001b[0m \u001b[38;5;28;01mraise\u001b[39;00m convert_to_error(kind, result)\n",
      "\u001b[0;31mKeyError\u001b[0m: 0"
     ]
    }
   ],
   "source": [
    "observations = []\n",
    "\n",
    "# initialize gryffin\n",
    "gryffin =  Gryffin(config_dict=config)\n",
    "\n",
    "for num_iter in range(budget):\n",
    "\n",
    "\t# alternating sampling strategies, assuming batch size of 1\n",
    "\tidx = num_iter % len(sampling_strategies)\n",
    "\tsampling_strategy = sampling_strategies[idx]\n",
    "\n",
    "\t# ask Gryffin for a new sample\n",
    "\tsamples = gryffin.recommend(observations=observations, sampling_strategies=[sampling_strategy])\n",
    "\n",
    "\tmeasurement = measure(samples[0])\n",
    "\tsamples[0]['bandgap'] = measurement\n",
    "\tobservations.extend(samples)\n",
    "\tprint(f'ITER : {num_iter}\\tSAMPLES : {samples}\\t MEASUREMENT : {measurement}')\n",
    "\n",
    "\n",
    "\t# check for convergence\n",
    "\tif [samples[0]['organic'], samples[0]['anion'], samples[0]['cation']] == optimum:\n",
    "\t\tprint(f'FOUND OPTIMUM AFTER {num_iter+1} ITERATIONS!')\n",
    "\t\tbreak\n"
   ]
  },
  {
   "cell_type": "code",
   "execution_count": null,
   "id": "distinct-guitar",
   "metadata": {},
   "outputs": [],
   "source": []
  }
 ],
 "metadata": {
  "kernelspec": {
   "display_name": "gryffin",
   "language": "python",
   "name": "gryffin"
  },
  "language_info": {
   "codemirror_mode": {
    "name": "ipython",
    "version": 3
   },
   "file_extension": ".py",
   "mimetype": "text/x-python",
   "name": "python",
   "nbconvert_exporter": "python",
   "pygments_lexer": "ipython3",
   "version": "3.8.13"
  }
 },
 "nbformat": 4,
 "nbformat_minor": 5
}
