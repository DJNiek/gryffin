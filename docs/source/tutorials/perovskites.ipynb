{
 "cells": [
  {
   "cell_type": "markdown",
   "id": "bored-wheel",
   "metadata": {},
   "source": [
    "# Perovskites\n",
    "\n",
    "In this tutorial, we will introduce optimization of categorical parameters using Gryffin using a real-world application from materials science. Namely, we will consider optimization of the bandgap of hybrid organic-inorganic perovskite (HOIP) solar cells. This example is taken directly from Section V.B. in the Gryffin [paper](https://aip.scitation.org/doi/full/10.1063/5.0048164) entitled _Discovery of hybrid oraginc-inorganic perovskies_\n",
    "\n",
    "Perovskites solar cells are a promising class of ligh harvesting materials and are typically comprised of inorganic lead halide matrices and contain inorganic or organic anions. This application concerns the design of of hybrid organic-inorganic perovskites (HOIPs) based on a recently reported [dataset](https://www.nature.com/articles/sdata201757). The HOIP candidates of this dataset are designed from a set of four different halide anions, three different group-IV cations and 16 different organic anions, resulting in 192 unique HOIP candidate materials.\n",
    "\n",
    "This example will also detail the use of physicochemical descriptors for the options of categorical variables to further accelerate the optimization rate of Gryffin."
   ]
  },
  {
   "cell_type": "code",
   "execution_count": 1,
   "id": "enclosed-banks",
   "metadata": {},
   "outputs": [],
   "source": [
    "import pickle\n",
    "import numpy as np\n",
    "import pandas as pd"
   ]
  },
  {
   "cell_type": "code",
   "execution_count": 2,
   "id": "announced-reality",
   "metadata": {},
   "outputs": [],
   "source": [
    "from gryffin import Gryffin"
   ]
  },
  {
   "cell_type": "markdown",
   "id": "c737928b",
   "metadata": {},
   "source": [
    "First, we will set some variables that will parameterize our optimization campaign. `budget` indicates the number of bandgap measurements we intend on making. `sampling_strategies` represent the values of $\\lambda$ used by Gryffin's acquisition function. `with_desc` indicates whether or not to utilize the descriptors of the perovskite components. `dynamic` indicates whether or not to use the dynamic formulation of Gryffin to refine the provided descriptors."
   ]
  },
  {
   "cell_type": "code",
   "execution_count": 3,
   "id": "necessary-catch",
   "metadata": {},
   "outputs": [],
   "source": [
    "budget = 192\n",
    "sampling_strategies = np.array([-1, 1])\n",
    "with_desc = True\n",
    "dynamic = True\n",
    "random_seed = 2022"
   ]
  },
  {
   "cell_type": "code",
   "execution_count": 4,
   "id": "encouraging-lambda",
   "metadata": {},
   "outputs": [],
   "source": [
    "# the categorical options corresponding to the minimum bandgap in the dataset (optimum)\n",
    "optimum = ['hydrazinium', 'I', 'Sn'] # value = 1.5249 eV"
   ]
  },
  {
   "cell_type": "code",
   "execution_count": 5,
   "id": "prescribed-bargain",
   "metadata": {},
   "outputs": [],
   "source": [
    "# load in the perovskites dataset as a pandas DataFrame\n",
    "lookup_df = pickle.load(open('perovskites.pkl', 'rb'))"
   ]
  },
  {
   "cell_type": "code",
   "execution_count": 6,
   "id": "banner-advocate",
   "metadata": {},
   "outputs": [],
   "source": [
    "# helper functions\n",
    "def measure(param):\n",
    "    ''' lookup the HSEO6 bandgap for given perovskite composition\n",
    "    '''\n",
    "    match = lookup_df.loc[\n",
    "                (lookup_df.organic == param['organic']) &\n",
    "                (lookup_df.anion == param['anion']) &\n",
    "                (lookup_df.cation == param['cation'])\n",
    "        ]\n",
    "    assert len(match)==1\n",
    "    bandgap = match.loc[:, 'hse06'].to_numpy()[0]\n",
    "    return bandgap\n",
    "\n",
    "def get_descriptors(element, kind):\n",
    "    ''' retrive the descriptors for a given categorical variable option\n",
    "    '''\n",
    "    return lookup_df.loc[(lookup_df[kind]==element)].loc[:, lookup_df.columns.str.startswith(f'{kind}-')].values[0].tolist()"
   ]
  },
  {
   "cell_type": "markdown",
   "id": "9fcf79c6",
   "metadata": {},
   "source": [
    "We will now prepare the descriptors for use with Gryffin. The three categorical variables which together comprise a perovskite material are \n",
    "\n",
    "* halide anions, `anion` (4 options)\n",
    "* group-IV cations, `cation` (3 options)\n",
    "* organic anions, `organic` (16 options)\n",
    "\n",
    "A depiction of the HOIP space is shown below.\n",
    "\n",
    "<div>\n",
    "<img src=\"hoip_space.png\" width=\"600\"/>\n",
    "</div>\n",
    "\n",
    "We characterize the inorganic constituents (`anion` and `cation`) by their electron affinity, ionization energy, mass, and electronegatvity. Organic components are described by their HOMO and LUMO energies, dipole moment, atomization energy, radius of gyration, and molecular weight.\n",
    "\n",
    "For categorcial variables with descriptors, Gryffin accepts a dictonary of descriptors in the following form \n",
    "\n",
    "` descriptors = {'option_0_name': [option_0_desc_0, option_0_desc_1, ...], 'option_1_name':, [...], ...}`\n",
    "\n",
    "For the naive formulation of Gryffin (essentially one-hot-encoding of categorical variables), one should use the following descriptor format\n",
    "\n",
    "` descriptors = {'option_0_name': None, 'option_1_name':, None, ...}`\n",
    "\n",
    "The dictionary `descritptors` can then be passed into the Gryffin config as shown below (with the key `category_details`)"
   ]
  },
  {
   "cell_type": "code",
   "execution_count": 9,
   "id": "familiar-converter",
   "metadata": {},
   "outputs": [],
   "source": [
    "# prepare descriptors\n",
    "organic_options = lookup_df.organic.unique().tolist()\n",
    "anion_options = lookup_df.anion.unique().tolist()\n",
    "cation_options = lookup_df.cation.unique().tolist()\n",
    "![hoip_space](hoip_space.png)"
   ]
  },
  {
   "cell_type": "code",
   "execution_count": 10,
   "id": "assigned-advertiser",
   "metadata": {},
   "outputs": [],
   "source": [
    "if with_desc:\n",
    "    # use physicochemical descriptors - static or dynamic gryffin\n",
    "    desc_organic = {option: get_descriptors(option, 'organic') for option in organic_options}\n",
    "    desc_anion = {option: get_descriptors(option, 'anion') for option in anion_options}\n",
    "    desc_cation = {option: get_descriptors(option, 'cation') for option in cation_options}\n",
    "else:\n",
    "    # no descriptors - naive gryffin\n",
    "    desc_organic = {option: None for option in organic_options}\n",
    "    desc_anion = {option: None for option in anion_options}\n",
    "    desc_cation = {option: None for option in cation_options}"
   ]
  },
  {
   "cell_type": "code",
   "execution_count": 11,
   "id": "compressed-limitation",
   "metadata": {},
   "outputs": [],
   "source": [
    "# gryffin config\n",
    "config = {\n",
    "    \"general\": {\n",
    "        \"num_cpus\": 4,\n",
    "        \"auto_desc_gen\": dynamic,\n",
    "        \"batches\": 1,\n",
    "        \"sampling_strategies\": 1,\n",
    "        \"boosted\":  False,\n",
    "        \"caching\": True,\n",
    "        \"random_seed\": random_seed,\n",
    "        \"acquisition_optimizer\": \"genetic\",\n",
    "        \"verbosity\": 3\n",
    "    },\n",
    "    \"parameters\": [\n",
    "        {\"name\": \"organic\", \"type\": \"categorical\", 'options': organic_options, 'category_details': desc_organic},\n",
    "        {\"name\": \"anion\", \"type\": \"categorical\", 'options': anion_options, 'category_details': desc_anion},\n",
    "        {\"name\": \"cation\", \"type\": \"categorical\",  'options': cation_options, 'category_details': desc_cation},\n",
    "    ],\n",
    "    \"objectives\": [\n",
    "        {\"name\": \"bandgap\", \"goal\": \"min\"},\n",
    "    ]\n",
    "}"
   ]
  },
  {
   "cell_type": "markdown",
   "id": "43d78e83",
   "metadata": {},
   "source": [
    "Once we have set the config, we are ready to commence with the optimization campaign. Here, we measure perovskite bandgaps sequentially (one-at-a-time) using alternating sampling strategies which in this case corresponds to alternating exploitative/explorative behaviour. We continue the optimization until we reach the global optimum (defined above) or we exhaust our budget. "
   ]
  },
  {
   "cell_type": "code",
   "execution_count": 12,
   "id": "allied-scale",
   "metadata": {},
   "outputs": [
    {
     "data": {
      "text/html": [
       "<pre style=\"white-space:pre;overflow-x:auto;line-height:normal;font-family:Menlo,'DejaVu Sans Mono',consolas,'Courier New',monospace\"><span style=\"color: #f4a261; text-decoration-color: #f4a261\">Could not find any observations, falling back to random sampling</span>\n",
       "</pre>\n"
      ],
      "text/plain": [
       "\u001b[38;2;244;162;97mCould not find any observations, falling back to random sampling\u001b[0m\n"
      ]
     },
     "metadata": {},
     "output_type": "display_data"
    },
    {
     "data": {
      "text/html": [
       "<pre style=\"white-space:pre;overflow-x:auto;line-height:normal;font-family:Menlo,'DejaVu Sans Mono',consolas,'Courier New',monospace\">Memory usage: <span style=\"color: #008080; text-decoration-color: #008080; font-weight: bold\">0</span> GB, <span style=\"color: #008080; text-decoration-color: #008080; font-weight: bold\">384</span> MB, <span style=\"color: #008080; text-decoration-color: #008080; font-weight: bold\">163</span> kB\n",
       "</pre>\n"
      ],
      "text/plain": [
       "Memory usage: \u001b[1;36m0\u001b[0m GB, \u001b[1;36m384\u001b[0m MB, \u001b[1;36m163\u001b[0m kB\n"
      ]
     },
     "metadata": {},
     "output_type": "display_data"
    },
    {
     "data": {
      "text/html": [
       "<pre style=\"white-space:pre;overflow-x:auto;line-height:normal;font-family:Menlo,'DejaVu Sans Mono',consolas,'Courier New',monospace\">Overall time required: <span style=\"color: #008080; text-decoration-color: #008080; font-weight: bold\">36.3</span> ms\n",
       "</pre>\n"
      ],
      "text/plain": [
       "Overall time required: \u001b[1;36m36.3\u001b[0m ms\n"
      ]
     },
     "metadata": {},
     "output_type": "display_data"
    },
    {
     "name": "stdout",
     "output_type": "stream",
     "text": [
      "ITER : 0\tSAMPLES : [{'organic': 'dimethylammonium', 'anion': 'Cl', 'cation': 'Pb', 'bandgap': 3.3139}]\t MEASUREMENT : 3.3139\n"
     ]
    },
    {
     "data": {
      "text/html": [
       "<pre style=\"white-space:pre;overflow-x:auto;line-height:normal;font-family:Menlo,'DejaVu Sans Mono',consolas,'Courier New',monospace\"><span style=\"color: #008080; text-decoration-color: #008080; font-weight: bold\">1</span> observations found\n",
       "</pre>\n"
      ],
      "text/plain": [
       "\u001b[1;36m1\u001b[0m observations found\n"
      ]
     },
     "metadata": {},
     "output_type": "display_data"
    },
    {
     "data": {
      "text/html": [
       "<pre style=\"white-space:pre;overflow-x:auto;line-height:normal;font-family:Menlo,'DejaVu Sans Mono',consolas,'Courier New',monospace\">Bayesian neural network trained in <span style=\"color: #008080; text-decoration-color: #008080; font-weight: bold\">4.2</span> s\n",
       "</pre>\n"
      ],
      "text/plain": [
       "Bayesian neural network trained in \u001b[1;36m4.2\u001b[0m s\n"
      ]
     },
     "metadata": {},
     "output_type": "display_data"
    },
    {
     "data": {
      "text/html": [
       "<pre style=\"white-space:pre;overflow-x:auto;line-height:normal;font-family:Menlo,'DejaVu Sans Mono',consolas,'Courier New',monospace\"><span style=\"color: #008080; text-decoration-color: #008080; font-weight: bold\">1200</span> random proposals drawn in <span style=\"color: #008080; text-decoration-color: #008080; font-weight: bold\">68.1</span> ms\n",
       "</pre>\n"
      ],
      "text/plain": [
       "\u001b[1;36m1200\u001b[0m random proposals drawn in \u001b[1;36m68.1\u001b[0m ms\n"
      ]
     },
     "metadata": {},
     "output_type": "display_data"
    },
    {
     "name": "stdout",
     "output_type": "stream",
     "text": [
      "package \"deap\" required by GeneticOptimizer not found, please installpackage \"deap\" required by GeneticOptimizer not found, please install\n",
      "\n",
      "package \"deap\" required by GeneticOptimizer not found, please installpackage \"deap\" required by GeneticOptimizer not found, please install\n",
      "\n"
     ]
    },
    {
     "name": "stderr",
     "output_type": "stream",
     "text": [
      "Process Process-16:\n",
      "Process Process-19:\n",
      "Process Process-18:\n",
      "Process Process-17:\n",
      "Traceback (most recent call last):\n",
      "Traceback (most recent call last):\n",
      "Traceback (most recent call last):\n",
      "Traceback (most recent call last):\n",
      "  File \"/opt/anaconda3/envs/gryffin/lib/python3.7/multiprocessing/process.py\", line 297, in _bootstrap\n",
      "    self.run()\n",
      "  File \"/opt/anaconda3/envs/gryffin/lib/python3.7/multiprocessing/process.py\", line 297, in _bootstrap\n",
      "    self.run()\n",
      "  File \"/opt/anaconda3/envs/gryffin/lib/python3.7/multiprocessing/process.py\", line 297, in _bootstrap\n",
      "    self.run()\n",
      "  File \"/opt/anaconda3/envs/gryffin/lib/python3.7/multiprocessing/process.py\", line 297, in _bootstrap\n",
      "    self.run()\n",
      "  File \"/opt/anaconda3/envs/gryffin/lib/python3.7/multiprocessing/process.py\", line 99, in run\n",
      "    self._target(*self._args, **self._kwargs)\n",
      "  File \"/opt/anaconda3/envs/gryffin/lib/python3.7/multiprocessing/process.py\", line 99, in run\n",
      "    self._target(*self._args, **self._kwargs)\n",
      "  File \"/opt/anaconda3/envs/gryffin/lib/python3.7/multiprocessing/process.py\", line 99, in run\n",
      "    self._target(*self._args, **self._kwargs)\n",
      "  File \"/opt/anaconda3/envs/gryffin/lib/python3.7/multiprocessing/process.py\", line 99, in run\n",
      "    self._target(*self._args, **self._kwargs)\n",
      "  File \"/Users/rileyhickman/Codes/gryffin/src/gryffin/acquisition/acquisition.py\", line 171, in _proposal_optimization_thread\n",
      "    local_optimizer = self._load_optimizer(acquisition_constraints=acquisition_constraints)\n",
      "  File \"/Users/rileyhickman/Codes/gryffin/src/gryffin/acquisition/acquisition.py\", line 171, in _proposal_optimization_thread\n",
      "    local_optimizer = self._load_optimizer(acquisition_constraints=acquisition_constraints)\n",
      "  File \"/Users/rileyhickman/Codes/gryffin/src/gryffin/acquisition/acquisition.py\", line 171, in _proposal_optimization_thread\n",
      "    local_optimizer = self._load_optimizer(acquisition_constraints=acquisition_constraints)\n",
      "  File \"/Users/rileyhickman/Codes/gryffin/src/gryffin/acquisition/acquisition.py\", line 171, in _proposal_optimization_thread\n",
      "    local_optimizer = self._load_optimizer(acquisition_constraints=acquisition_constraints)\n",
      "  File \"/Users/rileyhickman/Codes/gryffin/src/gryffin/acquisition/acquisition.py\", line 356, in _load_optimizer\n",
      "    from .genetic_optimizer import GeneticOptimizer\n",
      "  File \"/Users/rileyhickman/Codes/gryffin/src/gryffin/acquisition/acquisition.py\", line 356, in _load_optimizer\n",
      "    from .genetic_optimizer import GeneticOptimizer\n",
      "  File \"/Users/rileyhickman/Codes/gryffin/src/gryffin/acquisition/acquisition.py\", line 356, in _load_optimizer\n",
      "    from .genetic_optimizer import GeneticOptimizer\n",
      "  File \"/Users/rileyhickman/Codes/gryffin/src/gryffin/acquisition/acquisition.py\", line 356, in _load_optimizer\n",
      "    from .genetic_optimizer import GeneticOptimizer\n",
      "  File \"/Users/rileyhickman/Codes/gryffin/src/gryffin/acquisition/genetic_optimizer/__init__.py\", line 8, in <module>\n",
      "    from .genetic_optimizer import GeneticOptimizer\n",
      "  File \"/Users/rileyhickman/Codes/gryffin/src/gryffin/acquisition/genetic_optimizer/__init__.py\", line 8, in <module>\n",
      "    from .genetic_optimizer import GeneticOptimizer\n",
      "  File \"/Users/rileyhickman/Codes/gryffin/src/gryffin/acquisition/genetic_optimizer/__init__.py\", line 8, in <module>\n",
      "    from .genetic_optimizer import GeneticOptimizer\n",
      "  File \"/Users/rileyhickman/Codes/gryffin/src/gryffin/acquisition/genetic_optimizer/__init__.py\", line 8, in <module>\n",
      "    from .genetic_optimizer import GeneticOptimizer\n",
      "  File \"/Users/rileyhickman/Codes/gryffin/src/gryffin/acquisition/genetic_optimizer/genetic_optimizer.py\", line 9, in <module>\n",
      "    from deap import base, creator, tools\n",
      "  File \"/Users/rileyhickman/Codes/gryffin/src/gryffin/acquisition/genetic_optimizer/genetic_optimizer.py\", line 9, in <module>\n",
      "    from deap import base, creator, tools\n",
      "  File \"/Users/rileyhickman/Codes/gryffin/src/gryffin/acquisition/genetic_optimizer/genetic_optimizer.py\", line 9, in <module>\n",
      "    from deap import base, creator, tools\n",
      "  File \"/Users/rileyhickman/Codes/gryffin/src/gryffin/acquisition/genetic_optimizer/genetic_optimizer.py\", line 9, in <module>\n",
      "    from deap import base, creator, tools\n",
      "ModuleNotFoundError: No module named 'deap'\n",
      "ModuleNotFoundError: No module named 'deap'\n",
      "ModuleNotFoundError: No module named 'deap'\n",
      "ModuleNotFoundError: No module named 'deap'\n"
     ]
    },
    {
     "ename": "KeyError",
     "evalue": "0",
     "output_type": "error",
     "traceback": [
      "\u001b[0;31m---------------------------------------------------------------------------\u001b[0m",
      "\u001b[0;31mKeyError\u001b[0m                                  Traceback (most recent call last)",
      "\u001b[0;32m/var/folders/d8/lrt20kt55zjgtpnv13g2_wt40000gn/T/ipykernel_21305/1000562250.py\u001b[0m in \u001b[0;36m<module>\u001b[0;34m\u001b[0m\n\u001b[1;32m     11\u001b[0m \u001b[0;34m\u001b[0m\u001b[0m\n\u001b[1;32m     12\u001b[0m     \u001b[0;31m# ask Gryffin for a new sample\u001b[0m\u001b[0;34m\u001b[0m\u001b[0;34m\u001b[0m\u001b[0;34m\u001b[0m\u001b[0m\n\u001b[0;32m---> 13\u001b[0;31m     \u001b[0msamples\u001b[0m \u001b[0;34m=\u001b[0m \u001b[0mgryffin\u001b[0m\u001b[0;34m.\u001b[0m\u001b[0mrecommend\u001b[0m\u001b[0;34m(\u001b[0m\u001b[0mobservations\u001b[0m\u001b[0;34m=\u001b[0m\u001b[0mobservations\u001b[0m\u001b[0;34m,\u001b[0m \u001b[0msampling_strategies\u001b[0m\u001b[0;34m=\u001b[0m\u001b[0;34m[\u001b[0m\u001b[0msampling_strategy\u001b[0m\u001b[0;34m]\u001b[0m\u001b[0;34m)\u001b[0m\u001b[0;34m\u001b[0m\u001b[0;34m\u001b[0m\u001b[0m\n\u001b[0m\u001b[1;32m     14\u001b[0m \u001b[0;34m\u001b[0m\u001b[0m\n\u001b[1;32m     15\u001b[0m     \u001b[0mmeasurement\u001b[0m \u001b[0;34m=\u001b[0m \u001b[0mmeasure\u001b[0m\u001b[0;34m(\u001b[0m\u001b[0msamples\u001b[0m\u001b[0;34m[\u001b[0m\u001b[0;36m0\u001b[0m\u001b[0;34m]\u001b[0m\u001b[0;34m)\u001b[0m\u001b[0;34m\u001b[0m\u001b[0;34m\u001b[0m\u001b[0m\n",
      "\u001b[0;32m~/Codes/gryffin/src/gryffin/gryffin.py\u001b[0m in \u001b[0;36mrecommend\u001b[0;34m(self, observations, sampling_strategies, num_batches, as_array)\u001b[0m\n\u001b[1;32m    359\u001b[0m                                                       \u001b[0mnum_samples_per_dim\u001b[0m\u001b[0;34m=\u001b[0m\u001b[0mnum_samples_per_dim\u001b[0m\u001b[0;34m,\u001b[0m\u001b[0;34m\u001b[0m\u001b[0;34m\u001b[0m\u001b[0m\n\u001b[1;32m    360\u001b[0m                                                       \u001b[0mdominant_samples\u001b[0m\u001b[0;34m=\u001b[0m\u001b[0mconstraining_samples\u001b[0m\u001b[0;34m,\u001b[0m\u001b[0;34m\u001b[0m\u001b[0;34m\u001b[0m\u001b[0m\n\u001b[0;32m--> 361\u001b[0;31m                                                       timings_dict=self.timings)\n\u001b[0m\u001b[1;32m    362\u001b[0m \u001b[0;34m\u001b[0m\u001b[0m\n\u001b[1;32m    363\u001b[0m             \u001b[0mself\u001b[0m\u001b[0;34m.\u001b[0m\u001b[0mlog_chapter\u001b[0m\u001b[0;34m(\u001b[0m\u001b[0;34m'Sample Selector'\u001b[0m\u001b[0;34m)\u001b[0m\u001b[0;34m\u001b[0m\u001b[0;34m\u001b[0m\u001b[0m\n",
      "\u001b[0;32m~/Codes/gryffin/src/gryffin/acquisition/acquisition.py\u001b[0m in \u001b[0;36mpropose\u001b[0;34m(self, best_params, bayesian_network, sampling_param_values, num_samples_per_dim, dominant_samples, timings_dict)\u001b[0m\n\u001b[1;32m    440\u001b[0m         optimized_proposals = self._optimize_proposals(random_proposals,\n\u001b[1;32m    441\u001b[0m                                                        \u001b[0macquisition_constraints\u001b[0m\u001b[0;34m=\u001b[0m\u001b[0macquisition_constraints\u001b[0m\u001b[0;34m,\u001b[0m\u001b[0;34m\u001b[0m\u001b[0;34m\u001b[0m\u001b[0m\n\u001b[0;32m--> 442\u001b[0;31m                                                        dominant_samples=dominant_samples)\n\u001b[0m\u001b[1;32m    443\u001b[0m         \u001b[0mend_opt\u001b[0m \u001b[0;34m=\u001b[0m \u001b[0mtime\u001b[0m\u001b[0;34m.\u001b[0m\u001b[0mtime\u001b[0m\u001b[0;34m(\u001b[0m\u001b[0;34m)\u001b[0m\u001b[0;34m\u001b[0m\u001b[0;34m\u001b[0m\u001b[0m\n\u001b[1;32m    444\u001b[0m \u001b[0;34m\u001b[0m\u001b[0m\n",
      "\u001b[0;32m~/Codes/gryffin/src/gryffin/acquisition/acquisition.py\u001b[0m in \u001b[0;36m_optimize_proposals\u001b[0;34m(self, random_proposals, acquisition_constraints, dominant_samples)\u001b[0m\n\u001b[1;32m    325\u001b[0m                 \u001b[0moptimized_batch_samples\u001b[0m \u001b[0;34m=\u001b[0m \u001b[0;34m[\u001b[0m\u001b[0;34m]\u001b[0m\u001b[0;34m\u001b[0m\u001b[0;34m\u001b[0m\u001b[0m\n\u001b[1;32m    326\u001b[0m                 \u001b[0;32mfor\u001b[0m \u001b[0midx\u001b[0m \u001b[0;32min\u001b[0m \u001b[0mrange\u001b[0m\u001b[0;34m(\u001b[0m\u001b[0mlen\u001b[0m\u001b[0;34m(\u001b[0m\u001b[0mrandom_proposals_splits\u001b[0m\u001b[0;34m)\u001b[0m\u001b[0;34m)\u001b[0m\u001b[0;34m:\u001b[0m\u001b[0;34m\u001b[0m\u001b[0;34m\u001b[0m\u001b[0m\n\u001b[0;32m--> 327\u001b[0;31m                     \u001b[0moptimized_batch_samples\u001b[0m\u001b[0;34m.\u001b[0m\u001b[0mextend\u001b[0m\u001b[0;34m(\u001b[0m\u001b[0mreturn_dict\u001b[0m\u001b[0;34m[\u001b[0m\u001b[0midx\u001b[0m\u001b[0;34m]\u001b[0m\u001b[0;34m)\u001b[0m\u001b[0;34m\u001b[0m\u001b[0;34m\u001b[0m\u001b[0m\n\u001b[0m\u001b[1;32m    328\u001b[0m \u001b[0;34m\u001b[0m\u001b[0m\n\u001b[1;32m    329\u001b[0m             \u001b[0;31m# ---------------------\u001b[0m\u001b[0;34m\u001b[0m\u001b[0;34m\u001b[0m\u001b[0;34m\u001b[0m\u001b[0m\n",
      "\u001b[0;32m<string>\u001b[0m in \u001b[0;36m__getitem__\u001b[0;34m(self, *args, **kwds)\u001b[0m\n",
      "\u001b[0;32m/opt/anaconda3/envs/gryffin/lib/python3.7/multiprocessing/managers.py\u001b[0m in \u001b[0;36m_callmethod\u001b[0;34m(self, methodname, args, kwds)\u001b[0m\n\u001b[1;32m    832\u001b[0m             \u001b[0mdispatch\u001b[0m\u001b[0;34m(\u001b[0m\u001b[0mconn\u001b[0m\u001b[0;34m,\u001b[0m \u001b[0;32mNone\u001b[0m\u001b[0;34m,\u001b[0m \u001b[0;34m'decref'\u001b[0m\u001b[0;34m,\u001b[0m \u001b[0;34m(\u001b[0m\u001b[0mtoken\u001b[0m\u001b[0;34m.\u001b[0m\u001b[0mid\u001b[0m\u001b[0;34m,\u001b[0m\u001b[0;34m)\u001b[0m\u001b[0;34m)\u001b[0m\u001b[0;34m\u001b[0m\u001b[0;34m\u001b[0m\u001b[0m\n\u001b[1;32m    833\u001b[0m             \u001b[0;32mreturn\u001b[0m \u001b[0mproxy\u001b[0m\u001b[0;34m\u001b[0m\u001b[0;34m\u001b[0m\u001b[0m\n\u001b[0;32m--> 834\u001b[0;31m         \u001b[0;32mraise\u001b[0m \u001b[0mconvert_to_error\u001b[0m\u001b[0;34m(\u001b[0m\u001b[0mkind\u001b[0m\u001b[0;34m,\u001b[0m \u001b[0mresult\u001b[0m\u001b[0;34m)\u001b[0m\u001b[0;34m\u001b[0m\u001b[0;34m\u001b[0m\u001b[0m\n\u001b[0m\u001b[1;32m    835\u001b[0m \u001b[0;34m\u001b[0m\u001b[0m\n\u001b[1;32m    836\u001b[0m     \u001b[0;32mdef\u001b[0m \u001b[0m_getvalue\u001b[0m\u001b[0;34m(\u001b[0m\u001b[0mself\u001b[0m\u001b[0;34m)\u001b[0m\u001b[0;34m:\u001b[0m\u001b[0;34m\u001b[0m\u001b[0;34m\u001b[0m\u001b[0m\n",
      "\u001b[0;31mKeyError\u001b[0m: 0"
     ]
    }
   ],
   "source": [
    "observations = []\n",
    "\n",
    "# initialize gryffin\n",
    "gryffin =  Gryffin(config_dict=config)\n",
    "\n",
    "for num_iter in range(budget):\n",
    "\n",
    "    # alternating sampling strategies, assuming batch size of 1\n",
    "    idx = num_iter % len(sampling_strategies)\n",
    "    sampling_strategy = sampling_strategies[idx]\n",
    "\n",
    "    # ask Gryffin for a new sample\n",
    "    samples = gryffin.recommend(observations=observations, sampling_strategies=[sampling_strategy])\n",
    "\n",
    "    measurement = measure(samples[0])\n",
    "    samples[0]['bandgap'] = measurement\n",
    "    observations.extend(samples)\n",
    "    print(f'ITER : {num_iter}\\tSAMPLES : {samples}\\t MEASUREMENT : {measurement}')\n",
    "\n",
    "\n",
    "    # check for convergence\n",
    "    if [samples[0]['organic'], samples[0]['anion'], samples[0]['cation']] == optimum:\n",
    "        print(f'FOUND OPTIMUM AFTER {num_iter+1} ITERATIONS!')\n",
    "        break\n"
   ]
  },
  {
   "cell_type": "markdown",
   "id": "270d25e0",
   "metadata": {},
   "source": [
    "After repeated executions of this experiment, one can compare the average performance of different optimization strategies based on their ability to efficeintly identify HOIP candidates with promising bandgaps. For instance, in the plot below we compare various optimization strategies using the percentage of the parameter space explored before identifying the candidate with the smallest bandgap. Efficient optimizers will thus need to explore a smaller fraction of the space before measuring the optimum.\n",
    "\n",
    "<div>\n",
    "<img src=\"hoip_optimizer_performance.png\" width=\"600\"/>\n",
    "</div>\n",
    "\n",
    "\n"
   ]
  },
  {
   "cell_type": "code",
   "execution_count": null,
   "id": "8ae84a83",
   "metadata": {},
   "outputs": [],
   "source": []
  }
 ],
 "metadata": {
  "kernelspec": {
   "display_name": "gryffin",
   "language": "python",
   "name": "gryffin"
  },
  "language_info": {
   "codemirror_mode": {
    "name": "ipython",
    "version": 3
   },
   "file_extension": ".py",
   "mimetype": "text/x-python",
   "name": "python",
   "nbconvert_exporter": "python",
   "pygments_lexer": "ipython3",
   "version": "3.7.13"
  }
 },
 "nbformat": 4,
 "nbformat_minor": 5
}
