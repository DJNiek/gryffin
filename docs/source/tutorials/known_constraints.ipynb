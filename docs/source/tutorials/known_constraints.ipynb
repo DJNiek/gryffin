{
 "cells": [
  {
   "cell_type": "markdown",
   "id": "second-guarantee",
   "metadata": {},
   "source": [
    "# Known Constraints"
   ]
  },
  {
   "cell_type": "code",
   "execution_count": 1,
   "id": "trained-intelligence",
   "metadata": {},
   "outputs": [
    {
     "name": "stdout",
     "output_type": "stream",
     "text": [
      "Using matplotlib backend: <object object at 0x7fe9040141e0>\n"
     ]
    }
   ],
   "source": [
    "%matplotlib\n",
    "import os\n",
    "os.environ['TF_CPP_MIN_LOG_LEVEL'] = '3' "
   ]
  },
  {
   "cell_type": "code",
   "execution_count": 2,
   "id": "duplicate-savannah",
   "metadata": {},
   "outputs": [],
   "source": [
    "from gryffin import Gryffin"
   ]
  },
  {
   "cell_type": "code",
   "execution_count": 3,
   "id": "wanted-extent",
   "metadata": {},
   "outputs": [],
   "source": [
    "import olympus\n",
    "from olympus import Surface"
   ]
  },
  {
   "cell_type": "code",
   "execution_count": 4,
   "id": "million-submission",
   "metadata": {},
   "outputs": [],
   "source": [
    "import numpy as np"
   ]
  },
  {
   "cell_type": "code",
   "execution_count": 5,
   "id": "applicable-savannah",
   "metadata": {},
   "outputs": [],
   "source": [
    "BUDGET = 24\n",
    "PLOT = True\n",
    "SAMPLING_SRATEGIES = np.array([-1, 1])\n",
    "surface = Surface(kind='Dejong', param_dim=2)"
   ]
  },
  {
   "cell_type": "code",
   "execution_count": 6,
   "id": "double-verification",
   "metadata": {},
   "outputs": [],
   "source": [
    "# gryffin config\n",
    "config = {\n",
    "\t\"general\": {\n",
    "\t\t\"num_cpus\": 4,\n",
    "\t\t\"auto_desc_gen\": False,\n",
    "\t\t\"batches\": 1,\n",
    "\t\t\"sampling_strategies\": 1,\n",
    "\t\t\"boosted\":  False,\n",
    "\t\t\"caching\": True,\n",
    "\t\t\"random_seed\": 2021,\n",
    "\t\t\"acquisition_optimizer\": \"adam\",\n",
    "\t\t\"verbosity\": 3\n",
    "\t\t},\n",
    "\t\"parameters\": [\n",
    "\t\t{\"name\": \"param_0\", \"type\": \"continuous\", \"low\": 0.0, \"high\": 1.0},\n",
    "\t\t{\"name\": \"param_1\", \"type\": \"continuous\", \"low\": 0.0, \"high\": 1.0},\n",
    "\t],\n",
    "\t\"objectives\": [\n",
    "\t\t{\"name\": \"obj\", \"goal\": \"min\"},\n",
    "\t]\n",
    "}"
   ]
  },
  {
   "cell_type": "code",
   "execution_count": 7,
   "id": "delayed-sydney",
   "metadata": {},
   "outputs": [],
   "source": [
    "# constraints\n",
    "def known_constraints(param):\n",
    "\t''' constraint that the sum of the parameter values must\n",
    "\tless than 0.8\n",
    "\t'''\n",
    "\tparam_0_val = param['param_0']\n",
    "\tparam_1_val = param['param_1']\n",
    "\tif param_0_val + param_1_val > 1.2:\n",
    "\t\treturn False\n",
    "\telse:\n",
    "\t\treturn True\n",
    "\n",
    "# initialize gryffin\n",
    "gryffin = Gryffin(\n",
    "\tconfig_dict=config,\n",
    "\tknown_constraints=known_constraints,\n",
    ")"
   ]
  },
  {
   "cell_type": "code",
   "execution_count": 8,
   "id": "compressed-blast",
   "metadata": {},
   "outputs": [],
   "source": [
    "if PLOT:\n",
    "\timport matplotlib.pyplot as plt\n",
    "\timport seaborn as sns\n",
    "\tfig, axes = plt.subplots(1, 2, figsize=(10, 5), sharey=True)\n",
    "\taxes = axes.flatten()\n",
    "\tplt.ion()\n"
   ]
  },
  {
   "cell_type": "code",
   "execution_count": 16,
   "id": "spoken-italy",
   "metadata": {},
   "outputs": [
    {
     "data": {
      "text/html": [
       "<pre style=\"white-space:pre;overflow-x:auto;line-height:normal;font-family:Menlo,'DejaVu Sans Mono',consolas,'Courier New',monospace\"><span style=\"color: #f4a261; text-decoration-color: #f4a261\">Could not find any observations, falling back to random sampling</span>\n",
       "</pre>\n"
      ],
      "text/plain": [
       "\u001b[38;2;244;162;97mCould not find any observations, falling back to random sampling\u001b[0m\n"
      ]
     },
     "metadata": {},
     "output_type": "display_data"
    },
    {
     "data": {
      "text/html": [
       "<pre style=\"white-space:pre;overflow-x:auto;line-height:normal;font-family:Menlo,'DejaVu Sans Mono',consolas,'Courier New',monospace\">Memory usage: <span style=\"color: #008080; text-decoration-color: #008080; font-weight: bold\">0</span> GB, <span style=\"color: #008080; text-decoration-color: #008080; font-weight: bold\">555</span> MB, <span style=\"color: #008080; text-decoration-color: #008080; font-weight: bold\">892</span> kB\n",
       "</pre>\n"
      ],
      "text/plain": [
       "Memory usage: \u001b[1;36m0\u001b[0m GB, \u001b[1;36m555\u001b[0m MB, \u001b[1;36m892\u001b[0m kB\n"
      ]
     },
     "metadata": {},
     "output_type": "display_data"
    },
    {
     "data": {
      "text/html": [
       "<pre style=\"white-space:pre;overflow-x:auto;line-height:normal;font-family:Menlo,'DejaVu Sans Mono',consolas,'Courier New',monospace\">Overall time required: <span style=\"color: #008080; text-decoration-color: #008080; font-weight: bold\">9.0</span> ms\n",
       "</pre>\n"
      ],
      "text/plain": [
       "Overall time required: \u001b[1;36m9.0\u001b[0m ms\n"
      ]
     },
     "metadata": {},
     "output_type": "display_data"
    },
    {
     "data": {
      "text/html": [
       "<pre style=\"white-space:pre;overflow-x:auto;line-height:normal;font-family:Menlo,'DejaVu Sans Mono',consolas,'Courier New',monospace\"><span style=\"color: #008080; text-decoration-color: #008080; font-weight: bold\">1</span> observations found\n",
       "</pre>\n"
      ],
      "text/plain": [
       "\u001b[1;36m1\u001b[0m observations found\n"
      ]
     },
     "metadata": {},
     "output_type": "display_data"
    },
    {
     "data": {
      "text/html": [
       "<pre style=\"white-space:pre;overflow-x:auto;line-height:normal;font-family:Menlo,'DejaVu Sans Mono',consolas,'Courier New',monospace\">Bayesian neural network trained in <span style=\"color: #008080; text-decoration-color: #008080; font-weight: bold\">5.2</span> s\n",
       "</pre>\n"
      ],
      "text/plain": [
       "Bayesian neural network trained in \u001b[1;36m5.2\u001b[0m s\n"
      ]
     },
     "metadata": {},
     "output_type": "display_data"
    },
    {
     "data": {
      "text/html": [
       "<pre style=\"white-space:pre;overflow-x:auto;line-height:normal;font-family:Menlo,'DejaVu Sans Mono',consolas,'Courier New',monospace\"><span style=\"color: #008080; text-decoration-color: #008080; font-weight: bold\">800</span> random proposals drawn in <span style=\"color: #008080; text-decoration-color: #008080; font-weight: bold\">134.0</span> ms\n",
       "</pre>\n"
      ],
      "text/plain": [
       "\u001b[1;36m800\u001b[0m random proposals drawn in \u001b[1;36m134.0\u001b[0m ms\n"
      ]
     },
     "metadata": {},
     "output_type": "display_data"
    },
    {
     "data": {
      "text/html": [
       "<pre style=\"white-space:pre;overflow-x:auto;line-height:normal;font-family:Menlo,'DejaVu Sans Mono',consolas,'Courier New',monospace\"><span style=\"color: #008080; text-decoration-color: #008080; font-weight: bold\">800</span> proposals optimized in <span style=\"color: #008080; text-decoration-color: #008080; font-weight: bold\">2.7</span> s using <span style=\"color: #008080; text-decoration-color: #008080; font-weight: bold\">4</span> CPUs\n",
       "</pre>\n"
      ],
      "text/plain": [
       "\u001b[1;36m800\u001b[0m proposals optimized in \u001b[1;36m2.7\u001b[0m s using \u001b[1;36m4\u001b[0m CPUs\n"
      ]
     },
     "metadata": {},
     "output_type": "display_data"
    },
    {
     "data": {
      "text/html": [
       "<pre style=\"white-space:pre;overflow-x:auto;line-height:normal;font-family:Menlo,'DejaVu Sans Mono',consolas,'Courier New',monospace\">Acquisition tasks for <span style=\"color: #008080; text-decoration-color: #008080; font-weight: bold\">1</span> sampling strategy performed in <span style=\"color: #008080; text-decoration-color: #008080; font-weight: bold\">2.8</span> s\n",
       "</pre>\n"
      ],
      "text/plain": [
       "Acquisition tasks for \u001b[1;36m1\u001b[0m sampling strategy performed in \u001b[1;36m2.8\u001b[0m s\n"
      ]
     },
     "metadata": {},
     "output_type": "display_data"
    },
    {
     "data": {
      "text/html": [
       "<pre style=\"white-space:pre;overflow-x:auto;line-height:normal;font-family:Menlo,'DejaVu Sans Mono',consolas,'Courier New',monospace\"><span style=\"color: #008080; text-decoration-color: #008080; font-weight: bold\">1</span> sample selected in <span style=\"color: #008080; text-decoration-color: #008080; font-weight: bold\">318.8</span> ms\n",
       "</pre>\n"
      ],
      "text/plain": [
       "\u001b[1;36m1\u001b[0m sample selected in \u001b[1;36m318.8\u001b[0m ms\n"
      ]
     },
     "metadata": {},
     "output_type": "display_data"
    },
    {
     "data": {
      "text/html": [
       "<pre style=\"white-space:pre;overflow-x:auto;line-height:normal;font-family:Menlo,'DejaVu Sans Mono',consolas,'Courier New',monospace\">Memory usage: <span style=\"color: #008080; text-decoration-color: #008080; font-weight: bold\">0</span> GB, <span style=\"color: #008080; text-decoration-color: #008080; font-weight: bold\">556</span> MB, <span style=\"color: #008080; text-decoration-color: #008080; font-weight: bold\">0</span> kB\n",
       "</pre>\n"
      ],
      "text/plain": [
       "Memory usage: \u001b[1;36m0\u001b[0m GB, \u001b[1;36m556\u001b[0m MB, \u001b[1;36m0\u001b[0m kB\n"
      ]
     },
     "metadata": {},
     "output_type": "display_data"
    },
    {
     "data": {
      "text/html": [
       "<pre style=\"white-space:pre;overflow-x:auto;line-height:normal;font-family:Menlo,'DejaVu Sans Mono',consolas,'Courier New',monospace\">Overall time required: <span style=\"color: #008080; text-decoration-color: #008080; font-weight: bold\">8.4</span> s\n",
       "</pre>\n"
      ],
      "text/plain": [
       "Overall time required: \u001b[1;36m8.4\u001b[0m s\n"
      ]
     },
     "metadata": {},
     "output_type": "display_data"
    },
    {
     "data": {
      "text/html": [
       "<pre style=\"white-space:pre;overflow-x:auto;line-height:normal;font-family:Menlo,'DejaVu Sans Mono',consolas,'Courier New',monospace\"><span style=\"color: #008080; text-decoration-color: #008080; font-weight: bold\">2</span> observations found\n",
       "</pre>\n"
      ],
      "text/plain": [
       "\u001b[1;36m2\u001b[0m observations found\n"
      ]
     },
     "metadata": {},
     "output_type": "display_data"
    },
    {
     "data": {
      "text/html": [
       "<pre style=\"white-space:pre;overflow-x:auto;line-height:normal;font-family:Menlo,'DejaVu Sans Mono',consolas,'Courier New',monospace\">Bayesian neural network trained in <span style=\"color: #008080; text-decoration-color: #008080; font-weight: bold\">6.6</span> s\n",
       "</pre>\n"
      ],
      "text/plain": [
       "Bayesian neural network trained in \u001b[1;36m6.6\u001b[0m s\n"
      ]
     },
     "metadata": {},
     "output_type": "display_data"
    },
    {
     "data": {
      "text/html": [
       "<pre style=\"white-space:pre;overflow-x:auto;line-height:normal;font-family:Menlo,'DejaVu Sans Mono',consolas,'Courier New',monospace\"><span style=\"color: #008080; text-decoration-color: #008080; font-weight: bold\">800</span> random proposals drawn in <span style=\"color: #008080; text-decoration-color: #008080; font-weight: bold\">140.2</span> ms\n",
       "</pre>\n"
      ],
      "text/plain": [
       "\u001b[1;36m800\u001b[0m random proposals drawn in \u001b[1;36m140.2\u001b[0m ms\n"
      ]
     },
     "metadata": {},
     "output_type": "display_data"
    },
    {
     "data": {
      "text/html": [
       "<pre style=\"white-space:pre;overflow-x:auto;line-height:normal;font-family:Menlo,'DejaVu Sans Mono',consolas,'Courier New',monospace\"><span style=\"color: #008080; text-decoration-color: #008080; font-weight: bold\">800</span> proposals optimized in <span style=\"color: #008080; text-decoration-color: #008080; font-weight: bold\">4.2</span> s using <span style=\"color: #008080; text-decoration-color: #008080; font-weight: bold\">4</span> CPUs\n",
       "</pre>\n"
      ],
      "text/plain": [
       "\u001b[1;36m800\u001b[0m proposals optimized in \u001b[1;36m4.2\u001b[0m s using \u001b[1;36m4\u001b[0m CPUs\n"
      ]
     },
     "metadata": {},
     "output_type": "display_data"
    },
    {
     "data": {
      "text/html": [
       "<pre style=\"white-space:pre;overflow-x:auto;line-height:normal;font-family:Menlo,'DejaVu Sans Mono',consolas,'Courier New',monospace\">Acquisition tasks for <span style=\"color: #008080; text-decoration-color: #008080; font-weight: bold\">1</span> sampling strategy performed in <span style=\"color: #008080; text-decoration-color: #008080; font-weight: bold\">5.5</span> s\n",
       "</pre>\n"
      ],
      "text/plain": [
       "Acquisition tasks for \u001b[1;36m1\u001b[0m sampling strategy performed in \u001b[1;36m5.5\u001b[0m s\n"
      ]
     },
     "metadata": {},
     "output_type": "display_data"
    },
    {
     "data": {
      "text/html": [
       "<pre style=\"white-space:pre;overflow-x:auto;line-height:normal;font-family:Menlo,'DejaVu Sans Mono',consolas,'Courier New',monospace\"><span style=\"color: #008080; text-decoration-color: #008080; font-weight: bold\">1</span> sample selected in <span style=\"color: #008080; text-decoration-color: #008080; font-weight: bold\">1.8</span> s\n",
       "</pre>\n"
      ],
      "text/plain": [
       "\u001b[1;36m1\u001b[0m sample selected in \u001b[1;36m1.8\u001b[0m s\n"
      ]
     },
     "metadata": {},
     "output_type": "display_data"
    },
    {
     "data": {
      "text/html": [
       "<pre style=\"white-space:pre;overflow-x:auto;line-height:normal;font-family:Menlo,'DejaVu Sans Mono',consolas,'Courier New',monospace\">Memory usage: <span style=\"color: #008080; text-decoration-color: #008080; font-weight: bold\">0</span> GB, <span style=\"color: #008080; text-decoration-color: #008080; font-weight: bold\">559</span> MB, <span style=\"color: #008080; text-decoration-color: #008080; font-weight: bold\">80</span> kB\n",
       "</pre>\n"
      ],
      "text/plain": [
       "Memory usage: \u001b[1;36m0\u001b[0m GB, \u001b[1;36m559\u001b[0m MB, \u001b[1;36m80\u001b[0m kB\n"
      ]
     },
     "metadata": {},
     "output_type": "display_data"
    },
    {
     "data": {
      "text/html": [
       "<pre style=\"white-space:pre;overflow-x:auto;line-height:normal;font-family:Menlo,'DejaVu Sans Mono',consolas,'Courier New',monospace\">Overall time required: <span style=\"color: #008080; text-decoration-color: #008080; font-weight: bold\">14.0</span> s\n",
       "</pre>\n"
      ],
      "text/plain": [
       "Overall time required: \u001b[1;36m14.0\u001b[0m s\n"
      ]
     },
     "metadata": {},
     "output_type": "display_data"
    },
    {
     "data": {
      "text/html": [
       "<pre style=\"white-space:pre;overflow-x:auto;line-height:normal;font-family:Menlo,'DejaVu Sans Mono',consolas,'Courier New',monospace\"><span style=\"color: #008080; text-decoration-color: #008080; font-weight: bold\">3</span> observations found\n",
       "</pre>\n"
      ],
      "text/plain": [
       "\u001b[1;36m3\u001b[0m observations found\n"
      ]
     },
     "metadata": {},
     "output_type": "display_data"
    },
    {
     "data": {
      "text/html": [
       "<pre style=\"white-space:pre;overflow-x:auto;line-height:normal;font-family:Menlo,'DejaVu Sans Mono',consolas,'Courier New',monospace\">Bayesian neural network trained in <span style=\"color: #008080; text-decoration-color: #008080; font-weight: bold\">5.6</span> s\n",
       "</pre>\n"
      ],
      "text/plain": [
       "Bayesian neural network trained in \u001b[1;36m5.6\u001b[0m s\n"
      ]
     },
     "metadata": {},
     "output_type": "display_data"
    },
    {
     "data": {
      "text/html": [
       "<pre style=\"white-space:pre;overflow-x:auto;line-height:normal;font-family:Menlo,'DejaVu Sans Mono',consolas,'Courier New',monospace\"><span style=\"color: #008080; text-decoration-color: #008080; font-weight: bold\">800</span> random proposals drawn in <span style=\"color: #008080; text-decoration-color: #008080; font-weight: bold\">126.9</span> ms\n",
       "</pre>\n"
      ],
      "text/plain": [
       "\u001b[1;36m800\u001b[0m random proposals drawn in \u001b[1;36m126.9\u001b[0m ms\n"
      ]
     },
     "metadata": {},
     "output_type": "display_data"
    },
    {
     "data": {
      "text/html": [
       "<pre style=\"white-space:pre;overflow-x:auto;line-height:normal;font-family:Menlo,'DejaVu Sans Mono',consolas,'Courier New',monospace\"><span style=\"color: #008080; text-decoration-color: #008080; font-weight: bold\">800</span> proposals optimized in <span style=\"color: #008080; text-decoration-color: #008080; font-weight: bold\">2.0</span> s using <span style=\"color: #008080; text-decoration-color: #008080; font-weight: bold\">4</span> CPUs\n",
       "</pre>\n"
      ],
      "text/plain": [
       "\u001b[1;36m800\u001b[0m proposals optimized in \u001b[1;36m2.0\u001b[0m s using \u001b[1;36m4\u001b[0m CPUs\n"
      ]
     },
     "metadata": {},
     "output_type": "display_data"
    },
    {
     "data": {
      "text/html": [
       "<pre style=\"white-space:pre;overflow-x:auto;line-height:normal;font-family:Menlo,'DejaVu Sans Mono',consolas,'Courier New',monospace\">Acquisition tasks for <span style=\"color: #008080; text-decoration-color: #008080; font-weight: bold\">1</span> sampling strategy performed in <span style=\"color: #008080; text-decoration-color: #008080; font-weight: bold\">2.2</span> s\n",
       "</pre>\n"
      ],
      "text/plain": [
       "Acquisition tasks for \u001b[1;36m1\u001b[0m sampling strategy performed in \u001b[1;36m2.2\u001b[0m s\n"
      ]
     },
     "metadata": {},
     "output_type": "display_data"
    },
    {
     "data": {
      "text/html": [
       "<pre style=\"white-space:pre;overflow-x:auto;line-height:normal;font-family:Menlo,'DejaVu Sans Mono',consolas,'Courier New',monospace\"><span style=\"color: #008080; text-decoration-color: #008080; font-weight: bold\">1</span> sample selected in <span style=\"color: #008080; text-decoration-color: #008080; font-weight: bold\">296.2</span> ms\n",
       "</pre>\n"
      ],
      "text/plain": [
       "\u001b[1;36m1\u001b[0m sample selected in \u001b[1;36m296.2\u001b[0m ms\n"
      ]
     },
     "metadata": {},
     "output_type": "display_data"
    },
    {
     "data": {
      "text/html": [
       "<pre style=\"white-space:pre;overflow-x:auto;line-height:normal;font-family:Menlo,'DejaVu Sans Mono',consolas,'Courier New',monospace\">Memory usage: <span style=\"color: #008080; text-decoration-color: #008080; font-weight: bold\">0</span> GB, <span style=\"color: #008080; text-decoration-color: #008080; font-weight: bold\">560</span> MB, <span style=\"color: #008080; text-decoration-color: #008080; font-weight: bold\">560</span> kB\n",
       "</pre>\n"
      ],
      "text/plain": [
       "Memory usage: \u001b[1;36m0\u001b[0m GB, \u001b[1;36m560\u001b[0m MB, \u001b[1;36m560\u001b[0m kB\n"
      ]
     },
     "metadata": {},
     "output_type": "display_data"
    },
    {
     "data": {
      "text/html": [
       "<pre style=\"white-space:pre;overflow-x:auto;line-height:normal;font-family:Menlo,'DejaVu Sans Mono',consolas,'Courier New',monospace\">Overall time required: <span style=\"color: #008080; text-decoration-color: #008080; font-weight: bold\">8.1</span> s\n",
       "</pre>\n"
      ],
      "text/plain": [
       "Overall time required: \u001b[1;36m8.1\u001b[0m s\n"
      ]
     },
     "metadata": {},
     "output_type": "display_data"
    },
    {
     "data": {
      "text/html": [
       "<pre style=\"white-space:pre;overflow-x:auto;line-height:normal;font-family:Menlo,'DejaVu Sans Mono',consolas,'Courier New',monospace\"><span style=\"color: #008080; text-decoration-color: #008080; font-weight: bold\">4</span> observations found\n",
       "</pre>\n"
      ],
      "text/plain": [
       "\u001b[1;36m4\u001b[0m observations found\n"
      ]
     },
     "metadata": {},
     "output_type": "display_data"
    },
    {
     "data": {
      "text/html": [
       "<pre style=\"white-space:pre;overflow-x:auto;line-height:normal;font-family:Menlo,'DejaVu Sans Mono',consolas,'Courier New',monospace\">Bayesian neural network trained in <span style=\"color: #008080; text-decoration-color: #008080; font-weight: bold\">5.5</span> s\n",
       "</pre>\n"
      ],
      "text/plain": [
       "Bayesian neural network trained in \u001b[1;36m5.5\u001b[0m s\n"
      ]
     },
     "metadata": {},
     "output_type": "display_data"
    },
    {
     "data": {
      "text/html": [
       "<pre style=\"white-space:pre;overflow-x:auto;line-height:normal;font-family:Menlo,'DejaVu Sans Mono',consolas,'Courier New',monospace\"><span style=\"color: #008080; text-decoration-color: #008080; font-weight: bold\">800</span> random proposals drawn in <span style=\"color: #008080; text-decoration-color: #008080; font-weight: bold\">139.1</span> ms\n",
       "</pre>\n"
      ],
      "text/plain": [
       "\u001b[1;36m800\u001b[0m random proposals drawn in \u001b[1;36m139.1\u001b[0m ms\n"
      ]
     },
     "metadata": {},
     "output_type": "display_data"
    },
    {
     "data": {
      "text/html": [
       "<pre style=\"white-space:pre;overflow-x:auto;line-height:normal;font-family:Menlo,'DejaVu Sans Mono',consolas,'Courier New',monospace\"><span style=\"color: #008080; text-decoration-color: #008080; font-weight: bold\">800</span> proposals optimized in <span style=\"color: #008080; text-decoration-color: #008080; font-weight: bold\">4.0</span> s using <span style=\"color: #008080; text-decoration-color: #008080; font-weight: bold\">4</span> CPUs\n",
       "</pre>\n"
      ],
      "text/plain": [
       "\u001b[1;36m800\u001b[0m proposals optimized in \u001b[1;36m4.0\u001b[0m s using \u001b[1;36m4\u001b[0m CPUs\n"
      ]
     },
     "metadata": {},
     "output_type": "display_data"
    },
    {
     "data": {
      "text/html": [
       "<pre style=\"white-space:pre;overflow-x:auto;line-height:normal;font-family:Menlo,'DejaVu Sans Mono',consolas,'Courier New',monospace\">Acquisition tasks for <span style=\"color: #008080; text-decoration-color: #008080; font-weight: bold\">1</span> sampling strategy performed in <span style=\"color: #008080; text-decoration-color: #008080; font-weight: bold\">4.2</span> s\n",
       "</pre>\n"
      ],
      "text/plain": [
       "Acquisition tasks for \u001b[1;36m1\u001b[0m sampling strategy performed in \u001b[1;36m4.2\u001b[0m s\n"
      ]
     },
     "metadata": {},
     "output_type": "display_data"
    },
    {
     "data": {
      "text/html": [
       "<pre style=\"white-space:pre;overflow-x:auto;line-height:normal;font-family:Menlo,'DejaVu Sans Mono',consolas,'Courier New',monospace\"><span style=\"color: #008080; text-decoration-color: #008080; font-weight: bold\">1</span> sample selected in <span style=\"color: #008080; text-decoration-color: #008080; font-weight: bold\">354.1</span> ms\n",
       "</pre>\n"
      ],
      "text/plain": [
       "\u001b[1;36m1\u001b[0m sample selected in \u001b[1;36m354.1\u001b[0m ms\n"
      ]
     },
     "metadata": {},
     "output_type": "display_data"
    },
    {
     "data": {
      "text/html": [
       "<pre style=\"white-space:pre;overflow-x:auto;line-height:normal;font-family:Menlo,'DejaVu Sans Mono',consolas,'Courier New',monospace\">Memory usage: <span style=\"color: #008080; text-decoration-color: #008080; font-weight: bold\">0</span> GB, <span style=\"color: #008080; text-decoration-color: #008080; font-weight: bold\">560</span> MB, <span style=\"color: #008080; text-decoration-color: #008080; font-weight: bold\">560</span> kB\n",
       "</pre>\n"
      ],
      "text/plain": [
       "Memory usage: \u001b[1;36m0\u001b[0m GB, \u001b[1;36m560\u001b[0m MB, \u001b[1;36m560\u001b[0m kB\n"
      ]
     },
     "metadata": {},
     "output_type": "display_data"
    },
    {
     "data": {
      "text/html": [
       "<pre style=\"white-space:pre;overflow-x:auto;line-height:normal;font-family:Menlo,'DejaVu Sans Mono',consolas,'Courier New',monospace\">Overall time required: <span style=\"color: #008080; text-decoration-color: #008080; font-weight: bold\">10.1</span> s\n",
       "</pre>\n"
      ],
      "text/plain": [
       "Overall time required: \u001b[1;36m10.1\u001b[0m s\n"
      ]
     },
     "metadata": {},
     "output_type": "display_data"
    },
    {
     "data": {
      "text/html": [
       "<pre style=\"white-space:pre;overflow-x:auto;line-height:normal;font-family:Menlo,'DejaVu Sans Mono',consolas,'Courier New',monospace\"><span style=\"color: #008080; text-decoration-color: #008080; font-weight: bold\">5</span> observations found\n",
       "</pre>\n"
      ],
      "text/plain": [
       "\u001b[1;36m5\u001b[0m observations found\n"
      ]
     },
     "metadata": {},
     "output_type": "display_data"
    },
    {
     "data": {
      "text/html": [
       "<pre style=\"white-space:pre;overflow-x:auto;line-height:normal;font-family:Menlo,'DejaVu Sans Mono',consolas,'Courier New',monospace\">Bayesian neural network trained in <span style=\"color: #008080; text-decoration-color: #008080; font-weight: bold\">5.9</span> s\n",
       "</pre>\n"
      ],
      "text/plain": [
       "Bayesian neural network trained in \u001b[1;36m5.9\u001b[0m s\n"
      ]
     },
     "metadata": {},
     "output_type": "display_data"
    },
    {
     "data": {
      "text/html": [
       "<pre style=\"white-space:pre;overflow-x:auto;line-height:normal;font-family:Menlo,'DejaVu Sans Mono',consolas,'Courier New',monospace\"><span style=\"color: #008080; text-decoration-color: #008080; font-weight: bold\">800</span> random proposals drawn in <span style=\"color: #008080; text-decoration-color: #008080; font-weight: bold\">399.4</span> ms\n",
       "</pre>\n"
      ],
      "text/plain": [
       "\u001b[1;36m800\u001b[0m random proposals drawn in \u001b[1;36m399.4\u001b[0m ms\n"
      ]
     },
     "metadata": {},
     "output_type": "display_data"
    },
    {
     "data": {
      "text/html": [
       "<pre style=\"white-space:pre;overflow-x:auto;line-height:normal;font-family:Menlo,'DejaVu Sans Mono',consolas,'Courier New',monospace\"><span style=\"color: #008080; text-decoration-color: #008080; font-weight: bold\">800</span> proposals optimized in <span style=\"color: #008080; text-decoration-color: #008080; font-weight: bold\">2.9</span> s using <span style=\"color: #008080; text-decoration-color: #008080; font-weight: bold\">4</span> CPUs\n",
       "</pre>\n"
      ],
      "text/plain": [
       "\u001b[1;36m800\u001b[0m proposals optimized in \u001b[1;36m2.9\u001b[0m s using \u001b[1;36m4\u001b[0m CPUs\n"
      ]
     },
     "metadata": {},
     "output_type": "display_data"
    },
    {
     "data": {
      "text/html": [
       "<pre style=\"white-space:pre;overflow-x:auto;line-height:normal;font-family:Menlo,'DejaVu Sans Mono',consolas,'Courier New',monospace\">Acquisition tasks for <span style=\"color: #008080; text-decoration-color: #008080; font-weight: bold\">1</span> sampling strategy performed in <span style=\"color: #008080; text-decoration-color: #008080; font-weight: bold\">3.4</span> s\n",
       "</pre>\n"
      ],
      "text/plain": [
       "Acquisition tasks for \u001b[1;36m1\u001b[0m sampling strategy performed in \u001b[1;36m3.4\u001b[0m s\n"
      ]
     },
     "metadata": {},
     "output_type": "display_data"
    },
    {
     "data": {
      "text/html": [
       "<pre style=\"white-space:pre;overflow-x:auto;line-height:normal;font-family:Menlo,'DejaVu Sans Mono',consolas,'Courier New',monospace\"><span style=\"color: #008080; text-decoration-color: #008080; font-weight: bold\">1</span> sample selected in <span style=\"color: #008080; text-decoration-color: #008080; font-weight: bold\">341.6</span> ms\n",
       "</pre>\n"
      ],
      "text/plain": [
       "\u001b[1;36m1\u001b[0m sample selected in \u001b[1;36m341.6\u001b[0m ms\n"
      ]
     },
     "metadata": {},
     "output_type": "display_data"
    },
    {
     "data": {
      "text/html": [
       "<pre style=\"white-space:pre;overflow-x:auto;line-height:normal;font-family:Menlo,'DejaVu Sans Mono',consolas,'Courier New',monospace\">Memory usage: <span style=\"color: #008080; text-decoration-color: #008080; font-weight: bold\">0</span> GB, <span style=\"color: #008080; text-decoration-color: #008080; font-weight: bold\">562</span> MB, <span style=\"color: #008080; text-decoration-color: #008080; font-weight: bold\">388</span> kB\n",
       "</pre>\n"
      ],
      "text/plain": [
       "Memory usage: \u001b[1;36m0\u001b[0m GB, \u001b[1;36m562\u001b[0m MB, \u001b[1;36m388\u001b[0m kB\n"
      ]
     },
     "metadata": {},
     "output_type": "display_data"
    },
    {
     "data": {
      "text/html": [
       "<pre style=\"white-space:pre;overflow-x:auto;line-height:normal;font-family:Menlo,'DejaVu Sans Mono',consolas,'Courier New',monospace\">Overall time required: <span style=\"color: #008080; text-decoration-color: #008080; font-weight: bold\">9.6</span> s\n",
       "</pre>\n"
      ],
      "text/plain": [
       "Overall time required: \u001b[1;36m9.6\u001b[0m s\n"
      ]
     },
     "metadata": {},
     "output_type": "display_data"
    },
    {
     "data": {
      "text/html": [
       "<pre style=\"white-space:pre;overflow-x:auto;line-height:normal;font-family:Menlo,'DejaVu Sans Mono',consolas,'Courier New',monospace\"><span style=\"color: #008080; text-decoration-color: #008080; font-weight: bold\">6</span> observations found\n",
       "</pre>\n"
      ],
      "text/plain": [
       "\u001b[1;36m6\u001b[0m observations found\n"
      ]
     },
     "metadata": {},
     "output_type": "display_data"
    },
    {
     "data": {
      "text/html": [
       "<pre style=\"white-space:pre;overflow-x:auto;line-height:normal;font-family:Menlo,'DejaVu Sans Mono',consolas,'Courier New',monospace\">Bayesian neural network trained in <span style=\"color: #008080; text-decoration-color: #008080; font-weight: bold\">5.2</span> s\n",
       "</pre>\n"
      ],
      "text/plain": [
       "Bayesian neural network trained in \u001b[1;36m5.2\u001b[0m s\n"
      ]
     },
     "metadata": {},
     "output_type": "display_data"
    },
    {
     "data": {
      "text/html": [
       "<pre style=\"white-space:pre;overflow-x:auto;line-height:normal;font-family:Menlo,'DejaVu Sans Mono',consolas,'Courier New',monospace\"><span style=\"color: #008080; text-decoration-color: #008080; font-weight: bold\">800</span> random proposals drawn in <span style=\"color: #008080; text-decoration-color: #008080; font-weight: bold\">138.9</span> ms\n",
       "</pre>\n"
      ],
      "text/plain": [
       "\u001b[1;36m800\u001b[0m random proposals drawn in \u001b[1;36m138.9\u001b[0m ms\n"
      ]
     },
     "metadata": {},
     "output_type": "display_data"
    },
    {
     "data": {
      "text/html": [
       "<pre style=\"white-space:pre;overflow-x:auto;line-height:normal;font-family:Menlo,'DejaVu Sans Mono',consolas,'Courier New',monospace\"><span style=\"color: #008080; text-decoration-color: #008080; font-weight: bold\">800</span> proposals optimized in <span style=\"color: #008080; text-decoration-color: #008080; font-weight: bold\">2.9</span> s using <span style=\"color: #008080; text-decoration-color: #008080; font-weight: bold\">4</span> CPUs\n",
       "</pre>\n"
      ],
      "text/plain": [
       "\u001b[1;36m800\u001b[0m proposals optimized in \u001b[1;36m2.9\u001b[0m s using \u001b[1;36m4\u001b[0m CPUs\n"
      ]
     },
     "metadata": {},
     "output_type": "display_data"
    },
    {
     "data": {
      "text/html": [
       "<pre style=\"white-space:pre;overflow-x:auto;line-height:normal;font-family:Menlo,'DejaVu Sans Mono',consolas,'Courier New',monospace\">Acquisition tasks for <span style=\"color: #008080; text-decoration-color: #008080; font-weight: bold\">1</span> sampling strategy performed in <span style=\"color: #008080; text-decoration-color: #008080; font-weight: bold\">3.1</span> s\n",
       "</pre>\n"
      ],
      "text/plain": [
       "Acquisition tasks for \u001b[1;36m1\u001b[0m sampling strategy performed in \u001b[1;36m3.1\u001b[0m s\n"
      ]
     },
     "metadata": {},
     "output_type": "display_data"
    },
    {
     "data": {
      "text/html": [
       "<pre style=\"white-space:pre;overflow-x:auto;line-height:normal;font-family:Menlo,'DejaVu Sans Mono',consolas,'Courier New',monospace\"><span style=\"color: #008080; text-decoration-color: #008080; font-weight: bold\">1</span> sample selected in <span style=\"color: #008080; text-decoration-color: #008080; font-weight: bold\">354.5</span> ms\n",
       "</pre>\n"
      ],
      "text/plain": [
       "\u001b[1;36m1\u001b[0m sample selected in \u001b[1;36m354.5\u001b[0m ms\n"
      ]
     },
     "metadata": {},
     "output_type": "display_data"
    },
    {
     "data": {
      "text/html": [
       "<pre style=\"white-space:pre;overflow-x:auto;line-height:normal;font-family:Menlo,'DejaVu Sans Mono',consolas,'Courier New',monospace\">Memory usage: <span style=\"color: #008080; text-decoration-color: #008080; font-weight: bold\">0</span> GB, <span style=\"color: #008080; text-decoration-color: #008080; font-weight: bold\">562</span> MB, <span style=\"color: #008080; text-decoration-color: #008080; font-weight: bold\">396</span> kB\n",
       "</pre>\n"
      ],
      "text/plain": [
       "Memory usage: \u001b[1;36m0\u001b[0m GB, \u001b[1;36m562\u001b[0m MB, \u001b[1;36m396\u001b[0m kB\n"
      ]
     },
     "metadata": {},
     "output_type": "display_data"
    },
    {
     "data": {
      "text/html": [
       "<pre style=\"white-space:pre;overflow-x:auto;line-height:normal;font-family:Menlo,'DejaVu Sans Mono',consolas,'Courier New',monospace\">Overall time required: <span style=\"color: #008080; text-decoration-color: #008080; font-weight: bold\">8.6</span> s\n",
       "</pre>\n"
      ],
      "text/plain": [
       "Overall time required: \u001b[1;36m8.6\u001b[0m s\n"
      ]
     },
     "metadata": {},
     "output_type": "display_data"
    },
    {
     "data": {
      "text/html": [
       "<pre style=\"white-space:pre;overflow-x:auto;line-height:normal;font-family:Menlo,'DejaVu Sans Mono',consolas,'Courier New',monospace\"><span style=\"color: #008080; text-decoration-color: #008080; font-weight: bold\">7</span> observations found\n",
       "</pre>\n"
      ],
      "text/plain": [
       "\u001b[1;36m7\u001b[0m observations found\n"
      ]
     },
     "metadata": {},
     "output_type": "display_data"
    },
    {
     "data": {
      "text/html": [
       "<pre style=\"white-space:pre;overflow-x:auto;line-height:normal;font-family:Menlo,'DejaVu Sans Mono',consolas,'Courier New',monospace\">Bayesian neural network trained in <span style=\"color: #008080; text-decoration-color: #008080; font-weight: bold\">5.3</span> s\n",
       "</pre>\n"
      ],
      "text/plain": [
       "Bayesian neural network trained in \u001b[1;36m5.3\u001b[0m s\n"
      ]
     },
     "metadata": {},
     "output_type": "display_data"
    },
    {
     "data": {
      "text/html": [
       "<pre style=\"white-space:pre;overflow-x:auto;line-height:normal;font-family:Menlo,'DejaVu Sans Mono',consolas,'Courier New',monospace\"><span style=\"color: #008080; text-decoration-color: #008080; font-weight: bold\">800</span> random proposals drawn in <span style=\"color: #008080; text-decoration-color: #008080; font-weight: bold\">136.5</span> ms\n",
       "</pre>\n"
      ],
      "text/plain": [
       "\u001b[1;36m800\u001b[0m random proposals drawn in \u001b[1;36m136.5\u001b[0m ms\n"
      ]
     },
     "metadata": {},
     "output_type": "display_data"
    },
    {
     "data": {
      "text/html": [
       "<pre style=\"white-space:pre;overflow-x:auto;line-height:normal;font-family:Menlo,'DejaVu Sans Mono',consolas,'Courier New',monospace\"><span style=\"color: #008080; text-decoration-color: #008080; font-weight: bold\">800</span> proposals optimized in <span style=\"color: #008080; text-decoration-color: #008080; font-weight: bold\">3.3</span> s using <span style=\"color: #008080; text-decoration-color: #008080; font-weight: bold\">4</span> CPUs\n",
       "</pre>\n"
      ],
      "text/plain": [
       "\u001b[1;36m800\u001b[0m proposals optimized in \u001b[1;36m3.3\u001b[0m s using \u001b[1;36m4\u001b[0m CPUs\n"
      ]
     },
     "metadata": {},
     "output_type": "display_data"
    },
    {
     "data": {
      "text/html": [
       "<pre style=\"white-space:pre;overflow-x:auto;line-height:normal;font-family:Menlo,'DejaVu Sans Mono',consolas,'Courier New',monospace\">Acquisition tasks for <span style=\"color: #008080; text-decoration-color: #008080; font-weight: bold\">1</span> sampling strategy performed in <span style=\"color: #008080; text-decoration-color: #008080; font-weight: bold\">3.5</span> s\n",
       "</pre>\n"
      ],
      "text/plain": [
       "Acquisition tasks for \u001b[1;36m1\u001b[0m sampling strategy performed in \u001b[1;36m3.5\u001b[0m s\n"
      ]
     },
     "metadata": {},
     "output_type": "display_data"
    },
    {
     "data": {
      "text/html": [
       "<pre style=\"white-space:pre;overflow-x:auto;line-height:normal;font-family:Menlo,'DejaVu Sans Mono',consolas,'Courier New',monospace\"><span style=\"color: #008080; text-decoration-color: #008080; font-weight: bold\">1</span> sample selected in <span style=\"color: #008080; text-decoration-color: #008080; font-weight: bold\">394.6</span> ms\n",
       "</pre>\n"
      ],
      "text/plain": [
       "\u001b[1;36m1\u001b[0m sample selected in \u001b[1;36m394.6\u001b[0m ms\n"
      ]
     },
     "metadata": {},
     "output_type": "display_data"
    },
    {
     "data": {
      "text/html": [
       "<pre style=\"white-space:pre;overflow-x:auto;line-height:normal;font-family:Menlo,'DejaVu Sans Mono',consolas,'Courier New',monospace\">Memory usage: <span style=\"color: #008080; text-decoration-color: #008080; font-weight: bold\">0</span> GB, <span style=\"color: #008080; text-decoration-color: #008080; font-weight: bold\">562</span> MB, <span style=\"color: #008080; text-decoration-color: #008080; font-weight: bold\">396</span> kB\n",
       "</pre>\n"
      ],
      "text/plain": [
       "Memory usage: \u001b[1;36m0\u001b[0m GB, \u001b[1;36m562\u001b[0m MB, \u001b[1;36m396\u001b[0m kB\n"
      ]
     },
     "metadata": {},
     "output_type": "display_data"
    },
    {
     "data": {
      "text/html": [
       "<pre style=\"white-space:pre;overflow-x:auto;line-height:normal;font-family:Menlo,'DejaVu Sans Mono',consolas,'Courier New',monospace\">Overall time required: <span style=\"color: #008080; text-decoration-color: #008080; font-weight: bold\">9.2</span> s\n",
       "</pre>\n"
      ],
      "text/plain": [
       "Overall time required: \u001b[1;36m9.2\u001b[0m s\n"
      ]
     },
     "metadata": {},
     "output_type": "display_data"
    },
    {
     "data": {
      "text/html": [
       "<pre style=\"white-space:pre;overflow-x:auto;line-height:normal;font-family:Menlo,'DejaVu Sans Mono',consolas,'Courier New',monospace\"><span style=\"color: #008080; text-decoration-color: #008080; font-weight: bold\">8</span> observations found\n",
       "</pre>\n"
      ],
      "text/plain": [
       "\u001b[1;36m8\u001b[0m observations found\n"
      ]
     },
     "metadata": {},
     "output_type": "display_data"
    },
    {
     "data": {
      "text/html": [
       "<pre style=\"white-space:pre;overflow-x:auto;line-height:normal;font-family:Menlo,'DejaVu Sans Mono',consolas,'Courier New',monospace\">Bayesian neural network trained in <span style=\"color: #008080; text-decoration-color: #008080; font-weight: bold\">6.2</span> s\n",
       "</pre>\n"
      ],
      "text/plain": [
       "Bayesian neural network trained in \u001b[1;36m6.2\u001b[0m s\n"
      ]
     },
     "metadata": {},
     "output_type": "display_data"
    },
    {
     "data": {
      "text/html": [
       "<pre style=\"white-space:pre;overflow-x:auto;line-height:normal;font-family:Menlo,'DejaVu Sans Mono',consolas,'Courier New',monospace\"><span style=\"color: #008080; text-decoration-color: #008080; font-weight: bold\">800</span> random proposals drawn in <span style=\"color: #008080; text-decoration-color: #008080; font-weight: bold\">133.3</span> ms\n",
       "</pre>\n"
      ],
      "text/plain": [
       "\u001b[1;36m800\u001b[0m random proposals drawn in \u001b[1;36m133.3\u001b[0m ms\n"
      ]
     },
     "metadata": {},
     "output_type": "display_data"
    },
    {
     "data": {
      "text/html": [
       "<pre style=\"white-space:pre;overflow-x:auto;line-height:normal;font-family:Menlo,'DejaVu Sans Mono',consolas,'Courier New',monospace\"><span style=\"color: #008080; text-decoration-color: #008080; font-weight: bold\">800</span> proposals optimized in <span style=\"color: #008080; text-decoration-color: #008080; font-weight: bold\">3.3</span> s using <span style=\"color: #008080; text-decoration-color: #008080; font-weight: bold\">4</span> CPUs\n",
       "</pre>\n"
      ],
      "text/plain": [
       "\u001b[1;36m800\u001b[0m proposals optimized in \u001b[1;36m3.3\u001b[0m s using \u001b[1;36m4\u001b[0m CPUs\n"
      ]
     },
     "metadata": {},
     "output_type": "display_data"
    },
    {
     "data": {
      "text/html": [
       "<pre style=\"white-space:pre;overflow-x:auto;line-height:normal;font-family:Menlo,'DejaVu Sans Mono',consolas,'Courier New',monospace\">Acquisition tasks for <span style=\"color: #008080; text-decoration-color: #008080; font-weight: bold\">1</span> sampling strategy performed in <span style=\"color: #008080; text-decoration-color: #008080; font-weight: bold\">3.5</span> s\n",
       "</pre>\n"
      ],
      "text/plain": [
       "Acquisition tasks for \u001b[1;36m1\u001b[0m sampling strategy performed in \u001b[1;36m3.5\u001b[0m s\n"
      ]
     },
     "metadata": {},
     "output_type": "display_data"
    },
    {
     "data": {
      "text/html": [
       "<pre style=\"white-space:pre;overflow-x:auto;line-height:normal;font-family:Menlo,'DejaVu Sans Mono',consolas,'Courier New',monospace\"><span style=\"color: #008080; text-decoration-color: #008080; font-weight: bold\">1</span> sample selected in <span style=\"color: #008080; text-decoration-color: #008080; font-weight: bold\">418.5</span> ms\n",
       "</pre>\n"
      ],
      "text/plain": [
       "\u001b[1;36m1\u001b[0m sample selected in \u001b[1;36m418.5\u001b[0m ms\n"
      ]
     },
     "metadata": {},
     "output_type": "display_data"
    },
    {
     "data": {
      "text/html": [
       "<pre style=\"white-space:pre;overflow-x:auto;line-height:normal;font-family:Menlo,'DejaVu Sans Mono',consolas,'Courier New',monospace\">Memory usage: <span style=\"color: #008080; text-decoration-color: #008080; font-weight: bold\">0</span> GB, <span style=\"color: #008080; text-decoration-color: #008080; font-weight: bold\">562</span> MB, <span style=\"color: #008080; text-decoration-color: #008080; font-weight: bold\">396</span> kB\n",
       "</pre>\n"
      ],
      "text/plain": [
       "Memory usage: \u001b[1;36m0\u001b[0m GB, \u001b[1;36m562\u001b[0m MB, \u001b[1;36m396\u001b[0m kB\n"
      ]
     },
     "metadata": {},
     "output_type": "display_data"
    },
    {
     "data": {
      "text/html": [
       "<pre style=\"white-space:pre;overflow-x:auto;line-height:normal;font-family:Menlo,'DejaVu Sans Mono',consolas,'Courier New',monospace\">Overall time required: <span style=\"color: #008080; text-decoration-color: #008080; font-weight: bold\">10.2</span> s\n",
       "</pre>\n"
      ],
      "text/plain": [
       "Overall time required: \u001b[1;36m10.2\u001b[0m s\n"
      ]
     },
     "metadata": {},
     "output_type": "display_data"
    },
    {
     "data": {
      "text/html": [
       "<pre style=\"white-space:pre;overflow-x:auto;line-height:normal;font-family:Menlo,'DejaVu Sans Mono',consolas,'Courier New',monospace\"><span style=\"color: #008080; text-decoration-color: #008080; font-weight: bold\">9</span> observations found\n",
       "</pre>\n"
      ],
      "text/plain": [
       "\u001b[1;36m9\u001b[0m observations found\n"
      ]
     },
     "metadata": {},
     "output_type": "display_data"
    },
    {
     "data": {
      "text/html": [
       "<pre style=\"white-space:pre;overflow-x:auto;line-height:normal;font-family:Menlo,'DejaVu Sans Mono',consolas,'Courier New',monospace\">Bayesian neural network trained in <span style=\"color: #008080; text-decoration-color: #008080; font-weight: bold\">5.3</span> s\n",
       "</pre>\n"
      ],
      "text/plain": [
       "Bayesian neural network trained in \u001b[1;36m5.3\u001b[0m s\n"
      ]
     },
     "metadata": {},
     "output_type": "display_data"
    },
    {
     "data": {
      "text/html": [
       "<pre style=\"white-space:pre;overflow-x:auto;line-height:normal;font-family:Menlo,'DejaVu Sans Mono',consolas,'Courier New',monospace\"><span style=\"color: #008080; text-decoration-color: #008080; font-weight: bold\">800</span> random proposals drawn in <span style=\"color: #008080; text-decoration-color: #008080; font-weight: bold\">142.9</span> ms\n",
       "</pre>\n"
      ],
      "text/plain": [
       "\u001b[1;36m800\u001b[0m random proposals drawn in \u001b[1;36m142.9\u001b[0m ms\n"
      ]
     },
     "metadata": {},
     "output_type": "display_data"
    },
    {
     "data": {
      "text/html": [
       "<pre style=\"white-space:pre;overflow-x:auto;line-height:normal;font-family:Menlo,'DejaVu Sans Mono',consolas,'Courier New',monospace\"><span style=\"color: #008080; text-decoration-color: #008080; font-weight: bold\">800</span> proposals optimized in <span style=\"color: #008080; text-decoration-color: #008080; font-weight: bold\">3.7</span> s using <span style=\"color: #008080; text-decoration-color: #008080; font-weight: bold\">4</span> CPUs\n",
       "</pre>\n"
      ],
      "text/plain": [
       "\u001b[1;36m800\u001b[0m proposals optimized in \u001b[1;36m3.7\u001b[0m s using \u001b[1;36m4\u001b[0m CPUs\n"
      ]
     },
     "metadata": {},
     "output_type": "display_data"
    },
    {
     "data": {
      "text/html": [
       "<pre style=\"white-space:pre;overflow-x:auto;line-height:normal;font-family:Menlo,'DejaVu Sans Mono',consolas,'Courier New',monospace\">Acquisition tasks for <span style=\"color: #008080; text-decoration-color: #008080; font-weight: bold\">1</span> sampling strategy performed in <span style=\"color: #008080; text-decoration-color: #008080; font-weight: bold\">3.9</span> s\n",
       "</pre>\n"
      ],
      "text/plain": [
       "Acquisition tasks for \u001b[1;36m1\u001b[0m sampling strategy performed in \u001b[1;36m3.9\u001b[0m s\n"
      ]
     },
     "metadata": {},
     "output_type": "display_data"
    },
    {
     "data": {
      "text/html": [
       "<pre style=\"white-space:pre;overflow-x:auto;line-height:normal;font-family:Menlo,'DejaVu Sans Mono',consolas,'Courier New',monospace\"><span style=\"color: #008080; text-decoration-color: #008080; font-weight: bold\">1</span> sample selected in <span style=\"color: #008080; text-decoration-color: #008080; font-weight: bold\">428.5</span> ms\n",
       "</pre>\n"
      ],
      "text/plain": [
       "\u001b[1;36m1\u001b[0m sample selected in \u001b[1;36m428.5\u001b[0m ms\n"
      ]
     },
     "metadata": {},
     "output_type": "display_data"
    },
    {
     "data": {
      "text/html": [
       "<pre style=\"white-space:pre;overflow-x:auto;line-height:normal;font-family:Menlo,'DejaVu Sans Mono',consolas,'Courier New',monospace\">Memory usage: <span style=\"color: #008080; text-decoration-color: #008080; font-weight: bold\">0</span> GB, <span style=\"color: #008080; text-decoration-color: #008080; font-weight: bold\">562</span> MB, <span style=\"color: #008080; text-decoration-color: #008080; font-weight: bold\">396</span> kB\n",
       "</pre>\n"
      ],
      "text/plain": [
       "Memory usage: \u001b[1;36m0\u001b[0m GB, \u001b[1;36m562\u001b[0m MB, \u001b[1;36m396\u001b[0m kB\n"
      ]
     },
     "metadata": {},
     "output_type": "display_data"
    },
    {
     "data": {
      "text/html": [
       "<pre style=\"white-space:pre;overflow-x:auto;line-height:normal;font-family:Menlo,'DejaVu Sans Mono',consolas,'Courier New',monospace\">Overall time required: <span style=\"color: #008080; text-decoration-color: #008080; font-weight: bold\">9.7</span> s\n",
       "</pre>\n"
      ],
      "text/plain": [
       "Overall time required: \u001b[1;36m9.7\u001b[0m s\n"
      ]
     },
     "metadata": {},
     "output_type": "display_data"
    },
    {
     "data": {
      "text/html": [
       "<pre style=\"white-space:pre;overflow-x:auto;line-height:normal;font-family:Menlo,'DejaVu Sans Mono',consolas,'Courier New',monospace\"><span style=\"color: #008080; text-decoration-color: #008080; font-weight: bold\">10</span> observations found\n",
       "</pre>\n"
      ],
      "text/plain": [
       "\u001b[1;36m10\u001b[0m observations found\n"
      ]
     },
     "metadata": {},
     "output_type": "display_data"
    },
    {
     "data": {
      "text/html": [
       "<pre style=\"white-space:pre;overflow-x:auto;line-height:normal;font-family:Menlo,'DejaVu Sans Mono',consolas,'Courier New',monospace\">Bayesian neural network trained in <span style=\"color: #008080; text-decoration-color: #008080; font-weight: bold\">5.4</span> s\n",
       "</pre>\n"
      ],
      "text/plain": [
       "Bayesian neural network trained in \u001b[1;36m5.4\u001b[0m s\n"
      ]
     },
     "metadata": {},
     "output_type": "display_data"
    },
    {
     "data": {
      "text/html": [
       "<pre style=\"white-space:pre;overflow-x:auto;line-height:normal;font-family:Menlo,'DejaVu Sans Mono',consolas,'Courier New',monospace\"><span style=\"color: #008080; text-decoration-color: #008080; font-weight: bold\">800</span> random proposals drawn in <span style=\"color: #008080; text-decoration-color: #008080; font-weight: bold\">563.7</span> ms\n",
       "</pre>\n"
      ],
      "text/plain": [
       "\u001b[1;36m800\u001b[0m random proposals drawn in \u001b[1;36m563.7\u001b[0m ms\n"
      ]
     },
     "metadata": {},
     "output_type": "display_data"
    },
    {
     "data": {
      "text/html": [
       "<pre style=\"white-space:pre;overflow-x:auto;line-height:normal;font-family:Menlo,'DejaVu Sans Mono',consolas,'Courier New',monospace\"><span style=\"color: #008080; text-decoration-color: #008080; font-weight: bold\">800</span> proposals optimized in <span style=\"color: #008080; text-decoration-color: #008080; font-weight: bold\">3.9</span> s using <span style=\"color: #008080; text-decoration-color: #008080; font-weight: bold\">4</span> CPUs\n",
       "</pre>\n"
      ],
      "text/plain": [
       "\u001b[1;36m800\u001b[0m proposals optimized in \u001b[1;36m3.9\u001b[0m s using \u001b[1;36m4\u001b[0m CPUs\n"
      ]
     },
     "metadata": {},
     "output_type": "display_data"
    },
    {
     "data": {
      "text/html": [
       "<pre style=\"white-space:pre;overflow-x:auto;line-height:normal;font-family:Menlo,'DejaVu Sans Mono',consolas,'Courier New',monospace\">Acquisition tasks for <span style=\"color: #008080; text-decoration-color: #008080; font-weight: bold\">1</span> sampling strategy performed in <span style=\"color: #008080; text-decoration-color: #008080; font-weight: bold\">4.5</span> s\n",
       "</pre>\n"
      ],
      "text/plain": [
       "Acquisition tasks for \u001b[1;36m1\u001b[0m sampling strategy performed in \u001b[1;36m4.5\u001b[0m s\n"
      ]
     },
     "metadata": {},
     "output_type": "display_data"
    },
    {
     "data": {
      "text/html": [
       "<pre style=\"white-space:pre;overflow-x:auto;line-height:normal;font-family:Menlo,'DejaVu Sans Mono',consolas,'Courier New',monospace\"><span style=\"color: #008080; text-decoration-color: #008080; font-weight: bold\">1</span> sample selected in <span style=\"color: #008080; text-decoration-color: #008080; font-weight: bold\">434.4</span> ms\n",
       "</pre>\n"
      ],
      "text/plain": [
       "\u001b[1;36m1\u001b[0m sample selected in \u001b[1;36m434.4\u001b[0m ms\n"
      ]
     },
     "metadata": {},
     "output_type": "display_data"
    },
    {
     "data": {
      "text/html": [
       "<pre style=\"white-space:pre;overflow-x:auto;line-height:normal;font-family:Menlo,'DejaVu Sans Mono',consolas,'Courier New',monospace\">Memory usage: <span style=\"color: #008080; text-decoration-color: #008080; font-weight: bold\">0</span> GB, <span style=\"color: #008080; text-decoration-color: #008080; font-weight: bold\">562</span> MB, <span style=\"color: #008080; text-decoration-color: #008080; font-weight: bold\">396</span> kB\n",
       "</pre>\n"
      ],
      "text/plain": [
       "Memory usage: \u001b[1;36m0\u001b[0m GB, \u001b[1;36m562\u001b[0m MB, \u001b[1;36m396\u001b[0m kB\n"
      ]
     },
     "metadata": {},
     "output_type": "display_data"
    },
    {
     "data": {
      "text/html": [
       "<pre style=\"white-space:pre;overflow-x:auto;line-height:normal;font-family:Menlo,'DejaVu Sans Mono',consolas,'Courier New',monospace\">Overall time required: <span style=\"color: #008080; text-decoration-color: #008080; font-weight: bold\">10.3</span> s\n",
       "</pre>\n"
      ],
      "text/plain": [
       "Overall time required: \u001b[1;36m10.3\u001b[0m s\n"
      ]
     },
     "metadata": {},
     "output_type": "display_data"
    },
    {
     "data": {
      "text/html": [
       "<pre style=\"white-space:pre;overflow-x:auto;line-height:normal;font-family:Menlo,'DejaVu Sans Mono',consolas,'Courier New',monospace\"><span style=\"color: #008080; text-decoration-color: #008080; font-weight: bold\">11</span> observations found\n",
       "</pre>\n"
      ],
      "text/plain": [
       "\u001b[1;36m11\u001b[0m observations found\n"
      ]
     },
     "metadata": {},
     "output_type": "display_data"
    },
    {
     "data": {
      "text/html": [
       "<pre style=\"white-space:pre;overflow-x:auto;line-height:normal;font-family:Menlo,'DejaVu Sans Mono',consolas,'Courier New',monospace\">Bayesian neural network trained in <span style=\"color: #008080; text-decoration-color: #008080; font-weight: bold\">5.4</span> s\n",
       "</pre>\n"
      ],
      "text/plain": [
       "Bayesian neural network trained in \u001b[1;36m5.4\u001b[0m s\n"
      ]
     },
     "metadata": {},
     "output_type": "display_data"
    },
    {
     "data": {
      "text/html": [
       "<pre style=\"white-space:pre;overflow-x:auto;line-height:normal;font-family:Menlo,'DejaVu Sans Mono',consolas,'Courier New',monospace\"><span style=\"color: #008080; text-decoration-color: #008080; font-weight: bold\">800</span> random proposals drawn in <span style=\"color: #008080; text-decoration-color: #008080; font-weight: bold\">130.1</span> ms\n",
       "</pre>\n"
      ],
      "text/plain": [
       "\u001b[1;36m800\u001b[0m random proposals drawn in \u001b[1;36m130.1\u001b[0m ms\n"
      ]
     },
     "metadata": {},
     "output_type": "display_data"
    },
    {
     "data": {
      "text/html": [
       "<pre style=\"white-space:pre;overflow-x:auto;line-height:normal;font-family:Menlo,'DejaVu Sans Mono',consolas,'Courier New',monospace\"><span style=\"color: #008080; text-decoration-color: #008080; font-weight: bold\">800</span> proposals optimized in <span style=\"color: #008080; text-decoration-color: #008080; font-weight: bold\">4.5</span> s using <span style=\"color: #008080; text-decoration-color: #008080; font-weight: bold\">4</span> CPUs\n",
       "</pre>\n"
      ],
      "text/plain": [
       "\u001b[1;36m800\u001b[0m proposals optimized in \u001b[1;36m4.5\u001b[0m s using \u001b[1;36m4\u001b[0m CPUs\n"
      ]
     },
     "metadata": {},
     "output_type": "display_data"
    },
    {
     "data": {
      "text/html": [
       "<pre style=\"white-space:pre;overflow-x:auto;line-height:normal;font-family:Menlo,'DejaVu Sans Mono',consolas,'Courier New',monospace\">Acquisition tasks for <span style=\"color: #008080; text-decoration-color: #008080; font-weight: bold\">1</span> sampling strategy performed in <span style=\"color: #008080; text-decoration-color: #008080; font-weight: bold\">4.6</span> s\n",
       "</pre>\n"
      ],
      "text/plain": [
       "Acquisition tasks for \u001b[1;36m1\u001b[0m sampling strategy performed in \u001b[1;36m4.6\u001b[0m s\n"
      ]
     },
     "metadata": {},
     "output_type": "display_data"
    },
    {
     "data": {
      "text/html": [
       "<pre style=\"white-space:pre;overflow-x:auto;line-height:normal;font-family:Menlo,'DejaVu Sans Mono',consolas,'Courier New',monospace\"><span style=\"color: #008080; text-decoration-color: #008080; font-weight: bold\">1</span> sample selected in <span style=\"color: #008080; text-decoration-color: #008080; font-weight: bold\">486.6</span> ms\n",
       "</pre>\n"
      ],
      "text/plain": [
       "\u001b[1;36m1\u001b[0m sample selected in \u001b[1;36m486.6\u001b[0m ms\n"
      ]
     },
     "metadata": {},
     "output_type": "display_data"
    },
    {
     "data": {
      "text/html": [
       "<pre style=\"white-space:pre;overflow-x:auto;line-height:normal;font-family:Menlo,'DejaVu Sans Mono',consolas,'Courier New',monospace\">Memory usage: <span style=\"color: #008080; text-decoration-color: #008080; font-weight: bold\">0</span> GB, <span style=\"color: #008080; text-decoration-color: #008080; font-weight: bold\">562</span> MB, <span style=\"color: #008080; text-decoration-color: #008080; font-weight: bold\">396</span> kB\n",
       "</pre>\n"
      ],
      "text/plain": [
       "Memory usage: \u001b[1;36m0\u001b[0m GB, \u001b[1;36m562\u001b[0m MB, \u001b[1;36m396\u001b[0m kB\n"
      ]
     },
     "metadata": {},
     "output_type": "display_data"
    },
    {
     "data": {
      "text/html": [
       "<pre style=\"white-space:pre;overflow-x:auto;line-height:normal;font-family:Menlo,'DejaVu Sans Mono',consolas,'Courier New',monospace\">Overall time required: <span style=\"color: #008080; text-decoration-color: #008080; font-weight: bold\">10.5</span> s\n",
       "</pre>\n"
      ],
      "text/plain": [
       "Overall time required: \u001b[1;36m10.5\u001b[0m s\n"
      ]
     },
     "metadata": {},
     "output_type": "display_data"
    },
    {
     "data": {
      "text/html": [
       "<pre style=\"white-space:pre;overflow-x:auto;line-height:normal;font-family:Menlo,'DejaVu Sans Mono',consolas,'Courier New',monospace\"><span style=\"color: #008080; text-decoration-color: #008080; font-weight: bold\">12</span> observations found\n",
       "</pre>\n"
      ],
      "text/plain": [
       "\u001b[1;36m12\u001b[0m observations found\n"
      ]
     },
     "metadata": {},
     "output_type": "display_data"
    },
    {
     "data": {
      "text/html": [
       "<pre style=\"white-space:pre;overflow-x:auto;line-height:normal;font-family:Menlo,'DejaVu Sans Mono',consolas,'Courier New',monospace\">Bayesian neural network trained in <span style=\"color: #008080; text-decoration-color: #008080; font-weight: bold\">5.3</span> s\n",
       "</pre>\n"
      ],
      "text/plain": [
       "Bayesian neural network trained in \u001b[1;36m5.3\u001b[0m s\n"
      ]
     },
     "metadata": {},
     "output_type": "display_data"
    },
    {
     "data": {
      "text/html": [
       "<pre style=\"white-space:pre;overflow-x:auto;line-height:normal;font-family:Menlo,'DejaVu Sans Mono',consolas,'Courier New',monospace\"><span style=\"color: #008080; text-decoration-color: #008080; font-weight: bold\">800</span> random proposals drawn in <span style=\"color: #008080; text-decoration-color: #008080; font-weight: bold\">147.5</span> ms\n",
       "</pre>\n"
      ],
      "text/plain": [
       "\u001b[1;36m800\u001b[0m random proposals drawn in \u001b[1;36m147.5\u001b[0m ms\n"
      ]
     },
     "metadata": {},
     "output_type": "display_data"
    },
    {
     "data": {
      "text/html": [
       "<pre style=\"white-space:pre;overflow-x:auto;line-height:normal;font-family:Menlo,'DejaVu Sans Mono',consolas,'Courier New',monospace\"><span style=\"color: #008080; text-decoration-color: #008080; font-weight: bold\">800</span> proposals optimized in <span style=\"color: #008080; text-decoration-color: #008080; font-weight: bold\">4.7</span> s using <span style=\"color: #008080; text-decoration-color: #008080; font-weight: bold\">4</span> CPUs\n",
       "</pre>\n"
      ],
      "text/plain": [
       "\u001b[1;36m800\u001b[0m proposals optimized in \u001b[1;36m4.7\u001b[0m s using \u001b[1;36m4\u001b[0m CPUs\n"
      ]
     },
     "metadata": {},
     "output_type": "display_data"
    },
    {
     "data": {
      "text/html": [
       "<pre style=\"white-space:pre;overflow-x:auto;line-height:normal;font-family:Menlo,'DejaVu Sans Mono',consolas,'Courier New',monospace\">Acquisition tasks for <span style=\"color: #008080; text-decoration-color: #008080; font-weight: bold\">1</span> sampling strategy performed in <span style=\"color: #008080; text-decoration-color: #008080; font-weight: bold\">4.9</span> s\n",
       "</pre>\n"
      ],
      "text/plain": [
       "Acquisition tasks for \u001b[1;36m1\u001b[0m sampling strategy performed in \u001b[1;36m4.9\u001b[0m s\n"
      ]
     },
     "metadata": {},
     "output_type": "display_data"
    },
    {
     "data": {
      "text/html": [
       "<pre style=\"white-space:pre;overflow-x:auto;line-height:normal;font-family:Menlo,'DejaVu Sans Mono',consolas,'Courier New',monospace\"><span style=\"color: #008080; text-decoration-color: #008080; font-weight: bold\">1</span> sample selected in <span style=\"color: #008080; text-decoration-color: #008080; font-weight: bold\">1.4</span> s\n",
       "</pre>\n"
      ],
      "text/plain": [
       "\u001b[1;36m1\u001b[0m sample selected in \u001b[1;36m1.4\u001b[0m s\n"
      ]
     },
     "metadata": {},
     "output_type": "display_data"
    },
    {
     "data": {
      "text/html": [
       "<pre style=\"white-space:pre;overflow-x:auto;line-height:normal;font-family:Menlo,'DejaVu Sans Mono',consolas,'Courier New',monospace\">Memory usage: <span style=\"color: #008080; text-decoration-color: #008080; font-weight: bold\">0</span> GB, <span style=\"color: #008080; text-decoration-color: #008080; font-weight: bold\">562</span> MB, <span style=\"color: #008080; text-decoration-color: #008080; font-weight: bold\">444</span> kB\n",
       "</pre>\n"
      ],
      "text/plain": [
       "Memory usage: \u001b[1;36m0\u001b[0m GB, \u001b[1;36m562\u001b[0m MB, \u001b[1;36m444\u001b[0m kB\n"
      ]
     },
     "metadata": {},
     "output_type": "display_data"
    },
    {
     "data": {
      "text/html": [
       "<pre style=\"white-space:pre;overflow-x:auto;line-height:normal;font-family:Menlo,'DejaVu Sans Mono',consolas,'Courier New',monospace\">Overall time required: <span style=\"color: #008080; text-decoration-color: #008080; font-weight: bold\">11.6</span> s\n",
       "</pre>\n"
      ],
      "text/plain": [
       "Overall time required: \u001b[1;36m11.6\u001b[0m s\n"
      ]
     },
     "metadata": {},
     "output_type": "display_data"
    },
    {
     "data": {
      "text/html": [
       "<pre style=\"white-space:pre;overflow-x:auto;line-height:normal;font-family:Menlo,'DejaVu Sans Mono',consolas,'Courier New',monospace\"><span style=\"color: #008080; text-decoration-color: #008080; font-weight: bold\">13</span> observations found\n",
       "</pre>\n"
      ],
      "text/plain": [
       "\u001b[1;36m13\u001b[0m observations found\n"
      ]
     },
     "metadata": {},
     "output_type": "display_data"
    },
    {
     "data": {
      "text/html": [
       "<pre style=\"white-space:pre;overflow-x:auto;line-height:normal;font-family:Menlo,'DejaVu Sans Mono',consolas,'Courier New',monospace\">Bayesian neural network trained in <span style=\"color: #008080; text-decoration-color: #008080; font-weight: bold\">8.4</span> s\n",
       "</pre>\n"
      ],
      "text/plain": [
       "Bayesian neural network trained in \u001b[1;36m8.4\u001b[0m s\n"
      ]
     },
     "metadata": {},
     "output_type": "display_data"
    },
    {
     "data": {
      "text/html": [
       "<pre style=\"white-space:pre;overflow-x:auto;line-height:normal;font-family:Menlo,'DejaVu Sans Mono',consolas,'Courier New',monospace\"><span style=\"color: #008080; text-decoration-color: #008080; font-weight: bold\">800</span> random proposals drawn in <span style=\"color: #008080; text-decoration-color: #008080; font-weight: bold\">145.9</span> ms\n",
       "</pre>\n"
      ],
      "text/plain": [
       "\u001b[1;36m800\u001b[0m random proposals drawn in \u001b[1;36m145.9\u001b[0m ms\n"
      ]
     },
     "metadata": {},
     "output_type": "display_data"
    },
    {
     "data": {
      "text/html": [
       "<pre style=\"white-space:pre;overflow-x:auto;line-height:normal;font-family:Menlo,'DejaVu Sans Mono',consolas,'Courier New',monospace\"><span style=\"color: #008080; text-decoration-color: #008080; font-weight: bold\">800</span> proposals optimized in <span style=\"color: #008080; text-decoration-color: #008080; font-weight: bold\">4.4</span> s using <span style=\"color: #008080; text-decoration-color: #008080; font-weight: bold\">4</span> CPUs\n",
       "</pre>\n"
      ],
      "text/plain": [
       "\u001b[1;36m800\u001b[0m proposals optimized in \u001b[1;36m4.4\u001b[0m s using \u001b[1;36m4\u001b[0m CPUs\n"
      ]
     },
     "metadata": {},
     "output_type": "display_data"
    },
    {
     "data": {
      "text/html": [
       "<pre style=\"white-space:pre;overflow-x:auto;line-height:normal;font-family:Menlo,'DejaVu Sans Mono',consolas,'Courier New',monospace\">Acquisition tasks for <span style=\"color: #008080; text-decoration-color: #008080; font-weight: bold\">1</span> sampling strategy performed in <span style=\"color: #008080; text-decoration-color: #008080; font-weight: bold\">4.6</span> s\n",
       "</pre>\n"
      ],
      "text/plain": [
       "Acquisition tasks for \u001b[1;36m1\u001b[0m sampling strategy performed in \u001b[1;36m4.6\u001b[0m s\n"
      ]
     },
     "metadata": {},
     "output_type": "display_data"
    },
    {
     "data": {
      "text/html": [
       "<pre style=\"white-space:pre;overflow-x:auto;line-height:normal;font-family:Menlo,'DejaVu Sans Mono',consolas,'Courier New',monospace\"><span style=\"color: #008080; text-decoration-color: #008080; font-weight: bold\">1</span> sample selected in <span style=\"color: #008080; text-decoration-color: #008080; font-weight: bold\">497.7</span> ms\n",
       "</pre>\n"
      ],
      "text/plain": [
       "\u001b[1;36m1\u001b[0m sample selected in \u001b[1;36m497.7\u001b[0m ms\n"
      ]
     },
     "metadata": {},
     "output_type": "display_data"
    },
    {
     "data": {
      "text/html": [
       "<pre style=\"white-space:pre;overflow-x:auto;line-height:normal;font-family:Menlo,'DejaVu Sans Mono',consolas,'Courier New',monospace\">Memory usage: <span style=\"color: #008080; text-decoration-color: #008080; font-weight: bold\">0</span> GB, <span style=\"color: #008080; text-decoration-color: #008080; font-weight: bold\">563</span> MB, <span style=\"color: #008080; text-decoration-color: #008080; font-weight: bold\">256</span> kB\n",
       "</pre>\n"
      ],
      "text/plain": [
       "Memory usage: \u001b[1;36m0\u001b[0m GB, \u001b[1;36m563\u001b[0m MB, \u001b[1;36m256\u001b[0m kB\n"
      ]
     },
     "metadata": {},
     "output_type": "display_data"
    },
    {
     "data": {
      "text/html": [
       "<pre style=\"white-space:pre;overflow-x:auto;line-height:normal;font-family:Menlo,'DejaVu Sans Mono',consolas,'Courier New',monospace\">Overall time required: <span style=\"color: #008080; text-decoration-color: #008080; font-weight: bold\">13.6</span> s\n",
       "</pre>\n"
      ],
      "text/plain": [
       "Overall time required: \u001b[1;36m13.6\u001b[0m s\n"
      ]
     },
     "metadata": {},
     "output_type": "display_data"
    },
    {
     "data": {
      "text/html": [
       "<pre style=\"white-space:pre;overflow-x:auto;line-height:normal;font-family:Menlo,'DejaVu Sans Mono',consolas,'Courier New',monospace\"><span style=\"color: #008080; text-decoration-color: #008080; font-weight: bold\">14</span> observations found\n",
       "</pre>\n"
      ],
      "text/plain": [
       "\u001b[1;36m14\u001b[0m observations found\n"
      ]
     },
     "metadata": {},
     "output_type": "display_data"
    },
    {
     "data": {
      "text/html": [
       "<pre style=\"white-space:pre;overflow-x:auto;line-height:normal;font-family:Menlo,'DejaVu Sans Mono',consolas,'Courier New',monospace\">Bayesian neural network trained in <span style=\"color: #008080; text-decoration-color: #008080; font-weight: bold\">5.4</span> s\n",
       "</pre>\n"
      ],
      "text/plain": [
       "Bayesian neural network trained in \u001b[1;36m5.4\u001b[0m s\n"
      ]
     },
     "metadata": {},
     "output_type": "display_data"
    },
    {
     "data": {
      "text/html": [
       "<pre style=\"white-space:pre;overflow-x:auto;line-height:normal;font-family:Menlo,'DejaVu Sans Mono',consolas,'Courier New',monospace\"><span style=\"color: #008080; text-decoration-color: #008080; font-weight: bold\">800</span> random proposals drawn in <span style=\"color: #008080; text-decoration-color: #008080; font-weight: bold\">143.6</span> ms\n",
       "</pre>\n"
      ],
      "text/plain": [
       "\u001b[1;36m800\u001b[0m random proposals drawn in \u001b[1;36m143.6\u001b[0m ms\n"
      ]
     },
     "metadata": {},
     "output_type": "display_data"
    },
    {
     "data": {
      "text/html": [
       "<pre style=\"white-space:pre;overflow-x:auto;line-height:normal;font-family:Menlo,'DejaVu Sans Mono',consolas,'Courier New',monospace\"><span style=\"color: #008080; text-decoration-color: #008080; font-weight: bold\">800</span> proposals optimized in <span style=\"color: #008080; text-decoration-color: #008080; font-weight: bold\">5.4</span> s using <span style=\"color: #008080; text-decoration-color: #008080; font-weight: bold\">4</span> CPUs\n",
       "</pre>\n"
      ],
      "text/plain": [
       "\u001b[1;36m800\u001b[0m proposals optimized in \u001b[1;36m5.4\u001b[0m s using \u001b[1;36m4\u001b[0m CPUs\n"
      ]
     },
     "metadata": {},
     "output_type": "display_data"
    },
    {
     "data": {
      "text/html": [
       "<pre style=\"white-space:pre;overflow-x:auto;line-height:normal;font-family:Menlo,'DejaVu Sans Mono',consolas,'Courier New',monospace\">Acquisition tasks for <span style=\"color: #008080; text-decoration-color: #008080; font-weight: bold\">1</span> sampling strategy performed in <span style=\"color: #008080; text-decoration-color: #008080; font-weight: bold\">5.6</span> s\n",
       "</pre>\n"
      ],
      "text/plain": [
       "Acquisition tasks for \u001b[1;36m1\u001b[0m sampling strategy performed in \u001b[1;36m5.6\u001b[0m s\n"
      ]
     },
     "metadata": {},
     "output_type": "display_data"
    },
    {
     "data": {
      "text/html": [
       "<pre style=\"white-space:pre;overflow-x:auto;line-height:normal;font-family:Menlo,'DejaVu Sans Mono',consolas,'Courier New',monospace\"><span style=\"color: #008080; text-decoration-color: #008080; font-weight: bold\">1</span> sample selected in <span style=\"color: #008080; text-decoration-color: #008080; font-weight: bold\">530.3</span> ms\n",
       "</pre>\n"
      ],
      "text/plain": [
       "\u001b[1;36m1\u001b[0m sample selected in \u001b[1;36m530.3\u001b[0m ms\n"
      ]
     },
     "metadata": {},
     "output_type": "display_data"
    },
    {
     "data": {
      "text/html": [
       "<pre style=\"white-space:pre;overflow-x:auto;line-height:normal;font-family:Menlo,'DejaVu Sans Mono',consolas,'Courier New',monospace\">Memory usage: <span style=\"color: #008080; text-decoration-color: #008080; font-weight: bold\">0</span> GB, <span style=\"color: #008080; text-decoration-color: #008080; font-weight: bold\">563</span> MB, <span style=\"color: #008080; text-decoration-color: #008080; font-weight: bold\">988</span> kB\n",
       "</pre>\n"
      ],
      "text/plain": [
       "Memory usage: \u001b[1;36m0\u001b[0m GB, \u001b[1;36m563\u001b[0m MB, \u001b[1;36m988\u001b[0m kB\n"
      ]
     },
     "metadata": {},
     "output_type": "display_data"
    },
    {
     "data": {
      "text/html": [
       "<pre style=\"white-space:pre;overflow-x:auto;line-height:normal;font-family:Menlo,'DejaVu Sans Mono',consolas,'Courier New',monospace\">Overall time required: <span style=\"color: #008080; text-decoration-color: #008080; font-weight: bold\">11.5</span> s\n",
       "</pre>\n"
      ],
      "text/plain": [
       "Overall time required: \u001b[1;36m11.5\u001b[0m s\n"
      ]
     },
     "metadata": {},
     "output_type": "display_data"
    },
    {
     "data": {
      "text/html": [
       "<pre style=\"white-space:pre;overflow-x:auto;line-height:normal;font-family:Menlo,'DejaVu Sans Mono',consolas,'Courier New',monospace\"><span style=\"color: #008080; text-decoration-color: #008080; font-weight: bold\">15</span> observations found\n",
       "</pre>\n"
      ],
      "text/plain": [
       "\u001b[1;36m15\u001b[0m observations found\n"
      ]
     },
     "metadata": {},
     "output_type": "display_data"
    },
    {
     "data": {
      "text/html": [
       "<pre style=\"white-space:pre;overflow-x:auto;line-height:normal;font-family:Menlo,'DejaVu Sans Mono',consolas,'Courier New',monospace\">Bayesian neural network trained in <span style=\"color: #008080; text-decoration-color: #008080; font-weight: bold\">5.2</span> s\n",
       "</pre>\n"
      ],
      "text/plain": [
       "Bayesian neural network trained in \u001b[1;36m5.2\u001b[0m s\n"
      ]
     },
     "metadata": {},
     "output_type": "display_data"
    },
    {
     "data": {
      "text/html": [
       "<pre style=\"white-space:pre;overflow-x:auto;line-height:normal;font-family:Menlo,'DejaVu Sans Mono',consolas,'Courier New',monospace\"><span style=\"color: #008080; text-decoration-color: #008080; font-weight: bold\">800</span> random proposals drawn in <span style=\"color: #008080; text-decoration-color: #008080; font-weight: bold\">136.5</span> ms\n",
       "</pre>\n"
      ],
      "text/plain": [
       "\u001b[1;36m800\u001b[0m random proposals drawn in \u001b[1;36m136.5\u001b[0m ms\n"
      ]
     },
     "metadata": {},
     "output_type": "display_data"
    },
    {
     "data": {
      "text/html": [
       "<pre style=\"white-space:pre;overflow-x:auto;line-height:normal;font-family:Menlo,'DejaVu Sans Mono',consolas,'Courier New',monospace\"><span style=\"color: #008080; text-decoration-color: #008080; font-weight: bold\">800</span> proposals optimized in <span style=\"color: #008080; text-decoration-color: #008080; font-weight: bold\">5.3</span> s using <span style=\"color: #008080; text-decoration-color: #008080; font-weight: bold\">4</span> CPUs\n",
       "</pre>\n"
      ],
      "text/plain": [
       "\u001b[1;36m800\u001b[0m proposals optimized in \u001b[1;36m5.3\u001b[0m s using \u001b[1;36m4\u001b[0m CPUs\n"
      ]
     },
     "metadata": {},
     "output_type": "display_data"
    },
    {
     "data": {
      "text/html": [
       "<pre style=\"white-space:pre;overflow-x:auto;line-height:normal;font-family:Menlo,'DejaVu Sans Mono',consolas,'Courier New',monospace\">Acquisition tasks for <span style=\"color: #008080; text-decoration-color: #008080; font-weight: bold\">1</span> sampling strategy performed in <span style=\"color: #008080; text-decoration-color: #008080; font-weight: bold\">5.5</span> s\n",
       "</pre>\n"
      ],
      "text/plain": [
       "Acquisition tasks for \u001b[1;36m1\u001b[0m sampling strategy performed in \u001b[1;36m5.5\u001b[0m s\n"
      ]
     },
     "metadata": {},
     "output_type": "display_data"
    },
    {
     "data": {
      "text/html": [
       "<pre style=\"white-space:pre;overflow-x:auto;line-height:normal;font-family:Menlo,'DejaVu Sans Mono',consolas,'Courier New',monospace\"><span style=\"color: #008080; text-decoration-color: #008080; font-weight: bold\">1</span> sample selected in <span style=\"color: #008080; text-decoration-color: #008080; font-weight: bold\">810.7</span> ms\n",
       "</pre>\n"
      ],
      "text/plain": [
       "\u001b[1;36m1\u001b[0m sample selected in \u001b[1;36m810.7\u001b[0m ms\n"
      ]
     },
     "metadata": {},
     "output_type": "display_data"
    },
    {
     "data": {
      "text/html": [
       "<pre style=\"white-space:pre;overflow-x:auto;line-height:normal;font-family:Menlo,'DejaVu Sans Mono',consolas,'Courier New',monospace\">Memory usage: <span style=\"color: #008080; text-decoration-color: #008080; font-weight: bold\">0</span> GB, <span style=\"color: #008080; text-decoration-color: #008080; font-weight: bold\">565</span> MB, <span style=\"color: #008080; text-decoration-color: #008080; font-weight: bold\">332</span> kB\n",
       "</pre>\n"
      ],
      "text/plain": [
       "Memory usage: \u001b[1;36m0\u001b[0m GB, \u001b[1;36m565\u001b[0m MB, \u001b[1;36m332\u001b[0m kB\n"
      ]
     },
     "metadata": {},
     "output_type": "display_data"
    },
    {
     "data": {
      "text/html": [
       "<pre style=\"white-space:pre;overflow-x:auto;line-height:normal;font-family:Menlo,'DejaVu Sans Mono',consolas,'Courier New',monospace\">Overall time required: <span style=\"color: #008080; text-decoration-color: #008080; font-weight: bold\">11.6</span> s\n",
       "</pre>\n"
      ],
      "text/plain": [
       "Overall time required: \u001b[1;36m11.6\u001b[0m s\n"
      ]
     },
     "metadata": {},
     "output_type": "display_data"
    },
    {
     "data": {
      "text/html": [
       "<pre style=\"white-space:pre;overflow-x:auto;line-height:normal;font-family:Menlo,'DejaVu Sans Mono',consolas,'Courier New',monospace\"><span style=\"color: #008080; text-decoration-color: #008080; font-weight: bold\">16</span> observations found\n",
       "</pre>\n"
      ],
      "text/plain": [
       "\u001b[1;36m16\u001b[0m observations found\n"
      ]
     },
     "metadata": {},
     "output_type": "display_data"
    },
    {
     "data": {
      "text/html": [
       "<pre style=\"white-space:pre;overflow-x:auto;line-height:normal;font-family:Menlo,'DejaVu Sans Mono',consolas,'Courier New',monospace\">Bayesian neural network trained in <span style=\"color: #008080; text-decoration-color: #008080; font-weight: bold\">5.4</span> s\n",
       "</pre>\n"
      ],
      "text/plain": [
       "Bayesian neural network trained in \u001b[1;36m5.4\u001b[0m s\n"
      ]
     },
     "metadata": {},
     "output_type": "display_data"
    },
    {
     "data": {
      "text/html": [
       "<pre style=\"white-space:pre;overflow-x:auto;line-height:normal;font-family:Menlo,'DejaVu Sans Mono',consolas,'Courier New',monospace\"><span style=\"color: #008080; text-decoration-color: #008080; font-weight: bold\">800</span> random proposals drawn in <span style=\"color: #008080; text-decoration-color: #008080; font-weight: bold\">133.8</span> ms\n",
       "</pre>\n"
      ],
      "text/plain": [
       "\u001b[1;36m800\u001b[0m random proposals drawn in \u001b[1;36m133.8\u001b[0m ms\n"
      ]
     },
     "metadata": {},
     "output_type": "display_data"
    },
    {
     "data": {
      "text/html": [
       "<pre style=\"white-space:pre;overflow-x:auto;line-height:normal;font-family:Menlo,'DejaVu Sans Mono',consolas,'Courier New',monospace\"><span style=\"color: #008080; text-decoration-color: #008080; font-weight: bold\">800</span> proposals optimized in <span style=\"color: #008080; text-decoration-color: #008080; font-weight: bold\">4.7</span> s using <span style=\"color: #008080; text-decoration-color: #008080; font-weight: bold\">4</span> CPUs\n",
       "</pre>\n"
      ],
      "text/plain": [
       "\u001b[1;36m800\u001b[0m proposals optimized in \u001b[1;36m4.7\u001b[0m s using \u001b[1;36m4\u001b[0m CPUs\n"
      ]
     },
     "metadata": {},
     "output_type": "display_data"
    },
    {
     "data": {
      "text/html": [
       "<pre style=\"white-space:pre;overflow-x:auto;line-height:normal;font-family:Menlo,'DejaVu Sans Mono',consolas,'Courier New',monospace\">Acquisition tasks for <span style=\"color: #008080; text-decoration-color: #008080; font-weight: bold\">1</span> sampling strategy performed in <span style=\"color: #008080; text-decoration-color: #008080; font-weight: bold\">5.4</span> s\n",
       "</pre>\n"
      ],
      "text/plain": [
       "Acquisition tasks for \u001b[1;36m1\u001b[0m sampling strategy performed in \u001b[1;36m5.4\u001b[0m s\n"
      ]
     },
     "metadata": {},
     "output_type": "display_data"
    },
    {
     "data": {
      "text/html": [
       "<pre style=\"white-space:pre;overflow-x:auto;line-height:normal;font-family:Menlo,'DejaVu Sans Mono',consolas,'Courier New',monospace\"><span style=\"color: #008080; text-decoration-color: #008080; font-weight: bold\">1</span> sample selected in <span style=\"color: #008080; text-decoration-color: #008080; font-weight: bold\">507.6</span> ms\n",
       "</pre>\n"
      ],
      "text/plain": [
       "\u001b[1;36m1\u001b[0m sample selected in \u001b[1;36m507.6\u001b[0m ms\n"
      ]
     },
     "metadata": {},
     "output_type": "display_data"
    },
    {
     "data": {
      "text/html": [
       "<pre style=\"white-space:pre;overflow-x:auto;line-height:normal;font-family:Menlo,'DejaVu Sans Mono',consolas,'Courier New',monospace\">Memory usage: <span style=\"color: #008080; text-decoration-color: #008080; font-weight: bold\">0</span> GB, <span style=\"color: #008080; text-decoration-color: #008080; font-weight: bold\">566</span> MB, <span style=\"color: #008080; text-decoration-color: #008080; font-weight: bold\">144</span> kB\n",
       "</pre>\n"
      ],
      "text/plain": [
       "Memory usage: \u001b[1;36m0\u001b[0m GB, \u001b[1;36m566\u001b[0m MB, \u001b[1;36m144\u001b[0m kB\n"
      ]
     },
     "metadata": {},
     "output_type": "display_data"
    },
    {
     "data": {
      "text/html": [
       "<pre style=\"white-space:pre;overflow-x:auto;line-height:normal;font-family:Menlo,'DejaVu Sans Mono',consolas,'Courier New',monospace\">Overall time required: <span style=\"color: #008080; text-decoration-color: #008080; font-weight: bold\">11.3</span> s\n",
       "</pre>\n"
      ],
      "text/plain": [
       "Overall time required: \u001b[1;36m11.3\u001b[0m s\n"
      ]
     },
     "metadata": {},
     "output_type": "display_data"
    },
    {
     "data": {
      "text/html": [
       "<pre style=\"white-space:pre;overflow-x:auto;line-height:normal;font-family:Menlo,'DejaVu Sans Mono',consolas,'Courier New',monospace\"><span style=\"color: #008080; text-decoration-color: #008080; font-weight: bold\">17</span> observations found\n",
       "</pre>\n"
      ],
      "text/plain": [
       "\u001b[1;36m17\u001b[0m observations found\n"
      ]
     },
     "metadata": {},
     "output_type": "display_data"
    },
    {
     "data": {
      "text/html": [
       "<pre style=\"white-space:pre;overflow-x:auto;line-height:normal;font-family:Menlo,'DejaVu Sans Mono',consolas,'Courier New',monospace\">Bayesian neural network trained in <span style=\"color: #008080; text-decoration-color: #008080; font-weight: bold\">5.3</span> s\n",
       "</pre>\n"
      ],
      "text/plain": [
       "Bayesian neural network trained in \u001b[1;36m5.3\u001b[0m s\n"
      ]
     },
     "metadata": {},
     "output_type": "display_data"
    },
    {
     "data": {
      "text/html": [
       "<pre style=\"white-space:pre;overflow-x:auto;line-height:normal;font-family:Menlo,'DejaVu Sans Mono',consolas,'Courier New',monospace\"><span style=\"color: #008080; text-decoration-color: #008080; font-weight: bold\">800</span> random proposals drawn in <span style=\"color: #008080; text-decoration-color: #008080; font-weight: bold\">188.1</span> ms\n",
       "</pre>\n"
      ],
      "text/plain": [
       "\u001b[1;36m800\u001b[0m random proposals drawn in \u001b[1;36m188.1\u001b[0m ms\n"
      ]
     },
     "metadata": {},
     "output_type": "display_data"
    },
    {
     "data": {
      "text/html": [
       "<pre style=\"white-space:pre;overflow-x:auto;line-height:normal;font-family:Menlo,'DejaVu Sans Mono',consolas,'Courier New',monospace\"><span style=\"color: #008080; text-decoration-color: #008080; font-weight: bold\">800</span> proposals optimized in <span style=\"color: #008080; text-decoration-color: #008080; font-weight: bold\">6.2</span> s using <span style=\"color: #008080; text-decoration-color: #008080; font-weight: bold\">4</span> CPUs\n",
       "</pre>\n"
      ],
      "text/plain": [
       "\u001b[1;36m800\u001b[0m proposals optimized in \u001b[1;36m6.2\u001b[0m s using \u001b[1;36m4\u001b[0m CPUs\n"
      ]
     },
     "metadata": {},
     "output_type": "display_data"
    },
    {
     "data": {
      "text/html": [
       "<pre style=\"white-space:pre;overflow-x:auto;line-height:normal;font-family:Menlo,'DejaVu Sans Mono',consolas,'Courier New',monospace\">Acquisition tasks for <span style=\"color: #008080; text-decoration-color: #008080; font-weight: bold\">1</span> sampling strategy performed in <span style=\"color: #008080; text-decoration-color: #008080; font-weight: bold\">6.4</span> s\n",
       "</pre>\n"
      ],
      "text/plain": [
       "Acquisition tasks for \u001b[1;36m1\u001b[0m sampling strategy performed in \u001b[1;36m6.4\u001b[0m s\n"
      ]
     },
     "metadata": {},
     "output_type": "display_data"
    },
    {
     "data": {
      "text/html": [
       "<pre style=\"white-space:pre;overflow-x:auto;line-height:normal;font-family:Menlo,'DejaVu Sans Mono',consolas,'Courier New',monospace\"><span style=\"color: #008080; text-decoration-color: #008080; font-weight: bold\">1</span> sample selected in <span style=\"color: #008080; text-decoration-color: #008080; font-weight: bold\">603.4</span> ms\n",
       "</pre>\n"
      ],
      "text/plain": [
       "\u001b[1;36m1\u001b[0m sample selected in \u001b[1;36m603.4\u001b[0m ms\n"
      ]
     },
     "metadata": {},
     "output_type": "display_data"
    },
    {
     "data": {
      "text/html": [
       "<pre style=\"white-space:pre;overflow-x:auto;line-height:normal;font-family:Menlo,'DejaVu Sans Mono',consolas,'Courier New',monospace\">Memory usage: <span style=\"color: #008080; text-decoration-color: #008080; font-weight: bold\">0</span> GB, <span style=\"color: #008080; text-decoration-color: #008080; font-weight: bold\">567</span> MB, <span style=\"color: #008080; text-decoration-color: #008080; font-weight: bold\">684</span> kB\n",
       "</pre>\n"
      ],
      "text/plain": [
       "Memory usage: \u001b[1;36m0\u001b[0m GB, \u001b[1;36m567\u001b[0m MB, \u001b[1;36m684\u001b[0m kB\n"
      ]
     },
     "metadata": {},
     "output_type": "display_data"
    },
    {
     "data": {
      "text/html": [
       "<pre style=\"white-space:pre;overflow-x:auto;line-height:normal;font-family:Menlo,'DejaVu Sans Mono',consolas,'Courier New',monospace\">Overall time required: <span style=\"color: #008080; text-decoration-color: #008080; font-weight: bold\">12.4</span> s\n",
       "</pre>\n"
      ],
      "text/plain": [
       "Overall time required: \u001b[1;36m12.4\u001b[0m s\n"
      ]
     },
     "metadata": {},
     "output_type": "display_data"
    },
    {
     "data": {
      "text/html": [
       "<pre style=\"white-space:pre;overflow-x:auto;line-height:normal;font-family:Menlo,'DejaVu Sans Mono',consolas,'Courier New',monospace\"><span style=\"color: #008080; text-decoration-color: #008080; font-weight: bold\">18</span> observations found\n",
       "</pre>\n"
      ],
      "text/plain": [
       "\u001b[1;36m18\u001b[0m observations found\n"
      ]
     },
     "metadata": {},
     "output_type": "display_data"
    },
    {
     "data": {
      "text/html": [
       "<pre style=\"white-space:pre;overflow-x:auto;line-height:normal;font-family:Menlo,'DejaVu Sans Mono',consolas,'Courier New',monospace\">Bayesian neural network trained in <span style=\"color: #008080; text-decoration-color: #008080; font-weight: bold\">5.4</span> s\n",
       "</pre>\n"
      ],
      "text/plain": [
       "Bayesian neural network trained in \u001b[1;36m5.4\u001b[0m s\n"
      ]
     },
     "metadata": {},
     "output_type": "display_data"
    },
    {
     "data": {
      "text/html": [
       "<pre style=\"white-space:pre;overflow-x:auto;line-height:normal;font-family:Menlo,'DejaVu Sans Mono',consolas,'Courier New',monospace\"><span style=\"color: #008080; text-decoration-color: #008080; font-weight: bold\">800</span> random proposals drawn in <span style=\"color: #008080; text-decoration-color: #008080; font-weight: bold\">254.9</span> ms\n",
       "</pre>\n"
      ],
      "text/plain": [
       "\u001b[1;36m800\u001b[0m random proposals drawn in \u001b[1;36m254.9\u001b[0m ms\n"
      ]
     },
     "metadata": {},
     "output_type": "display_data"
    },
    {
     "data": {
      "text/html": [
       "<pre style=\"white-space:pre;overflow-x:auto;line-height:normal;font-family:Menlo,'DejaVu Sans Mono',consolas,'Courier New',monospace\"><span style=\"color: #008080; text-decoration-color: #008080; font-weight: bold\">800</span> proposals optimized in <span style=\"color: #008080; text-decoration-color: #008080; font-weight: bold\">5.0</span> s using <span style=\"color: #008080; text-decoration-color: #008080; font-weight: bold\">4</span> CPUs\n",
       "</pre>\n"
      ],
      "text/plain": [
       "\u001b[1;36m800\u001b[0m proposals optimized in \u001b[1;36m5.0\u001b[0m s using \u001b[1;36m4\u001b[0m CPUs\n"
      ]
     },
     "metadata": {},
     "output_type": "display_data"
    },
    {
     "data": {
      "text/html": [
       "<pre style=\"white-space:pre;overflow-x:auto;line-height:normal;font-family:Menlo,'DejaVu Sans Mono',consolas,'Courier New',monospace\">Acquisition tasks for <span style=\"color: #008080; text-decoration-color: #008080; font-weight: bold\">1</span> sampling strategy performed in <span style=\"color: #008080; text-decoration-color: #008080; font-weight: bold\">5.3</span> s\n",
       "</pre>\n"
      ],
      "text/plain": [
       "Acquisition tasks for \u001b[1;36m1\u001b[0m sampling strategy performed in \u001b[1;36m5.3\u001b[0m s\n"
      ]
     },
     "metadata": {},
     "output_type": "display_data"
    },
    {
     "data": {
      "text/html": [
       "<pre style=\"white-space:pre;overflow-x:auto;line-height:normal;font-family:Menlo,'DejaVu Sans Mono',consolas,'Courier New',monospace\"><span style=\"color: #008080; text-decoration-color: #008080; font-weight: bold\">1</span> sample selected in <span style=\"color: #008080; text-decoration-color: #008080; font-weight: bold\">543.8</span> ms\n",
       "</pre>\n"
      ],
      "text/plain": [
       "\u001b[1;36m1\u001b[0m sample selected in \u001b[1;36m543.8\u001b[0m ms\n"
      ]
     },
     "metadata": {},
     "output_type": "display_data"
    },
    {
     "data": {
      "text/html": [
       "<pre style=\"white-space:pre;overflow-x:auto;line-height:normal;font-family:Menlo,'DejaVu Sans Mono',consolas,'Courier New',monospace\">Memory usage: <span style=\"color: #008080; text-decoration-color: #008080; font-weight: bold\">0</span> GB, <span style=\"color: #008080; text-decoration-color: #008080; font-weight: bold\">569</span> MB, <span style=\"color: #008080; text-decoration-color: #008080; font-weight: bold\">248</span> kB\n",
       "</pre>\n"
      ],
      "text/plain": [
       "Memory usage: \u001b[1;36m0\u001b[0m GB, \u001b[1;36m569\u001b[0m MB, \u001b[1;36m248\u001b[0m kB\n"
      ]
     },
     "metadata": {},
     "output_type": "display_data"
    },
    {
     "data": {
      "text/html": [
       "<pre style=\"white-space:pre;overflow-x:auto;line-height:normal;font-family:Menlo,'DejaVu Sans Mono',consolas,'Courier New',monospace\">Overall time required: <span style=\"color: #008080; text-decoration-color: #008080; font-weight: bold\">11.3</span> s\n",
       "</pre>\n"
      ],
      "text/plain": [
       "Overall time required: \u001b[1;36m11.3\u001b[0m s\n"
      ]
     },
     "metadata": {},
     "output_type": "display_data"
    },
    {
     "data": {
      "text/html": [
       "<pre style=\"white-space:pre;overflow-x:auto;line-height:normal;font-family:Menlo,'DejaVu Sans Mono',consolas,'Courier New',monospace\"><span style=\"color: #008080; text-decoration-color: #008080; font-weight: bold\">19</span> observations found\n",
       "</pre>\n"
      ],
      "text/plain": [
       "\u001b[1;36m19\u001b[0m observations found\n"
      ]
     },
     "metadata": {},
     "output_type": "display_data"
    },
    {
     "data": {
      "text/html": [
       "<pre style=\"white-space:pre;overflow-x:auto;line-height:normal;font-family:Menlo,'DejaVu Sans Mono',consolas,'Courier New',monospace\">Bayesian neural network trained in <span style=\"color: #008080; text-decoration-color: #008080; font-weight: bold\">5.4</span> s\n",
       "</pre>\n"
      ],
      "text/plain": [
       "Bayesian neural network trained in \u001b[1;36m5.4\u001b[0m s\n"
      ]
     },
     "metadata": {},
     "output_type": "display_data"
    },
    {
     "data": {
      "text/html": [
       "<pre style=\"white-space:pre;overflow-x:auto;line-height:normal;font-family:Menlo,'DejaVu Sans Mono',consolas,'Courier New',monospace\"><span style=\"color: #008080; text-decoration-color: #008080; font-weight: bold\">800</span> random proposals drawn in <span style=\"color: #008080; text-decoration-color: #008080; font-weight: bold\">137.1</span> ms\n",
       "</pre>\n"
      ],
      "text/plain": [
       "\u001b[1;36m800\u001b[0m random proposals drawn in \u001b[1;36m137.1\u001b[0m ms\n"
      ]
     },
     "metadata": {},
     "output_type": "display_data"
    },
    {
     "data": {
      "text/html": [
       "<pre style=\"white-space:pre;overflow-x:auto;line-height:normal;font-family:Menlo,'DejaVu Sans Mono',consolas,'Courier New',monospace\"><span style=\"color: #008080; text-decoration-color: #008080; font-weight: bold\">800</span> proposals optimized in <span style=\"color: #008080; text-decoration-color: #008080; font-weight: bold\">6.2</span> s using <span style=\"color: #008080; text-decoration-color: #008080; font-weight: bold\">4</span> CPUs\n",
       "</pre>\n"
      ],
      "text/plain": [
       "\u001b[1;36m800\u001b[0m proposals optimized in \u001b[1;36m6.2\u001b[0m s using \u001b[1;36m4\u001b[0m CPUs\n"
      ]
     },
     "metadata": {},
     "output_type": "display_data"
    },
    {
     "data": {
      "text/html": [
       "<pre style=\"white-space:pre;overflow-x:auto;line-height:normal;font-family:Menlo,'DejaVu Sans Mono',consolas,'Courier New',monospace\">Acquisition tasks for <span style=\"color: #008080; text-decoration-color: #008080; font-weight: bold\">1</span> sampling strategy performed in <span style=\"color: #008080; text-decoration-color: #008080; font-weight: bold\">6.3</span> s\n",
       "</pre>\n"
      ],
      "text/plain": [
       "Acquisition tasks for \u001b[1;36m1\u001b[0m sampling strategy performed in \u001b[1;36m6.3\u001b[0m s\n"
      ]
     },
     "metadata": {},
     "output_type": "display_data"
    },
    {
     "data": {
      "text/html": [
       "<pre style=\"white-space:pre;overflow-x:auto;line-height:normal;font-family:Menlo,'DejaVu Sans Mono',consolas,'Courier New',monospace\"><span style=\"color: #008080; text-decoration-color: #008080; font-weight: bold\">1</span> sample selected in <span style=\"color: #008080; text-decoration-color: #008080; font-weight: bold\">599.4</span> ms\n",
       "</pre>\n"
      ],
      "text/plain": [
       "\u001b[1;36m1\u001b[0m sample selected in \u001b[1;36m599.4\u001b[0m ms\n"
      ]
     },
     "metadata": {},
     "output_type": "display_data"
    },
    {
     "data": {
      "text/html": [
       "<pre style=\"white-space:pre;overflow-x:auto;line-height:normal;font-family:Menlo,'DejaVu Sans Mono',consolas,'Courier New',monospace\">Memory usage: <span style=\"color: #008080; text-decoration-color: #008080; font-weight: bold\">0</span> GB, <span style=\"color: #008080; text-decoration-color: #008080; font-weight: bold\">570</span> MB, <span style=\"color: #008080; text-decoration-color: #008080; font-weight: bold\">916</span> kB\n",
       "</pre>\n"
      ],
      "text/plain": [
       "Memory usage: \u001b[1;36m0\u001b[0m GB, \u001b[1;36m570\u001b[0m MB, \u001b[1;36m916\u001b[0m kB\n"
      ]
     },
     "metadata": {},
     "output_type": "display_data"
    },
    {
     "data": {
      "text/html": [
       "<pre style=\"white-space:pre;overflow-x:auto;line-height:normal;font-family:Menlo,'DejaVu Sans Mono',consolas,'Courier New',monospace\">Overall time required: <span style=\"color: #008080; text-decoration-color: #008080; font-weight: bold\">12.4</span> s\n",
       "</pre>\n"
      ],
      "text/plain": [
       "Overall time required: \u001b[1;36m12.4\u001b[0m s\n"
      ]
     },
     "metadata": {},
     "output_type": "display_data"
    },
    {
     "data": {
      "text/html": [
       "<pre style=\"white-space:pre;overflow-x:auto;line-height:normal;font-family:Menlo,'DejaVu Sans Mono',consolas,'Courier New',monospace\"><span style=\"color: #008080; text-decoration-color: #008080; font-weight: bold\">20</span> observations found\n",
       "</pre>\n"
      ],
      "text/plain": [
       "\u001b[1;36m20\u001b[0m observations found\n"
      ]
     },
     "metadata": {},
     "output_type": "display_data"
    },
    {
     "data": {
      "text/html": [
       "<pre style=\"white-space:pre;overflow-x:auto;line-height:normal;font-family:Menlo,'DejaVu Sans Mono',consolas,'Courier New',monospace\">Bayesian neural network trained in <span style=\"color: #008080; text-decoration-color: #008080; font-weight: bold\">6.0</span> s\n",
       "</pre>\n"
      ],
      "text/plain": [
       "Bayesian neural network trained in \u001b[1;36m6.0\u001b[0m s\n"
      ]
     },
     "metadata": {},
     "output_type": "display_data"
    },
    {
     "data": {
      "text/html": [
       "<pre style=\"white-space:pre;overflow-x:auto;line-height:normal;font-family:Menlo,'DejaVu Sans Mono',consolas,'Courier New',monospace\"><span style=\"color: #008080; text-decoration-color: #008080; font-weight: bold\">800</span> random proposals drawn in <span style=\"color: #008080; text-decoration-color: #008080; font-weight: bold\">3.0</span> s\n",
       "</pre>\n"
      ],
      "text/plain": [
       "\u001b[1;36m800\u001b[0m random proposals drawn in \u001b[1;36m3.0\u001b[0m s\n"
      ]
     },
     "metadata": {},
     "output_type": "display_data"
    },
    {
     "data": {
      "text/html": [
       "<pre style=\"white-space:pre;overflow-x:auto;line-height:normal;font-family:Menlo,'DejaVu Sans Mono',consolas,'Courier New',monospace\"><span style=\"color: #008080; text-decoration-color: #008080; font-weight: bold\">800</span> proposals optimized in <span style=\"color: #008080; text-decoration-color: #008080; font-weight: bold\">6.7</span> s using <span style=\"color: #008080; text-decoration-color: #008080; font-weight: bold\">4</span> CPUs\n",
       "</pre>\n"
      ],
      "text/plain": [
       "\u001b[1;36m800\u001b[0m proposals optimized in \u001b[1;36m6.7\u001b[0m s using \u001b[1;36m4\u001b[0m CPUs\n"
      ]
     },
     "metadata": {},
     "output_type": "display_data"
    },
    {
     "data": {
      "text/html": [
       "<pre style=\"white-space:pre;overflow-x:auto;line-height:normal;font-family:Menlo,'DejaVu Sans Mono',consolas,'Courier New',monospace\">Acquisition tasks for <span style=\"color: #008080; text-decoration-color: #008080; font-weight: bold\">1</span> sampling strategy performed in <span style=\"color: #008080; text-decoration-color: #008080; font-weight: bold\">9.9</span> s\n",
       "</pre>\n"
      ],
      "text/plain": [
       "Acquisition tasks for \u001b[1;36m1\u001b[0m sampling strategy performed in \u001b[1;36m9.9\u001b[0m s\n"
      ]
     },
     "metadata": {},
     "output_type": "display_data"
    },
    {
     "data": {
      "text/html": [
       "<pre style=\"white-space:pre;overflow-x:auto;line-height:normal;font-family:Menlo,'DejaVu Sans Mono',consolas,'Courier New',monospace\"><span style=\"color: #008080; text-decoration-color: #008080; font-weight: bold\">1</span> sample selected in <span style=\"color: #008080; text-decoration-color: #008080; font-weight: bold\">596.9</span> ms\n",
       "</pre>\n"
      ],
      "text/plain": [
       "\u001b[1;36m1\u001b[0m sample selected in \u001b[1;36m596.9\u001b[0m ms\n"
      ]
     },
     "metadata": {},
     "output_type": "display_data"
    },
    {
     "data": {
      "text/html": [
       "<pre style=\"white-space:pre;overflow-x:auto;line-height:normal;font-family:Menlo,'DejaVu Sans Mono',consolas,'Courier New',monospace\">Memory usage: <span style=\"color: #008080; text-decoration-color: #008080; font-weight: bold\">0</span> GB, <span style=\"color: #008080; text-decoration-color: #008080; font-weight: bold\">573</span> MB, <span style=\"color: #008080; text-decoration-color: #008080; font-weight: bold\">192</span> kB\n",
       "</pre>\n"
      ],
      "text/plain": [
       "Memory usage: \u001b[1;36m0\u001b[0m GB, \u001b[1;36m573\u001b[0m MB, \u001b[1;36m192\u001b[0m kB\n"
      ]
     },
     "metadata": {},
     "output_type": "display_data"
    },
    {
     "data": {
      "text/html": [
       "<pre style=\"white-space:pre;overflow-x:auto;line-height:normal;font-family:Menlo,'DejaVu Sans Mono',consolas,'Courier New',monospace\">Overall time required: <span style=\"color: #008080; text-decoration-color: #008080; font-weight: bold\">16.5</span> s\n",
       "</pre>\n"
      ],
      "text/plain": [
       "Overall time required: \u001b[1;36m16.5\u001b[0m s\n"
      ]
     },
     "metadata": {},
     "output_type": "display_data"
    },
    {
     "data": {
      "text/html": [
       "<pre style=\"white-space:pre;overflow-x:auto;line-height:normal;font-family:Menlo,'DejaVu Sans Mono',consolas,'Courier New',monospace\"><span style=\"color: #008080; text-decoration-color: #008080; font-weight: bold\">21</span> observations found\n",
       "</pre>\n"
      ],
      "text/plain": [
       "\u001b[1;36m21\u001b[0m observations found\n"
      ]
     },
     "metadata": {},
     "output_type": "display_data"
    },
    {
     "data": {
      "text/html": [
       "<pre style=\"white-space:pre;overflow-x:auto;line-height:normal;font-family:Menlo,'DejaVu Sans Mono',consolas,'Courier New',monospace\">Bayesian neural network trained in <span style=\"color: #008080; text-decoration-color: #008080; font-weight: bold\">6.0</span> s\n",
       "</pre>\n"
      ],
      "text/plain": [
       "Bayesian neural network trained in \u001b[1;36m6.0\u001b[0m s\n"
      ]
     },
     "metadata": {},
     "output_type": "display_data"
    },
    {
     "data": {
      "text/html": [
       "<pre style=\"white-space:pre;overflow-x:auto;line-height:normal;font-family:Menlo,'DejaVu Sans Mono',consolas,'Courier New',monospace\"><span style=\"color: #008080; text-decoration-color: #008080; font-weight: bold\">800</span> random proposals drawn in <span style=\"color: #008080; text-decoration-color: #008080; font-weight: bold\">143.1</span> ms\n",
       "</pre>\n"
      ],
      "text/plain": [
       "\u001b[1;36m800\u001b[0m random proposals drawn in \u001b[1;36m143.1\u001b[0m ms\n"
      ]
     },
     "metadata": {},
     "output_type": "display_data"
    },
    {
     "data": {
      "text/html": [
       "<pre style=\"white-space:pre;overflow-x:auto;line-height:normal;font-family:Menlo,'DejaVu Sans Mono',consolas,'Courier New',monospace\"><span style=\"color: #008080; text-decoration-color: #008080; font-weight: bold\">800</span> proposals optimized in <span style=\"color: #008080; text-decoration-color: #008080; font-weight: bold\">7.0</span> s using <span style=\"color: #008080; text-decoration-color: #008080; font-weight: bold\">4</span> CPUs\n",
       "</pre>\n"
      ],
      "text/plain": [
       "\u001b[1;36m800\u001b[0m proposals optimized in \u001b[1;36m7.0\u001b[0m s using \u001b[1;36m4\u001b[0m CPUs\n"
      ]
     },
     "metadata": {},
     "output_type": "display_data"
    },
    {
     "data": {
      "text/html": [
       "<pre style=\"white-space:pre;overflow-x:auto;line-height:normal;font-family:Menlo,'DejaVu Sans Mono',consolas,'Courier New',monospace\">Acquisition tasks for <span style=\"color: #008080; text-decoration-color: #008080; font-weight: bold\">1</span> sampling strategy performed in <span style=\"color: #008080; text-decoration-color: #008080; font-weight: bold\">7.2</span> s\n",
       "</pre>\n"
      ],
      "text/plain": [
       "Acquisition tasks for \u001b[1;36m1\u001b[0m sampling strategy performed in \u001b[1;36m7.2\u001b[0m s\n"
      ]
     },
     "metadata": {},
     "output_type": "display_data"
    },
    {
     "data": {
      "text/html": [
       "<pre style=\"white-space:pre;overflow-x:auto;line-height:normal;font-family:Menlo,'DejaVu Sans Mono',consolas,'Courier New',monospace\"><span style=\"color: #008080; text-decoration-color: #008080; font-weight: bold\">1</span> sample selected in <span style=\"color: #008080; text-decoration-color: #008080; font-weight: bold\">2.3</span> s\n",
       "</pre>\n"
      ],
      "text/plain": [
       "\u001b[1;36m1\u001b[0m sample selected in \u001b[1;36m2.3\u001b[0m s\n"
      ]
     },
     "metadata": {},
     "output_type": "display_data"
    },
    {
     "data": {
      "text/html": [
       "<pre style=\"white-space:pre;overflow-x:auto;line-height:normal;font-family:Menlo,'DejaVu Sans Mono',consolas,'Courier New',monospace\">Memory usage: <span style=\"color: #008080; text-decoration-color: #008080; font-weight: bold\">0</span> GB, <span style=\"color: #008080; text-decoration-color: #008080; font-weight: bold\">574</span> MB, <span style=\"color: #008080; text-decoration-color: #008080; font-weight: bold\">216</span> kB\n",
       "</pre>\n"
      ],
      "text/plain": [
       "Memory usage: \u001b[1;36m0\u001b[0m GB, \u001b[1;36m574\u001b[0m MB, \u001b[1;36m216\u001b[0m kB\n"
      ]
     },
     "metadata": {},
     "output_type": "display_data"
    },
    {
     "data": {
      "text/html": [
       "<pre style=\"white-space:pre;overflow-x:auto;line-height:normal;font-family:Menlo,'DejaVu Sans Mono',consolas,'Courier New',monospace\">Overall time required: <span style=\"color: #008080; text-decoration-color: #008080; font-weight: bold\">15.5</span> s\n",
       "</pre>\n"
      ],
      "text/plain": [
       "Overall time required: \u001b[1;36m15.5\u001b[0m s\n"
      ]
     },
     "metadata": {},
     "output_type": "display_data"
    },
    {
     "data": {
      "text/html": [
       "<pre style=\"white-space:pre;overflow-x:auto;line-height:normal;font-family:Menlo,'DejaVu Sans Mono',consolas,'Courier New',monospace\"><span style=\"color: #008080; text-decoration-color: #008080; font-weight: bold\">22</span> observations found\n",
       "</pre>\n"
      ],
      "text/plain": [
       "\u001b[1;36m22\u001b[0m observations found\n"
      ]
     },
     "metadata": {},
     "output_type": "display_data"
    },
    {
     "data": {
      "text/html": [
       "<pre style=\"white-space:pre;overflow-x:auto;line-height:normal;font-family:Menlo,'DejaVu Sans Mono',consolas,'Courier New',monospace\">Bayesian neural network trained in <span style=\"color: #008080; text-decoration-color: #008080; font-weight: bold\">5.9</span> s\n",
       "</pre>\n"
      ],
      "text/plain": [
       "Bayesian neural network trained in \u001b[1;36m5.9\u001b[0m s\n"
      ]
     },
     "metadata": {},
     "output_type": "display_data"
    },
    {
     "data": {
      "text/html": [
       "<pre style=\"white-space:pre;overflow-x:auto;line-height:normal;font-family:Menlo,'DejaVu Sans Mono',consolas,'Courier New',monospace\"><span style=\"color: #008080; text-decoration-color: #008080; font-weight: bold\">800</span> random proposals drawn in <span style=\"color: #008080; text-decoration-color: #008080; font-weight: bold\">140.0</span> ms\n",
       "</pre>\n"
      ],
      "text/plain": [
       "\u001b[1;36m800\u001b[0m random proposals drawn in \u001b[1;36m140.0\u001b[0m ms\n"
      ]
     },
     "metadata": {},
     "output_type": "display_data"
    },
    {
     "data": {
      "text/html": [
       "<pre style=\"white-space:pre;overflow-x:auto;line-height:normal;font-family:Menlo,'DejaVu Sans Mono',consolas,'Courier New',monospace\"><span style=\"color: #008080; text-decoration-color: #008080; font-weight: bold\">800</span> proposals optimized in <span style=\"color: #008080; text-decoration-color: #008080; font-weight: bold\">5.9</span> s using <span style=\"color: #008080; text-decoration-color: #008080; font-weight: bold\">4</span> CPUs\n",
       "</pre>\n"
      ],
      "text/plain": [
       "\u001b[1;36m800\u001b[0m proposals optimized in \u001b[1;36m5.9\u001b[0m s using \u001b[1;36m4\u001b[0m CPUs\n"
      ]
     },
     "metadata": {},
     "output_type": "display_data"
    },
    {
     "data": {
      "text/html": [
       "<pre style=\"white-space:pre;overflow-x:auto;line-height:normal;font-family:Menlo,'DejaVu Sans Mono',consolas,'Courier New',monospace\">Acquisition tasks for <span style=\"color: #008080; text-decoration-color: #008080; font-weight: bold\">1</span> sampling strategy performed in <span style=\"color: #008080; text-decoration-color: #008080; font-weight: bold\">6.1</span> s\n",
       "</pre>\n"
      ],
      "text/plain": [
       "Acquisition tasks for \u001b[1;36m1\u001b[0m sampling strategy performed in \u001b[1;36m6.1\u001b[0m s\n"
      ]
     },
     "metadata": {},
     "output_type": "display_data"
    },
    {
     "data": {
      "text/html": [
       "<pre style=\"white-space:pre;overflow-x:auto;line-height:normal;font-family:Menlo,'DejaVu Sans Mono',consolas,'Courier New',monospace\"><span style=\"color: #008080; text-decoration-color: #008080; font-weight: bold\">1</span> sample selected in <span style=\"color: #008080; text-decoration-color: #008080; font-weight: bold\">600.8</span> ms\n",
       "</pre>\n"
      ],
      "text/plain": [
       "\u001b[1;36m1\u001b[0m sample selected in \u001b[1;36m600.8\u001b[0m ms\n"
      ]
     },
     "metadata": {},
     "output_type": "display_data"
    },
    {
     "data": {
      "text/html": [
       "<pre style=\"white-space:pre;overflow-x:auto;line-height:normal;font-family:Menlo,'DejaVu Sans Mono',consolas,'Courier New',monospace\">Memory usage: <span style=\"color: #008080; text-decoration-color: #008080; font-weight: bold\">0</span> GB, <span style=\"color: #008080; text-decoration-color: #008080; font-weight: bold\">575</span> MB, <span style=\"color: #008080; text-decoration-color: #008080; font-weight: bold\">724</span> kB\n",
       "</pre>\n"
      ],
      "text/plain": [
       "Memory usage: \u001b[1;36m0\u001b[0m GB, \u001b[1;36m575\u001b[0m MB, \u001b[1;36m724\u001b[0m kB\n"
      ]
     },
     "metadata": {},
     "output_type": "display_data"
    },
    {
     "data": {
      "text/html": [
       "<pre style=\"white-space:pre;overflow-x:auto;line-height:normal;font-family:Menlo,'DejaVu Sans Mono',consolas,'Courier New',monospace\">Overall time required: <span style=\"color: #008080; text-decoration-color: #008080; font-weight: bold\">12.6</span> s\n",
       "</pre>\n"
      ],
      "text/plain": [
       "Overall time required: \u001b[1;36m12.6\u001b[0m s\n"
      ]
     },
     "metadata": {},
     "output_type": "display_data"
    },
    {
     "data": {
      "text/html": [
       "<pre style=\"white-space:pre;overflow-x:auto;line-height:normal;font-family:Menlo,'DejaVu Sans Mono',consolas,'Courier New',monospace\"><span style=\"color: #008080; text-decoration-color: #008080; font-weight: bold\">23</span> observations found\n",
       "</pre>\n"
      ],
      "text/plain": [
       "\u001b[1;36m23\u001b[0m observations found\n"
      ]
     },
     "metadata": {},
     "output_type": "display_data"
    },
    {
     "data": {
      "text/html": [
       "<pre style=\"white-space:pre;overflow-x:auto;line-height:normal;font-family:Menlo,'DejaVu Sans Mono',consolas,'Courier New',monospace\">Bayesian neural network trained in <span style=\"color: #008080; text-decoration-color: #008080; font-weight: bold\">5.9</span> s\n",
       "</pre>\n"
      ],
      "text/plain": [
       "Bayesian neural network trained in \u001b[1;36m5.9\u001b[0m s\n"
      ]
     },
     "metadata": {},
     "output_type": "display_data"
    },
    {
     "data": {
      "text/html": [
       "<pre style=\"white-space:pre;overflow-x:auto;line-height:normal;font-family:Menlo,'DejaVu Sans Mono',consolas,'Courier New',monospace\"><span style=\"color: #008080; text-decoration-color: #008080; font-weight: bold\">800</span> random proposals drawn in <span style=\"color: #008080; text-decoration-color: #008080; font-weight: bold\">135.2</span> ms\n",
       "</pre>\n"
      ],
      "text/plain": [
       "\u001b[1;36m800\u001b[0m random proposals drawn in \u001b[1;36m135.2\u001b[0m ms\n"
      ]
     },
     "metadata": {},
     "output_type": "display_data"
    },
    {
     "data": {
      "text/html": [
       "<pre style=\"white-space:pre;overflow-x:auto;line-height:normal;font-family:Menlo,'DejaVu Sans Mono',consolas,'Courier New',monospace\"><span style=\"color: #008080; text-decoration-color: #008080; font-weight: bold\">800</span> proposals optimized in <span style=\"color: #008080; text-decoration-color: #008080; font-weight: bold\">6.5</span> s using <span style=\"color: #008080; text-decoration-color: #008080; font-weight: bold\">4</span> CPUs\n",
       "</pre>\n"
      ],
      "text/plain": [
       "\u001b[1;36m800\u001b[0m proposals optimized in \u001b[1;36m6.5\u001b[0m s using \u001b[1;36m4\u001b[0m CPUs\n"
      ]
     },
     "metadata": {},
     "output_type": "display_data"
    },
    {
     "data": {
      "text/html": [
       "<pre style=\"white-space:pre;overflow-x:auto;line-height:normal;font-family:Menlo,'DejaVu Sans Mono',consolas,'Courier New',monospace\">Acquisition tasks for <span style=\"color: #008080; text-decoration-color: #008080; font-weight: bold\">1</span> sampling strategy performed in <span style=\"color: #008080; text-decoration-color: #008080; font-weight: bold\">6.7</span> s\n",
       "</pre>\n"
      ],
      "text/plain": [
       "Acquisition tasks for \u001b[1;36m1\u001b[0m sampling strategy performed in \u001b[1;36m6.7\u001b[0m s\n"
      ]
     },
     "metadata": {},
     "output_type": "display_data"
    },
    {
     "data": {
      "text/html": [
       "<pre style=\"white-space:pre;overflow-x:auto;line-height:normal;font-family:Menlo,'DejaVu Sans Mono',consolas,'Courier New',monospace\"><span style=\"color: #008080; text-decoration-color: #008080; font-weight: bold\">1</span> sample selected in <span style=\"color: #008080; text-decoration-color: #008080; font-weight: bold\">653.8</span> ms\n",
       "</pre>\n"
      ],
      "text/plain": [
       "\u001b[1;36m1\u001b[0m sample selected in \u001b[1;36m653.8\u001b[0m ms\n"
      ]
     },
     "metadata": {},
     "output_type": "display_data"
    },
    {
     "data": {
      "text/html": [
       "<pre style=\"white-space:pre;overflow-x:auto;line-height:normal;font-family:Menlo,'DejaVu Sans Mono',consolas,'Courier New',monospace\">Memory usage: <span style=\"color: #008080; text-decoration-color: #008080; font-weight: bold\">0</span> GB, <span style=\"color: #008080; text-decoration-color: #008080; font-weight: bold\">577</span> MB, <span style=\"color: #008080; text-decoration-color: #008080; font-weight: bold\">308</span> kB\n",
       "</pre>\n"
      ],
      "text/plain": [
       "Memory usage: \u001b[1;36m0\u001b[0m GB, \u001b[1;36m577\u001b[0m MB, \u001b[1;36m308\u001b[0m kB\n"
      ]
     },
     "metadata": {},
     "output_type": "display_data"
    },
    {
     "data": {
      "text/html": [
       "<pre style=\"white-space:pre;overflow-x:auto;line-height:normal;font-family:Menlo,'DejaVu Sans Mono',consolas,'Courier New',monospace\">Overall time required: <span style=\"color: #008080; text-decoration-color: #008080; font-weight: bold\">13.3</span> s\n",
       "</pre>\n"
      ],
      "text/plain": [
       "Overall time required: \u001b[1;36m13.3\u001b[0m s\n"
      ]
     },
     "metadata": {},
     "output_type": "display_data"
    }
   ],
   "source": [
    "observations = []\n",
    "for iter in range(BUDGET):\n",
    "\n",
    "\n",
    "\t# alternating sampling strategies\n",
    "\tselect_ix = iter % len(SAMPLING_SRATEGIES)\n",
    "\tsampling_strategy = SAMPLING_SRATEGIES[select_ix]\n",
    "\n",
    "\t# get a new sample\n",
    "\tsamples  = gryffin.recommend(\n",
    "\t\tobservations = observations, sampling_strategies=[sampling_strategy]\n",
    "\t)\n",
    "\n",
    "\tsample = samples[0]\n",
    "\n",
    "\t# get measurements for samples\n",
    "\tobservation = surface.run([val for key, val in sample.items()])[0][0]\n",
    "\tsample['obj'] = observation\n",
    "\n",
    "\tif PLOT:\n",
    "\t\t# optional instructions just for plotting\n",
    "\t\tfor ax in axes:\n",
    "\t\t\tax.clear()\n",
    "\t\tif iter >=1:\n",
    "\t\t\t# plotting ground truth\n",
    "\t\t\tx_domain = np.linspace(0., 1., 60)\n",
    "\t\t\ty_domain = np.linspace(0., 1., 60)\n",
    "\t\t\tX, Y = np.meshgrid(x_domain, y_domain)\n",
    "\t\t\tZ    = np.zeros((x_domain.shape[0], y_domain.shape[0]))\n",
    "\t\t\tacq = np.zeros((x_domain.shape[0], y_domain.shape[0]))\n",
    "\n",
    "\t\t\tfor x_index, x_element in enumerate(x_domain):\n",
    "\t\t\t\tfor y_index, y_element in enumerate(y_domain):\n",
    "\t\t\t\t\t# evaluate surface\n",
    "\t\t\t\t\tloss_value = surface.run([x_element, y_element])[0][0]\n",
    "\t\t\t\t\tZ[y_index, x_index] = loss_value\n",
    "\t\t\t\t\t# evaluate acquisition function\n",
    "\t\t\t\t\tacq_value = gryffin.get_acquisition([{'param_0': x_element, 'param_1': y_element }])[sampling_strategy][0]\n",
    "\t\t\t\t\tacq[y_index, x_index] = acq_value\n",
    "\n",
    "\n",
    "\n",
    "\t\t\tcontours = axes[0].contour(X, Y, Z, 3, colors='black')\n",
    "\t\t\taxes[0].clabel(contours, inline=True, fontsize=8)\n",
    "\t\t\taxes[0].imshow(Z, extent=[0, 1, 0, 1], origin='lower', cmap='RdGy', alpha=0.5)\n",
    "\n",
    "\t\t\t# plot the constraint line\n",
    "\t\t\taxes[0].plot(x_domain, 1.2-y_domain, c='k', ls='--', lw=1)\n",
    "\n",
    "\t\t\t# fill between\n",
    "\t\t\taxes[0].fill_between(x_domain, 1.2-y_domain, 1.2-y_domain+0.8, color='k', alpha=0.4, )\n",
    "\n",
    "\t\t\tfor obs_index, obs in enumerate(observations):\n",
    "\t\t\t\tif obs_index == 0:\n",
    "\t\t\t\t\taxes[0].plot(obs['param_0'], obs['param_1'], marker = 'o', color = '#1a1423', markersize = 7, alpha=0.8, label='Previous observations')\n",
    "\t\t\t\telse:\n",
    "\t\t\t\t\taxes[0].plot(obs['param_0'], obs['param_1'], marker = 'o', color = '#1a1423', markersize = 7, alpha=0.8)\n",
    "\n",
    "\t\t\tif len(observations) >= 1:\n",
    "\t\t\t\t# plot the final observation\n",
    "\t\t\t\taxes[0].plot(observations[-1]['param_0'], observations[-1]['param_1'], marker = 'D', color = '#5b2333', markersize = 8, label='Observation')\n",
    "\n",
    "\t\t\taxes[0].set_ylim(0., 1.)\n",
    "\n",
    "\t\t\taxes[0].set_title('Constrained Dejong surface')\n",
    "\t\t\taxes[0].set_ylabel('param_1')\n",
    "\t\t\taxes[0].set_xlabel('param_0')\n",
    "\n",
    "\t\t\taxes[0].legend(loc='upper right', fontsize=10)\n",
    "\n",
    "\n",
    "\n",
    "\t\t\t# plot acquisition\n",
    "\t\t\tcontours = axes[1].contour(X, Y, acq, 3, colors='black')\n",
    "\t\t\taxes[1].clabel(contours, inline=True, fontsize=8)\n",
    "\t\t\taxes[1].imshow(acq, extent=[0, 1, 0, 1], origin='lower', cmap='RdGy', alpha=0.5)\n",
    "\n",
    "\t\t\t# plot the constraint line\n",
    "\t\t\taxes[1].plot(x_domain, 1.2-y_domain, c='k', ls='--', lw=1)\n",
    "\n",
    "\t\t\t# fill between\n",
    "\t\t\taxes[1].fill_between(x_domain, 1.2-y_domain, 1.2-y_domain+0.8, color='k', alpha=0.4, )\n",
    "\n",
    "\t\t\tfor obs_index, obs in enumerate(observations):\n",
    "\t\t\t\tif obs_index == 0:\n",
    "\t\t\t\t\taxes[1].plot(obs['param_0'], obs['param_1'], marker = 'o', color = '#1a1423', markersize = 7, ls='', alpha=0.8, label='Previous observations')\n",
    "\t\t\t\telse:\n",
    "\t\t\t\t\taxes[1].plot(obs['param_0'], obs['param_1'], marker = 'o', color = '#1a1423', markersize = 7, alpha=0.8)\n",
    "\n",
    "\t\t\tif len(observations) >= 1:\n",
    "\t\t\t\t# plot the final observation\n",
    "\t\t\t\taxes[1].plot(observations[-1]['param_0'], observations[-1]['param_1'], marker = 'D', ls='', color = '#5b2333', markersize = 8, label='Observation')\n",
    "\n",
    "\t\t\taxes[1].set_ylim(0., 1.)\n",
    "\n",
    "\n",
    "\t\t\taxes[1].set_title('Constrained Gryffin acquistion\\n' + r'$\\lambda=$'+f'{sampling_strategy}')\n",
    "\t\t\taxes[1].set_xlabel('param_0')\n",
    "\n",
    "\n",
    "\n",
    "\t\t\tplt.pause(0.05)\n",
    "\t\t\tplt.savefig(f'known-constraint-vis/iter_{iter.zfill(3)}')\n",
    "\n",
    "\n",
    "\t# add measurements to cache\n",
    "\tobservations.append(sample)"
   ]
  },
  {
   "cell_type": "code",
   "execution_count": null,
   "id": "convertible-perry",
   "metadata": {},
   "outputs": [],
   "source": []
  }
 ],
 "metadata": {
  "kernelspec": {
   "display_name": "gryffin-demo",
   "language": "python",
   "name": "gryffin-demo"
  },
  "language_info": {
   "codemirror_mode": {
    "name": "ipython",
    "version": 3
   },
   "file_extension": ".py",
   "mimetype": "text/x-python",
   "name": "python",
   "nbconvert_exporter": "python",
   "pygments_lexer": "ipython3",
   "version": "3.9.12"
  }
 },
 "nbformat": 4,
 "nbformat_minor": 5
}
