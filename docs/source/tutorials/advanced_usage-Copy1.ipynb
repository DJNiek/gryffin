{
 "cells": [
  {
   "cell_type": "markdown",
   "id": "second-guarantee",
   "metadata": {},
   "source": [
    "# Advanced Usage"
   ]
  },
  {
   "cell_type": "markdown",
   "id": "broken-cologne",
   "metadata": {},
   "source": [
    "This tutorial will demonstrate some of the more advanced ``Gryffin`` features. We will introduce sampling strategies and applying multi-dimensional constraints. We will optimize a set of 2 parameters with respect to a 2D *Dejong* surface implemented by the [olympus](https://github.com/aspuru-guzik-group/olympus) package."
   ]
  },
  {
   "cell_type": "code",
   "execution_count": 1,
   "id": "trained-intelligence",
   "metadata": {},
   "outputs": [
    {
     "name": "stdout",
     "output_type": "stream",
     "text": [
      "Using matplotlib backend: <object object at 0x7fed79ad3240>\n"
     ]
    }
   ],
   "source": [
    "import os\n",
    "os.environ['TF_CPP_MIN_LOG_LEVEL'] = '3'\n",
    "%matplotlib\n",
    "\n",
    "import numpy as np\n",
    "import matplotlib.pyplot as plt\n",
    "import seaborn as sns\n",
    "\n",
    "from gryffin import Gryffin\n",
    "import olympus\n",
    "from olympus import Surface"
   ]
  },
  {
   "cell_type": "markdown",
   "id": "israeli-married",
   "metadata": {},
   "source": [
    "Let's again define our objective function and a helper function for evaluation. In this case, our objective function will be given by a 2D *Dejong* surface."
   ]
  },
  {
   "cell_type": "code",
   "execution_count": 2,
   "id": "moral-mauritius",
   "metadata": {},
   "outputs": [],
   "source": [
    "objective = Surface(kind='Dejong', param_dim=2)\n",
    "\n",
    "def compute_objective(param):\n",
    "    param['obj'] = objective.run([val for key, val in param.items()])[0][0]\n",
    "    return param"
   ]
  },
  {
   "cell_type": "markdown",
   "id": "limited-moscow",
   "metadata": {},
   "source": [
    "Let's visualize this objective function:"
   ]
  },
  {
   "cell_type": "code",
   "execution_count": 3,
   "id": "directed-briefing",
   "metadata": {
    "scrolled": true
   },
   "outputs": [],
   "source": [
    "x_domain = np.linspace(0., 1., 60)\n",
    "y_domain = np.linspace(0., 1., 60)\n",
    "X, Y = np.meshgrid(x_domain, y_domain)\n",
    "Z = np.zeros((x_domain.shape[0], y_domain.shape[0]))\n",
    "\n",
    "for x_index, x_element in enumerate(x_domain):\n",
    "    for y_index, y_element in enumerate(y_domain):\n",
    "        loss_value = objective.run([x_element, y_element])[0][0]\n",
    "        Z[y_index, x_index] = loss_value\n",
    "\n",
    "fig, ax = plt.subplots()\n",
    "contours = plt.contour(X, Y, Z, 3, colors='black')\n",
    "ax.clabel(contours, inline=True, fontsize=8)\n",
    "ax.imshow(Z, extent=[0, 1, 0, 1], origin='lower', cmap='RdGy', alpha=0.5)\n",
    "_  = ax.set_title('Dejong Surface')\n",
    "_ = ax.set_xlabel('$x_0$')\n",
    "_ = ax.set_ylabel('$x_1$')\n"
   ]
  },
  {
   "cell_type": "markdown",
   "id": "marine-finding",
   "metadata": {},
   "source": [
    "``Gryffin``'s configuration is defined with 2 continuous parameters and a single minimization objective. In the general configuration, we fix the random seed for reproducibility, set verbosity to 0 (to suppress notebook noise). \n"
   ]
  },
  {
   "cell_type": "code",
   "execution_count": 4,
   "id": "double-verification",
   "metadata": {},
   "outputs": [],
   "source": [
    "config = {\n",
    "    \"general\": {\n",
    "        \"random_seed\": 42,\n",
    "        \"verbosity\": 0,\n",
    "        \"sampling_strategies\": 1,\n",
    "        \"boosted\":  False,\n",
    "    },\n",
    "    \"parameters\": [\n",
    "        {\"name\": \"x_0\", \"type\": \"continuous\", \"low\": 0.0, \"high\": 1.0},\n",
    "        {\"name\": \"x_1\", \"type\": \"continuous\", \"low\": 0.0, \"high\": 1.0},\n",
    "    ],\n",
    "    \"objectives\": [\n",
    "        {\"name\": \"obj\", \"goal\": \"min\"},\n",
    "    ]\n",
    "}\n"
   ]
  },
  {
   "cell_type": "markdown",
   "id": "acknowledged-franklin",
   "metadata": {},
   "source": [
    "Here, we overwrite the option ``\"sampling_strategies\": 2`` in the configuration by passing a specific values for the ``sampling_strategies`` argument to the ``recommend`` method. **TODO - do we define the sampling strategies and then overwrite with the strategy at each timestamp, also can I remove this and add it into the Dejong surface tutorial.**"
   ]
  },
  {
   "cell_type": "markdown",
   "id": "separated-charlotte",
   "metadata": {},
   "source": [
    "``Gryffin`` allows us to inject expert knowledge about multi-dimensional contraints on our parameters via a known-contraints function that is passed in a run-time. This is useful to narrow the ``Gryffin`` search space and speed up the optimization. In this case, we know that the sum of our parameters $x_0$ and $x_1$ must be less than $1.2$."
   ]
  },
  {
   "cell_type": "code",
   "execution_count": 5,
   "id": "delayed-sydney",
   "metadata": {},
   "outputs": [],
   "source": [
    "def known_constraints(param):\n",
    "    return param['x_0'] + param['x_1'] < 1.2"
   ]
  },
  {
   "cell_type": "markdown",
   "id": "least-species",
   "metadata": {},
   "source": [
    "We can visualize this constraint on our objective surface:"
   ]
  },
  {
   "cell_type": "code",
   "execution_count": 6,
   "id": "cloudy-edmonton",
   "metadata": {},
   "outputs": [],
   "source": [
    "fig, ax = plt.subplots()\n",
    "contours = plt.contour(X, Y, Z, 3, colors='black')\n",
    "ax.clabel(contours, inline=True, fontsize=8)\n",
    "ax.imshow(Z, extent=[0, 1, 0, 1], origin='lower', cmap='RdGy', alpha=0.5)\n",
    "\n",
    "ax.plot(x_domain, 1.2-y_domain, c='k', ls='--', lw=1)\n",
    "ax.fill_between(x_domain, 1.2-y_domain, 1.2-y_domain+0.8, color='k', alpha=0.4, )\n",
    "ax.set_ylim(0., 1.)\n",
    "\n",
    "_ = ax.set_title('Constrained Dejong Surface')\n",
    "_ = ax.set_xlabel('$x_0$')\n",
    "_ = ax.set_ylabel('$x_1$')"
   ]
  },
  {
   "cell_type": "markdown",
   "id": "electric-notebook",
   "metadata": {},
   "source": [
    "``Gryffin``'s instance can now be initialized with the configuration above and the constraint function."
   ]
  },
  {
   "cell_type": "code",
   "execution_count": 7,
   "id": "referenced-jimmy",
   "metadata": {},
   "outputs": [],
   "source": [
    "gryffin = Gryffin(config_dict=config, known_constraints=known_constraints)"
   ]
  },
  {
   "cell_type": "markdown",
   "id": "fantastic-stack",
   "metadata": {},
   "source": [
    "We will now configure two sampling strategies for ``Gryffin``. We will alternate between exploration and exploitation at each iteration of the optimzation. Please refer to the $\\lambda$ value presetned in the Phoenics paper for more details. A $\\lambda$ or *sampling strategy* value of $-1$ corresponds to exploitation and a value of $1$ corresponds to exploration."
   ]
  },
  {
   "cell_type": "code",
   "execution_count": 8,
   "id": "sunrise-vienna",
   "metadata": {},
   "outputs": [],
   "source": [
    "sampling_strategies = [1, -1]"
   ]
  },
  {
   "cell_type": "code",
   "execution_count": null,
   "id": "spoken-italy",
   "metadata": {},
   "outputs": [
    {
     "name": "stdout",
     "output_type": "stream",
     "text": [
      "-------------------- Iteration: 1 --------------------\n",
      "  Proposed Parameters: {'x_0': 0.03210958, 'x_1': 0.6438679} ==> Merit: 3.362527\n",
      "-------------------- Iteration: 2 --------------------\n",
      "  Proposed Parameters: {'x_0': 0.909304141998291, 'x_1': 0.00822313129901886} ==> Merit: 4.240730912022826\n",
      "-------------------- Iteration: 3 --------------------\n",
      "  Proposed Parameters: {'x_0': 0.0, 'x_1': 0.5945931673049927} ==> Merit: 3.2086581651173325\n",
      "-------------------- Iteration: 4 --------------------\n",
      "  Proposed Parameters: {'x_0': 0.4520935118198395, 'x_1': 0.30063194036483765} ==> Merit: 2.1041226786962097\n",
      "-------------------- Iteration: 5 --------------------\n",
      "  Proposed Parameters: {'x_0': 0.569649241516148, 'x_1': 0.27425828788277956} ==> Merit: 2.3370315506847916\n",
      "-------------------- Iteration: 6 --------------------\n",
      "  Proposed Parameters: {'x_0': 0.20616485178470612, 'x_1': 0.991956353187561} ==> Merit: 3.9321709465621217\n",
      "-------------------- Iteration: 7 --------------------\n",
      "  Proposed Parameters: {'x_0': 0.4259766774135969, 'x_1': 0.3419336319458003} ==> Merit: 2.1176125550298885\n",
      "-------------------- Iteration: 8 --------------------\n",
      "  Proposed Parameters: {'x_0': 0.7224183328271838, 'x_1': 0.4500604521961648} ==> Merit: 2.1980488052333036\n",
      "-------------------- Iteration: 9 --------------------\n",
      "  Proposed Parameters: {'x_0': 0.39433605733596666, 'x_1': 0.21479468406479804} ==> Merit: 2.71673196526616\n",
      "-------------------- Iteration: 10 --------------------\n",
      "  Proposed Parameters: {'x_0': 0.3146718144416809, 'x_1': 0.8251163959503174} ==> Merit: 3.1644513835228847\n",
      "-------------------- Iteration: 11 --------------------\n",
      "  Proposed Parameters: {'x_0': 0.32751144069154464, 'x_1': 0.2939767377759255} ==> Merit: 2.74870004391642\n",
      "-------------------- Iteration: 12 --------------------\n",
      "  Proposed Parameters: {'x_0': 0.843839168548584, 'x_1': 0.10959377139806747} ==> Merit: 3.8301600832430145\n",
      "-------------------- Iteration: 13 --------------------\n",
      "  Proposed Parameters: {'x_0': 0.43901579837224586, 'x_1': 0.3129412774950801} ==> Merit: 2.1486179493337385\n",
      "-------------------- Iteration: 14 --------------------\n",
      "  Proposed Parameters: {'x_0': 0.11819032376325292, 'x_1': 0.7321395419375623} ==> Merit: 3.477607698530978\n",
      "-------------------- Iteration: 15 --------------------\n",
      "  Proposed Parameters: {'x_0': 0.5430504486764615, 'x_1': 0.2594768455405962} ==> Merit: 2.2070093003263835\n",
      "-------------------- Iteration: 16 --------------------\n"
     ]
    }
   ],
   "source": [
    "fig, axes = plt.subplots(1, 2, figsize=(10, 5), sharey=True)\n",
    "axes = axes.flatten()\n",
    "plt.ion()\n",
    "\n",
    "observations = []\n",
    "MAX_ITER = 24\n",
    "\n",
    "for num_iter in range(MAX_ITER):\n",
    "    print('-'*20, 'Iteration:', num_iter+1, '-'*20)\n",
    "\n",
    "    # Select alternating sampling strategy (i.e. lambda value presented in the Phoenics paper)\n",
    "    select_ix = num_iter % len(sampling_strategies)\n",
    "    sampling_strategy = sampling_strategies[select_ix]\n",
    "\n",
    "    # Query for new parameters\n",
    "    params  = gryffin.recommend(\n",
    "        observations = observations, \n",
    "        sampling_strategies=[sampling_strategy]\n",
    "    )\n",
    "\n",
    "    param = params[0]\n",
    "    print('  Proposed Parameters:', param, end=' ')\n",
    "\n",
    "    # Evaluate the proposed parameters.\n",
    "    observation = compute_objective(param)\n",
    "    print('==> Merit:', observation['obj'])\n",
    "    \n",
    "    for ax in axes:\n",
    "        ax.clear()\n",
    "    if num_iter >=1:\n",
    "        # plotting ground truth\n",
    "        x_domain = np.linspace(0., 1., 60)\n",
    "        y_domain = np.linspace(0., 1., 60)\n",
    "        X, Y = np.meshgrid(x_domain, y_domain)\n",
    "        Z    = np.zeros((x_domain.shape[0], y_domain.shape[0]))\n",
    "        acq = np.zeros((x_domain.shape[0], y_domain.shape[0]))\n",
    "    \n",
    "        for x_index, x_element in enumerate(x_domain):\n",
    "            for y_index, y_element in enumerate(y_domain):\n",
    "                # evaluate surface\n",
    "                loss_value = objective.run([x_element, y_element])[0][0]\n",
    "                Z[y_index, x_index] = loss_value\n",
    "                # evaluate acquisition function\n",
    "                acq_value = gryffin.get_acquisition([{'x_0': x_element, 'x_1': y_element }])[sampling_strategy][0]\n",
    "                acq[y_index, x_index] = acq_value\n",
    "\n",
    "        contours = axes[0].contour(X, Y, Z, 3, colors='black')\n",
    "        axes[0].clabel(contours, inline=True, fontsize=8)\n",
    "        axes[0].imshow(Z, extent=[0, 1, 0, 1], origin='lower', cmap='RdGy', alpha=0.5)\n",
    "\n",
    "        axes[0].plot(x_domain, 1.2-y_domain, c='k', ls='--', lw=1)\n",
    "        axes[0].fill_between(x_domain, 1.2-y_domain, 1.2-y_domain+0.8, color='k', alpha=0.4, )\n",
    "\n",
    "        for obs_index, obs in enumerate(observations):\n",
    "            if obs_index == 0:\n",
    "                axes[0].plot(obs['x_0'], obs['x_1'], marker = 'o', color = '#1a1423', markersize = 7, alpha=0.8, label='Previous observations')\n",
    "            else:\n",
    "                axes[0].plot(obs['x_0'], obs['x_1'], marker = 'o', color = '#1a1423', markersize = 7, alpha=0.8)\n",
    "\n",
    "        if len(observations) >= 1:\n",
    "            # plot the final observation\n",
    "            axes[0].plot(observations[-1]['x_0'], observations[-1]['x_1'], marker = 'D', color = '#5b2333', markersize = 8, label='Observation')\n",
    "\n",
    "        axes[0].set_ylim(0., 1.)\n",
    "\n",
    "        axes[0].set_title('Constrained Dejong surface')\n",
    "        axes[0].set_ylabel('$x_1$')\n",
    "        axes[0].set_xlabel('$x_0$')\n",
    "\n",
    "        axes[0].legend(loc='upper right', fontsize=10)\n",
    "\n",
    "        # plot acquisition\n",
    "        contours = axes[1].contour(X, Y, acq, 3, colors='black')\n",
    "        axes[1].clabel(contours, inline=True, fontsize=8)\n",
    "        axes[1].imshow(acq, extent=[0, 1, 0, 1], origin='lower', cmap='RdGy', alpha=0.5)\n",
    "\n",
    "        axes[1].plot(x_domain, 1.2-y_domain, c='k', ls='--', lw=1)\n",
    "        axes[1].fill_between(x_domain, 1.2-y_domain, 1.2-y_domain+0.8, color='k', alpha=0.4, )\n",
    "\n",
    "        for obs_index, obs in enumerate(observations):\n",
    "            if obs_index == 0:\n",
    "                axes[1].plot(obs['x_0'], obs['x_1'], marker = 'o', color = '#1a1423', markersize = 7, ls='', alpha=0.8, label='Previous observations')\n",
    "            else:\n",
    "                axes[1].plot(obs['x_0'], obs['x_1'], marker = 'o', color = '#1a1423', markersize = 7, alpha=0.8)\n",
    "\n",
    "        if len(observations) >= 1:\n",
    "            # plot the final observation\n",
    "            axes[1].plot(observations[-1]['x_0'], observations[-1]['x_1'], marker = 'D', ls='', color = '#5b2333', markersize = 8, label='Observation')\n",
    "\n",
    "        axes[1].set_ylim(0., 1.)\n",
    "\n",
    "\n",
    "        axes[1].set_title('Constrained Gryffin acquistion\\n' + r'$\\lambda=$'+f'{sampling_strategy}')\n",
    "        axes[1].set_xlabel('$x_0$')\n",
    "\n",
    "\n",
    "\n",
    "        plt.pause(0.05)\n",
    "        plt.savefig(f'advanced-usage-vis/iter_{str(num_iter).zfill(2)}')\n",
    "\n",
    "    # Append this observation to the previous experiments\n",
    "    observations.append(param)"
   ]
  },
  {
   "cell_type": "markdown",
   "id": "turkish-bundle",
   "metadata": {},
   "source": [
    "We can now visualize this output and observe how the Gryffin aquisition function evolves, alternating between exploration and exploitation at each iteration."
   ]
  },
  {
   "cell_type": "markdown",
   "id": "healthy-construction",
   "metadata": {},
   "source": [
    "![title](assets/advanced_usage_vis.gif)"
   ]
  },
  {
   "cell_type": "code",
   "execution_count": null,
   "id": "offensive-serbia",
   "metadata": {},
   "outputs": [],
   "source": []
  }
 ],
 "metadata": {
  "kernelspec": {
   "display_name": "gryffin-demo",
   "language": "python",
   "name": "gryffin-demo"
  },
  "language_info": {
   "codemirror_mode": {
    "name": "ipython",
    "version": 3
   },
   "file_extension": ".py",
   "mimetype": "text/x-python",
   "name": "python",
   "nbconvert_exporter": "python",
   "pygments_lexer": "ipython3",
   "version": "3.9.12"
  }
 },
 "nbformat": 4,
 "nbformat_minor": 5
}
