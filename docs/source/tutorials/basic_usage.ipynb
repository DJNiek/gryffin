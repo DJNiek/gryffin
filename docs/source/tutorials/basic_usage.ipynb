{
 "cells": [
  {
   "cell_type": "markdown",
   "id": "settled-exploration",
   "metadata": {},
   "source": [
    "# Basic Usage"
   ]
  },
  {
   "cell_type": "markdown",
   "id": "brutal-canyon",
   "metadata": {},
   "source": [
    "This tutorial demonstrates the basic usage of the Gryffin package. This toy implementation optimizes a set of hyper-parameters \\['param_0',  'param_1'\\] using a 2D `Dejong` surface provided by the [olympus](https://github.com/aspuru-guzik-group/olympus) package.\n",
    "\n"
   ]
  },
  {
   "cell_type": "code",
   "execution_count": 1,
   "id": "cognitive-charity",
   "metadata": {},
   "outputs": [
    {
     "name": "stdout",
     "output_type": "stream",
     "text": [
      "Using matplotlib backend: <object object at 0x7fb2b1210200>\n"
     ]
    }
   ],
   "source": [
    "import os\n",
    "os.environ['TF_CPP_MIN_LOG_LEVEL'] = '3' \n",
    "%matplotlib"
   ]
  },
  {
   "cell_type": "code",
   "execution_count": 2,
   "id": "exceptional-syntax",
   "metadata": {},
   "outputs": [],
   "source": [
    "import numpy as np\n",
    "import olympus\n",
    "from olympus import Surface\n",
    "from gryffin import Gryffin"
   ]
  },
  {
   "cell_type": "code",
   "execution_count": 3,
   "id": "dated-basket",
   "metadata": {},
   "outputs": [],
   "source": [
    "BUDGET = 24\n",
    "PLOT = True\n",
    "SAMPLING_SRATEGIES = np.array([-1, 1])\n",
    "surface = Surface(kind='Dejong', param_dim=2)"
   ]
  },
  {
   "cell_type": "code",
   "execution_count": 4,
   "id": "equal-chambers",
   "metadata": {},
   "outputs": [],
   "source": [
    "# gryffin config\n",
    "config = {\n",
    "\t\"general\": {\n",
    "\t\t\"num_cpus\": 4,\n",
    "\t\t\"auto_desc_gen\": False,\n",
    "\t\t\"batches\": 1,\n",
    "\t\t\"sampling_strategies\": 1,\n",
    "\t\t\"boosted\":  False,\n",
    "\t\t\"caching\": True,\n",
    "\t\t\"random_seed\": 2021,\n",
    "\t\t\"acquisition_optimizer\": \"adam\",\n",
    "\t\t\"verbosity\": 3\n",
    "\t\t},\n",
    "\t\"parameters\": [\n",
    "\t\t{\"name\": \"param_0\", \"type\": \"continuous\", \"low\": 0.0, \"high\": 1.0},\n",
    "\t\t{\"name\": \"param_1\", \"type\": \"continuous\", \"low\": 0.0, \"high\": 1.0},\n",
    "\t],\n",
    "\t\"objectives\": [\n",
    "\t\t{\"name\": \"obj\", \"goal\": \"min\"},\n",
    "\t]\n",
    "}"
   ]
  },
  {
   "cell_type": "code",
   "execution_count": 5,
   "id": "opposite-palmer",
   "metadata": {},
   "outputs": [],
   "source": [
    "# initialize gryffin\n",
    "gryffin = Gryffin(\n",
    "\tconfig_dict=config\n",
    ")"
   ]
  },
  {
   "cell_type": "code",
   "execution_count": 6,
   "id": "spread-sponsorship",
   "metadata": {},
   "outputs": [],
   "source": [
    "if PLOT:\n",
    "\timport matplotlib.pyplot as plt\n",
    "\timport seaborn as sns\n",
    "\tfig, axes = plt.subplots(1, 2, figsize=(10, 5), sharey=True)\n",
    "\taxes = axes.flatten()\n",
    "\tplt.ion()"
   ]
  },
  {
   "cell_type": "code",
   "execution_count": 7,
   "id": "waiting-glucose",
   "metadata": {},
   "outputs": [
    {
     "data": {
      "text/html": [
       "<pre style=\"white-space:pre;overflow-x:auto;line-height:normal;font-family:Menlo,'DejaVu Sans Mono',consolas,'Courier New',monospace\"><span style=\"color: #f4a261; text-decoration-color: #f4a261\">Could not find any observations, falling back to random sampling</span>\n",
       "</pre>\n"
      ],
      "text/plain": [
       "\u001b[38;2;244;162;97mCould not find any observations, falling back to random sampling\u001b[0m\n"
      ]
     },
     "metadata": {},
     "output_type": "display_data"
    },
    {
     "data": {
      "text/html": [
       "<pre style=\"white-space:pre;overflow-x:auto;line-height:normal;font-family:Menlo,'DejaVu Sans Mono',consolas,'Courier New',monospace\">Memory usage: <span style=\"color: #008080; text-decoration-color: #008080; font-weight: bold\">0</span> GB, <span style=\"color: #008080; text-decoration-color: #008080; font-weight: bold\">464</span> MB, <span style=\"color: #008080; text-decoration-color: #008080; font-weight: bold\">296</span> kB\n",
       "</pre>\n"
      ],
      "text/plain": [
       "Memory usage: \u001b[1;36m0\u001b[0m GB, \u001b[1;36m464\u001b[0m MB, \u001b[1;36m296\u001b[0m kB\n"
      ]
     },
     "metadata": {},
     "output_type": "display_data"
    },
    {
     "data": {
      "text/html": [
       "<pre style=\"white-space:pre;overflow-x:auto;line-height:normal;font-family:Menlo,'DejaVu Sans Mono',consolas,'Courier New',monospace\">Overall time required: <span style=\"color: #008080; text-decoration-color: #008080; font-weight: bold\">10.0</span> ms\n",
       "</pre>\n"
      ],
      "text/plain": [
       "Overall time required: \u001b[1;36m10.0\u001b[0m ms\n"
      ]
     },
     "metadata": {},
     "output_type": "display_data"
    },
    {
     "data": {
      "text/html": [
       "<pre style=\"white-space:pre;overflow-x:auto;line-height:normal;font-family:Menlo,'DejaVu Sans Mono',consolas,'Courier New',monospace\"><span style=\"color: #008080; text-decoration-color: #008080; font-weight: bold\">1</span> observations found\n",
       "</pre>\n"
      ],
      "text/plain": [
       "\u001b[1;36m1\u001b[0m observations found\n"
      ]
     },
     "metadata": {},
     "output_type": "display_data"
    },
    {
     "data": {
      "text/html": [
       "<pre style=\"white-space:pre;overflow-x:auto;line-height:normal;font-family:Menlo,'DejaVu Sans Mono',consolas,'Courier New',monospace\">Bayesian neural network trained in <span style=\"color: #008080; text-decoration-color: #008080; font-weight: bold\">3.9</span> s\n",
       "</pre>\n"
      ],
      "text/plain": [
       "Bayesian neural network trained in \u001b[1;36m3.9\u001b[0m s\n"
      ]
     },
     "metadata": {},
     "output_type": "display_data"
    },
    {
     "data": {
      "text/html": [
       "<pre style=\"white-space:pre;overflow-x:auto;line-height:normal;font-family:Menlo,'DejaVu Sans Mono',consolas,'Courier New',monospace\"><span style=\"color: #008080; text-decoration-color: #008080; font-weight: bold\">800</span> random proposals drawn in <span style=\"color: #008080; text-decoration-color: #008080; font-weight: bold\">308.4</span> ms\n",
       "</pre>\n"
      ],
      "text/plain": [
       "\u001b[1;36m800\u001b[0m random proposals drawn in \u001b[1;36m308.4\u001b[0m ms\n"
      ]
     },
     "metadata": {},
     "output_type": "display_data"
    },
    {
     "data": {
      "text/html": [
       "<pre style=\"white-space:pre;overflow-x:auto;line-height:normal;font-family:Menlo,'DejaVu Sans Mono',consolas,'Courier New',monospace\"><span style=\"color: #008080; text-decoration-color: #008080; font-weight: bold\">800</span> proposals optimized in <span style=\"color: #008080; text-decoration-color: #008080; font-weight: bold\">1.6</span> s using <span style=\"color: #008080; text-decoration-color: #008080; font-weight: bold\">4</span> CPUs\n",
       "</pre>\n"
      ],
      "text/plain": [
       "\u001b[1;36m800\u001b[0m proposals optimized in \u001b[1;36m1.6\u001b[0m s using \u001b[1;36m4\u001b[0m CPUs\n"
      ]
     },
     "metadata": {},
     "output_type": "display_data"
    },
    {
     "data": {
      "text/html": [
       "<pre style=\"white-space:pre;overflow-x:auto;line-height:normal;font-family:Menlo,'DejaVu Sans Mono',consolas,'Courier New',monospace\">Acquisition tasks for <span style=\"color: #008080; text-decoration-color: #008080; font-weight: bold\">1</span> sampling strategy performed in <span style=\"color: #008080; text-decoration-color: #008080; font-weight: bold\">2.0</span> s\n",
       "</pre>\n"
      ],
      "text/plain": [
       "Acquisition tasks for \u001b[1;36m1\u001b[0m sampling strategy performed in \u001b[1;36m2.0\u001b[0m s\n"
      ]
     },
     "metadata": {},
     "output_type": "display_data"
    },
    {
     "data": {
      "text/html": [
       "<pre style=\"white-space:pre;overflow-x:auto;line-height:normal;font-family:Menlo,'DejaVu Sans Mono',consolas,'Courier New',monospace\"><span style=\"color: #008080; text-decoration-color: #008080; font-weight: bold\">1</span> sample selected in <span style=\"color: #008080; text-decoration-color: #008080; font-weight: bold\">254.6</span> ms\n",
       "</pre>\n"
      ],
      "text/plain": [
       "\u001b[1;36m1\u001b[0m sample selected in \u001b[1;36m254.6\u001b[0m ms\n"
      ]
     },
     "metadata": {},
     "output_type": "display_data"
    },
    {
     "data": {
      "text/html": [
       "<pre style=\"white-space:pre;overflow-x:auto;line-height:normal;font-family:Menlo,'DejaVu Sans Mono',consolas,'Courier New',monospace\">Memory usage: <span style=\"color: #008080; text-decoration-color: #008080; font-weight: bold\">0</span> GB, <span style=\"color: #008080; text-decoration-color: #008080; font-weight: bold\">464</span> MB, <span style=\"color: #008080; text-decoration-color: #008080; font-weight: bold\">940</span> kB\n",
       "</pre>\n"
      ],
      "text/plain": [
       "Memory usage: \u001b[1;36m0\u001b[0m GB, \u001b[1;36m464\u001b[0m MB, \u001b[1;36m940\u001b[0m kB\n"
      ]
     },
     "metadata": {},
     "output_type": "display_data"
    },
    {
     "data": {
      "text/html": [
       "<pre style=\"white-space:pre;overflow-x:auto;line-height:normal;font-family:Menlo,'DejaVu Sans Mono',consolas,'Courier New',monospace\">Overall time required: <span style=\"color: #008080; text-decoration-color: #008080; font-weight: bold\">6.1</span> s\n",
       "</pre>\n"
      ],
      "text/plain": [
       "Overall time required: \u001b[1;36m6.1\u001b[0m s\n"
      ]
     },
     "metadata": {},
     "output_type": "display_data"
    },
    {
     "data": {
      "text/html": [
       "<pre style=\"white-space:pre;overflow-x:auto;line-height:normal;font-family:Menlo,'DejaVu Sans Mono',consolas,'Courier New',monospace\"><span style=\"color: #008080; text-decoration-color: #008080; font-weight: bold\">2</span> observations found\n",
       "</pre>\n"
      ],
      "text/plain": [
       "\u001b[1;36m2\u001b[0m observations found\n"
      ]
     },
     "metadata": {},
     "output_type": "display_data"
    },
    {
     "data": {
      "text/html": [
       "<pre style=\"white-space:pre;overflow-x:auto;line-height:normal;font-family:Menlo,'DejaVu Sans Mono',consolas,'Courier New',monospace\">Bayesian neural network trained in <span style=\"color: #008080; text-decoration-color: #008080; font-weight: bold\">4.2</span> s\n",
       "</pre>\n"
      ],
      "text/plain": [
       "Bayesian neural network trained in \u001b[1;36m4.2\u001b[0m s\n"
      ]
     },
     "metadata": {},
     "output_type": "display_data"
    },
    {
     "data": {
      "text/html": [
       "<pre style=\"white-space:pre;overflow-x:auto;line-height:normal;font-family:Menlo,'DejaVu Sans Mono',consolas,'Courier New',monospace\"><span style=\"color: #008080; text-decoration-color: #008080; font-weight: bold\">800</span> random proposals drawn in <span style=\"color: #008080; text-decoration-color: #008080; font-weight: bold\">102.3</span> ms\n",
       "</pre>\n"
      ],
      "text/plain": [
       "\u001b[1;36m800\u001b[0m random proposals drawn in \u001b[1;36m102.3\u001b[0m ms\n"
      ]
     },
     "metadata": {},
     "output_type": "display_data"
    },
    {
     "data": {
      "text/html": [
       "<pre style=\"white-space:pre;overflow-x:auto;line-height:normal;font-family:Menlo,'DejaVu Sans Mono',consolas,'Courier New',monospace\"><span style=\"color: #008080; text-decoration-color: #008080; font-weight: bold\">800</span> proposals optimized in <span style=\"color: #008080; text-decoration-color: #008080; font-weight: bold\">2.9</span> s using <span style=\"color: #008080; text-decoration-color: #008080; font-weight: bold\">4</span> CPUs\n",
       "</pre>\n"
      ],
      "text/plain": [
       "\u001b[1;36m800\u001b[0m proposals optimized in \u001b[1;36m2.9\u001b[0m s using \u001b[1;36m4\u001b[0m CPUs\n"
      ]
     },
     "metadata": {},
     "output_type": "display_data"
    },
    {
     "data": {
      "text/html": [
       "<pre style=\"white-space:pre;overflow-x:auto;line-height:normal;font-family:Menlo,'DejaVu Sans Mono',consolas,'Courier New',monospace\">Acquisition tasks for <span style=\"color: #008080; text-decoration-color: #008080; font-weight: bold\">1</span> sampling strategy performed in <span style=\"color: #008080; text-decoration-color: #008080; font-weight: bold\">3.1</span> s\n",
       "</pre>\n"
      ],
      "text/plain": [
       "Acquisition tasks for \u001b[1;36m1\u001b[0m sampling strategy performed in \u001b[1;36m3.1\u001b[0m s\n"
      ]
     },
     "metadata": {},
     "output_type": "display_data"
    },
    {
     "data": {
      "text/html": [
       "<pre style=\"white-space:pre;overflow-x:auto;line-height:normal;font-family:Menlo,'DejaVu Sans Mono',consolas,'Courier New',monospace\"><span style=\"color: #008080; text-decoration-color: #008080; font-weight: bold\">1</span> sample selected in <span style=\"color: #008080; text-decoration-color: #008080; font-weight: bold\">303.3</span> ms\n",
       "</pre>\n"
      ],
      "text/plain": [
       "\u001b[1;36m1\u001b[0m sample selected in \u001b[1;36m303.3\u001b[0m ms\n"
      ]
     },
     "metadata": {},
     "output_type": "display_data"
    },
    {
     "data": {
      "text/html": [
       "<pre style=\"white-space:pre;overflow-x:auto;line-height:normal;font-family:Menlo,'DejaVu Sans Mono',consolas,'Courier New',monospace\">Memory usage: <span style=\"color: #008080; text-decoration-color: #008080; font-weight: bold\">0</span> GB, <span style=\"color: #008080; text-decoration-color: #008080; font-weight: bold\">478</span> MB, <span style=\"color: #008080; text-decoration-color: #008080; font-weight: bold\">368</span> kB\n",
       "</pre>\n"
      ],
      "text/plain": [
       "Memory usage: \u001b[1;36m0\u001b[0m GB, \u001b[1;36m478\u001b[0m MB, \u001b[1;36m368\u001b[0m kB\n"
      ]
     },
     "metadata": {},
     "output_type": "display_data"
    },
    {
     "data": {
      "text/html": [
       "<pre style=\"white-space:pre;overflow-x:auto;line-height:normal;font-family:Menlo,'DejaVu Sans Mono',consolas,'Courier New',monospace\">Overall time required: <span style=\"color: #008080; text-decoration-color: #008080; font-weight: bold\">7.6</span> s\n",
       "</pre>\n"
      ],
      "text/plain": [
       "Overall time required: \u001b[1;36m7.6\u001b[0m s\n"
      ]
     },
     "metadata": {},
     "output_type": "display_data"
    },
    {
     "data": {
      "text/html": [
       "<pre style=\"white-space:pre;overflow-x:auto;line-height:normal;font-family:Menlo,'DejaVu Sans Mono',consolas,'Courier New',monospace\"><span style=\"color: #008080; text-decoration-color: #008080; font-weight: bold\">3</span> observations found\n",
       "</pre>\n"
      ],
      "text/plain": [
       "\u001b[1;36m3\u001b[0m observations found\n"
      ]
     },
     "metadata": {},
     "output_type": "display_data"
    },
    {
     "data": {
      "text/html": [
       "<pre style=\"white-space:pre;overflow-x:auto;line-height:normal;font-family:Menlo,'DejaVu Sans Mono',consolas,'Courier New',monospace\">Bayesian neural network trained in <span style=\"color: #008080; text-decoration-color: #008080; font-weight: bold\">4.2</span> s\n",
       "</pre>\n"
      ],
      "text/plain": [
       "Bayesian neural network trained in \u001b[1;36m4.2\u001b[0m s\n"
      ]
     },
     "metadata": {},
     "output_type": "display_data"
    },
    {
     "data": {
      "text/html": [
       "<pre style=\"white-space:pre;overflow-x:auto;line-height:normal;font-family:Menlo,'DejaVu Sans Mono',consolas,'Courier New',monospace\"><span style=\"color: #008080; text-decoration-color: #008080; font-weight: bold\">800</span> random proposals drawn in <span style=\"color: #008080; text-decoration-color: #008080; font-weight: bold\">107.0</span> ms\n",
       "</pre>\n"
      ],
      "text/plain": [
       "\u001b[1;36m800\u001b[0m random proposals drawn in \u001b[1;36m107.0\u001b[0m ms\n"
      ]
     },
     "metadata": {},
     "output_type": "display_data"
    },
    {
     "data": {
      "text/html": [
       "<pre style=\"white-space:pre;overflow-x:auto;line-height:normal;font-family:Menlo,'DejaVu Sans Mono',consolas,'Courier New',monospace\"><span style=\"color: #008080; text-decoration-color: #008080; font-weight: bold\">800</span> proposals optimized in <span style=\"color: #008080; text-decoration-color: #008080; font-weight: bold\">3.1</span> s using <span style=\"color: #008080; text-decoration-color: #008080; font-weight: bold\">4</span> CPUs\n",
       "</pre>\n"
      ],
      "text/plain": [
       "\u001b[1;36m800\u001b[0m proposals optimized in \u001b[1;36m3.1\u001b[0m s using \u001b[1;36m4\u001b[0m CPUs\n"
      ]
     },
     "metadata": {},
     "output_type": "display_data"
    },
    {
     "data": {
      "text/html": [
       "<pre style=\"white-space:pre;overflow-x:auto;line-height:normal;font-family:Menlo,'DejaVu Sans Mono',consolas,'Courier New',monospace\">Acquisition tasks for <span style=\"color: #008080; text-decoration-color: #008080; font-weight: bold\">1</span> sampling strategy performed in <span style=\"color: #008080; text-decoration-color: #008080; font-weight: bold\">3.2</span> s\n",
       "</pre>\n"
      ],
      "text/plain": [
       "Acquisition tasks for \u001b[1;36m1\u001b[0m sampling strategy performed in \u001b[1;36m3.2\u001b[0m s\n"
      ]
     },
     "metadata": {},
     "output_type": "display_data"
    },
    {
     "data": {
      "text/html": [
       "<pre style=\"white-space:pre;overflow-x:auto;line-height:normal;font-family:Menlo,'DejaVu Sans Mono',consolas,'Courier New',monospace\"><span style=\"color: #008080; text-decoration-color: #008080; font-weight: bold\">1</span> sample selected in <span style=\"color: #008080; text-decoration-color: #008080; font-weight: bold\">329.5</span> ms\n",
       "</pre>\n"
      ],
      "text/plain": [
       "\u001b[1;36m1\u001b[0m sample selected in \u001b[1;36m329.5\u001b[0m ms\n"
      ]
     },
     "metadata": {},
     "output_type": "display_data"
    },
    {
     "data": {
      "text/html": [
       "<pre style=\"white-space:pre;overflow-x:auto;line-height:normal;font-family:Menlo,'DejaVu Sans Mono',consolas,'Courier New',monospace\">Memory usage: <span style=\"color: #008080; text-decoration-color: #008080; font-weight: bold\">0</span> GB, <span style=\"color: #008080; text-decoration-color: #008080; font-weight: bold\">479</span> MB, <span style=\"color: #008080; text-decoration-color: #008080; font-weight: bold\">192</span> kB\n",
       "</pre>\n"
      ],
      "text/plain": [
       "Memory usage: \u001b[1;36m0\u001b[0m GB, \u001b[1;36m479\u001b[0m MB, \u001b[1;36m192\u001b[0m kB\n"
      ]
     },
     "metadata": {},
     "output_type": "display_data"
    },
    {
     "data": {
      "text/html": [
       "<pre style=\"white-space:pre;overflow-x:auto;line-height:normal;font-family:Menlo,'DejaVu Sans Mono',consolas,'Courier New',monospace\">Overall time required: <span style=\"color: #008080; text-decoration-color: #008080; font-weight: bold\">7.8</span> s\n",
       "</pre>\n"
      ],
      "text/plain": [
       "Overall time required: \u001b[1;36m7.8\u001b[0m s\n"
      ]
     },
     "metadata": {},
     "output_type": "display_data"
    },
    {
     "data": {
      "text/html": [
       "<pre style=\"white-space:pre;overflow-x:auto;line-height:normal;font-family:Menlo,'DejaVu Sans Mono',consolas,'Courier New',monospace\"><span style=\"color: #008080; text-decoration-color: #008080; font-weight: bold\">4</span> observations found\n",
       "</pre>\n"
      ],
      "text/plain": [
       "\u001b[1;36m4\u001b[0m observations found\n"
      ]
     },
     "metadata": {},
     "output_type": "display_data"
    },
    {
     "data": {
      "text/html": [
       "<pre style=\"white-space:pre;overflow-x:auto;line-height:normal;font-family:Menlo,'DejaVu Sans Mono',consolas,'Courier New',monospace\">Bayesian neural network trained in <span style=\"color: #008080; text-decoration-color: #008080; font-weight: bold\">4.2</span> s\n",
       "</pre>\n"
      ],
      "text/plain": [
       "Bayesian neural network trained in \u001b[1;36m4.2\u001b[0m s\n"
      ]
     },
     "metadata": {},
     "output_type": "display_data"
    },
    {
     "data": {
      "text/html": [
       "<pre style=\"white-space:pre;overflow-x:auto;line-height:normal;font-family:Menlo,'DejaVu Sans Mono',consolas,'Courier New',monospace\"><span style=\"color: #008080; text-decoration-color: #008080; font-weight: bold\">800</span> random proposals drawn in <span style=\"color: #008080; text-decoration-color: #008080; font-weight: bold\">105.0</span> ms\n",
       "</pre>\n"
      ],
      "text/plain": [
       "\u001b[1;36m800\u001b[0m random proposals drawn in \u001b[1;36m105.0\u001b[0m ms\n"
      ]
     },
     "metadata": {},
     "output_type": "display_data"
    },
    {
     "data": {
      "text/html": [
       "<pre style=\"white-space:pre;overflow-x:auto;line-height:normal;font-family:Menlo,'DejaVu Sans Mono',consolas,'Courier New',monospace\"><span style=\"color: #008080; text-decoration-color: #008080; font-weight: bold\">800</span> proposals optimized in <span style=\"color: #008080; text-decoration-color: #008080; font-weight: bold\">3.7</span> s using <span style=\"color: #008080; text-decoration-color: #008080; font-weight: bold\">4</span> CPUs\n",
       "</pre>\n"
      ],
      "text/plain": [
       "\u001b[1;36m800\u001b[0m proposals optimized in \u001b[1;36m3.7\u001b[0m s using \u001b[1;36m4\u001b[0m CPUs\n"
      ]
     },
     "metadata": {},
     "output_type": "display_data"
    },
    {
     "data": {
      "text/html": [
       "<pre style=\"white-space:pre;overflow-x:auto;line-height:normal;font-family:Menlo,'DejaVu Sans Mono',consolas,'Courier New',monospace\">Acquisition tasks for <span style=\"color: #008080; text-decoration-color: #008080; font-weight: bold\">1</span> sampling strategy performed in <span style=\"color: #008080; text-decoration-color: #008080; font-weight: bold\">3.9</span> s\n",
       "</pre>\n"
      ],
      "text/plain": [
       "Acquisition tasks for \u001b[1;36m1\u001b[0m sampling strategy performed in \u001b[1;36m3.9\u001b[0m s\n"
      ]
     },
     "metadata": {},
     "output_type": "display_data"
    },
    {
     "data": {
      "text/html": [
       "<pre style=\"white-space:pre;overflow-x:auto;line-height:normal;font-family:Menlo,'DejaVu Sans Mono',consolas,'Courier New',monospace\"><span style=\"color: #008080; text-decoration-color: #008080; font-weight: bold\">1</span> sample selected in <span style=\"color: #008080; text-decoration-color: #008080; font-weight: bold\">358.4</span> ms\n",
       "</pre>\n"
      ],
      "text/plain": [
       "\u001b[1;36m1\u001b[0m sample selected in \u001b[1;36m358.4\u001b[0m ms\n"
      ]
     },
     "metadata": {},
     "output_type": "display_data"
    },
    {
     "data": {
      "text/html": [
       "<pre style=\"white-space:pre;overflow-x:auto;line-height:normal;font-family:Menlo,'DejaVu Sans Mono',consolas,'Courier New',monospace\">Memory usage: <span style=\"color: #008080; text-decoration-color: #008080; font-weight: bold\">0</span> GB, <span style=\"color: #008080; text-decoration-color: #008080; font-weight: bold\">480</span> MB, <span style=\"color: #008080; text-decoration-color: #008080; font-weight: bold\">268</span> kB\n",
       "</pre>\n"
      ],
      "text/plain": [
       "Memory usage: \u001b[1;36m0\u001b[0m GB, \u001b[1;36m480\u001b[0m MB, \u001b[1;36m268\u001b[0m kB\n"
      ]
     },
     "metadata": {},
     "output_type": "display_data"
    },
    {
     "data": {
      "text/html": [
       "<pre style=\"white-space:pre;overflow-x:auto;line-height:normal;font-family:Menlo,'DejaVu Sans Mono',consolas,'Courier New',monospace\">Overall time required: <span style=\"color: #008080; text-decoration-color: #008080; font-weight: bold\">8.5</span> s\n",
       "</pre>\n"
      ],
      "text/plain": [
       "Overall time required: \u001b[1;36m8.5\u001b[0m s\n"
      ]
     },
     "metadata": {},
     "output_type": "display_data"
    },
    {
     "data": {
      "text/html": [
       "<pre style=\"white-space:pre;overflow-x:auto;line-height:normal;font-family:Menlo,'DejaVu Sans Mono',consolas,'Courier New',monospace\"><span style=\"color: #008080; text-decoration-color: #008080; font-weight: bold\">5</span> observations found\n",
       "</pre>\n"
      ],
      "text/plain": [
       "\u001b[1;36m5\u001b[0m observations found\n"
      ]
     },
     "metadata": {},
     "output_type": "display_data"
    },
    {
     "data": {
      "text/html": [
       "<pre style=\"white-space:pre;overflow-x:auto;line-height:normal;font-family:Menlo,'DejaVu Sans Mono',consolas,'Courier New',monospace\">Bayesian neural network trained in <span style=\"color: #008080; text-decoration-color: #008080; font-weight: bold\">4.4</span> s\n",
       "</pre>\n"
      ],
      "text/plain": [
       "Bayesian neural network trained in \u001b[1;36m4.4\u001b[0m s\n"
      ]
     },
     "metadata": {},
     "output_type": "display_data"
    },
    {
     "data": {
      "text/html": [
       "<pre style=\"white-space:pre;overflow-x:auto;line-height:normal;font-family:Menlo,'DejaVu Sans Mono',consolas,'Courier New',monospace\"><span style=\"color: #008080; text-decoration-color: #008080; font-weight: bold\">800</span> random proposals drawn in <span style=\"color: #008080; text-decoration-color: #008080; font-weight: bold\">103.3</span> ms\n",
       "</pre>\n"
      ],
      "text/plain": [
       "\u001b[1;36m800\u001b[0m random proposals drawn in \u001b[1;36m103.3\u001b[0m ms\n"
      ]
     },
     "metadata": {},
     "output_type": "display_data"
    },
    {
     "data": {
      "text/html": [
       "<pre style=\"white-space:pre;overflow-x:auto;line-height:normal;font-family:Menlo,'DejaVu Sans Mono',consolas,'Courier New',monospace\"><span style=\"color: #008080; text-decoration-color: #008080; font-weight: bold\">800</span> proposals optimized in <span style=\"color: #008080; text-decoration-color: #008080; font-weight: bold\">3.3</span> s using <span style=\"color: #008080; text-decoration-color: #008080; font-weight: bold\">4</span> CPUs\n",
       "</pre>\n"
      ],
      "text/plain": [
       "\u001b[1;36m800\u001b[0m proposals optimized in \u001b[1;36m3.3\u001b[0m s using \u001b[1;36m4\u001b[0m CPUs\n"
      ]
     },
     "metadata": {},
     "output_type": "display_data"
    },
    {
     "data": {
      "text/html": [
       "<pre style=\"white-space:pre;overflow-x:auto;line-height:normal;font-family:Menlo,'DejaVu Sans Mono',consolas,'Courier New',monospace\">Acquisition tasks for <span style=\"color: #008080; text-decoration-color: #008080; font-weight: bold\">1</span> sampling strategy performed in <span style=\"color: #008080; text-decoration-color: #008080; font-weight: bold\">3.4</span> s\n",
       "</pre>\n"
      ],
      "text/plain": [
       "Acquisition tasks for \u001b[1;36m1\u001b[0m sampling strategy performed in \u001b[1;36m3.4\u001b[0m s\n"
      ]
     },
     "metadata": {},
     "output_type": "display_data"
    },
    {
     "data": {
      "text/html": [
       "<pre style=\"white-space:pre;overflow-x:auto;line-height:normal;font-family:Menlo,'DejaVu Sans Mono',consolas,'Courier New',monospace\"><span style=\"color: #008080; text-decoration-color: #008080; font-weight: bold\">1</span> sample selected in <span style=\"color: #008080; text-decoration-color: #008080; font-weight: bold\">334.0</span> ms\n",
       "</pre>\n"
      ],
      "text/plain": [
       "\u001b[1;36m1\u001b[0m sample selected in \u001b[1;36m334.0\u001b[0m ms\n"
      ]
     },
     "metadata": {},
     "output_type": "display_data"
    },
    {
     "data": {
      "text/html": [
       "<pre style=\"white-space:pre;overflow-x:auto;line-height:normal;font-family:Menlo,'DejaVu Sans Mono',consolas,'Courier New',monospace\">Memory usage: <span style=\"color: #008080; text-decoration-color: #008080; font-weight: bold\">0</span> GB, <span style=\"color: #008080; text-decoration-color: #008080; font-weight: bold\">481</span> MB, <span style=\"color: #008080; text-decoration-color: #008080; font-weight: bold\">384</span> kB\n",
       "</pre>\n"
      ],
      "text/plain": [
       "Memory usage: \u001b[1;36m0\u001b[0m GB, \u001b[1;36m481\u001b[0m MB, \u001b[1;36m384\u001b[0m kB\n"
      ]
     },
     "metadata": {},
     "output_type": "display_data"
    },
    {
     "data": {
      "text/html": [
       "<pre style=\"white-space:pre;overflow-x:auto;line-height:normal;font-family:Menlo,'DejaVu Sans Mono',consolas,'Courier New',monospace\">Overall time required: <span style=\"color: #008080; text-decoration-color: #008080; font-weight: bold\">8.1</span> s\n",
       "</pre>\n"
      ],
      "text/plain": [
       "Overall time required: \u001b[1;36m8.1\u001b[0m s\n"
      ]
     },
     "metadata": {},
     "output_type": "display_data"
    },
    {
     "data": {
      "text/html": [
       "<pre style=\"white-space:pre;overflow-x:auto;line-height:normal;font-family:Menlo,'DejaVu Sans Mono',consolas,'Courier New',monospace\"><span style=\"color: #008080; text-decoration-color: #008080; font-weight: bold\">6</span> observations found\n",
       "</pre>\n"
      ],
      "text/plain": [
       "\u001b[1;36m6\u001b[0m observations found\n"
      ]
     },
     "metadata": {},
     "output_type": "display_data"
    },
    {
     "data": {
      "text/html": [
       "<pre style=\"white-space:pre;overflow-x:auto;line-height:normal;font-family:Menlo,'DejaVu Sans Mono',consolas,'Courier New',monospace\">Bayesian neural network trained in <span style=\"color: #008080; text-decoration-color: #008080; font-weight: bold\">4.3</span> s\n",
       "</pre>\n"
      ],
      "text/plain": [
       "Bayesian neural network trained in \u001b[1;36m4.3\u001b[0m s\n"
      ]
     },
     "metadata": {},
     "output_type": "display_data"
    },
    {
     "data": {
      "text/html": [
       "<pre style=\"white-space:pre;overflow-x:auto;line-height:normal;font-family:Menlo,'DejaVu Sans Mono',consolas,'Courier New',monospace\"><span style=\"color: #008080; text-decoration-color: #008080; font-weight: bold\">800</span> random proposals drawn in <span style=\"color: #008080; text-decoration-color: #008080; font-weight: bold\">112.9</span> ms\n",
       "</pre>\n"
      ],
      "text/plain": [
       "\u001b[1;36m800\u001b[0m random proposals drawn in \u001b[1;36m112.9\u001b[0m ms\n"
      ]
     },
     "metadata": {},
     "output_type": "display_data"
    },
    {
     "data": {
      "text/html": [
       "<pre style=\"white-space:pre;overflow-x:auto;line-height:normal;font-family:Menlo,'DejaVu Sans Mono',consolas,'Courier New',monospace\"><span style=\"color: #008080; text-decoration-color: #008080; font-weight: bold\">800</span> proposals optimized in <span style=\"color: #008080; text-decoration-color: #008080; font-weight: bold\">3.4</span> s using <span style=\"color: #008080; text-decoration-color: #008080; font-weight: bold\">4</span> CPUs\n",
       "</pre>\n"
      ],
      "text/plain": [
       "\u001b[1;36m800\u001b[0m proposals optimized in \u001b[1;36m3.4\u001b[0m s using \u001b[1;36m4\u001b[0m CPUs\n"
      ]
     },
     "metadata": {},
     "output_type": "display_data"
    },
    {
     "data": {
      "text/html": [
       "<pre style=\"white-space:pre;overflow-x:auto;line-height:normal;font-family:Menlo,'DejaVu Sans Mono',consolas,'Courier New',monospace\">Acquisition tasks for <span style=\"color: #008080; text-decoration-color: #008080; font-weight: bold\">1</span> sampling strategy performed in <span style=\"color: #008080; text-decoration-color: #008080; font-weight: bold\">3.5</span> s\n",
       "</pre>\n"
      ],
      "text/plain": [
       "Acquisition tasks for \u001b[1;36m1\u001b[0m sampling strategy performed in \u001b[1;36m3.5\u001b[0m s\n"
      ]
     },
     "metadata": {},
     "output_type": "display_data"
    },
    {
     "data": {
      "text/html": [
       "<pre style=\"white-space:pre;overflow-x:auto;line-height:normal;font-family:Menlo,'DejaVu Sans Mono',consolas,'Courier New',monospace\"><span style=\"color: #008080; text-decoration-color: #008080; font-weight: bold\">1</span> sample selected in <span style=\"color: #008080; text-decoration-color: #008080; font-weight: bold\">350.3</span> ms\n",
       "</pre>\n"
      ],
      "text/plain": [
       "\u001b[1;36m1\u001b[0m sample selected in \u001b[1;36m350.3\u001b[0m ms\n"
      ]
     },
     "metadata": {},
     "output_type": "display_data"
    },
    {
     "data": {
      "text/html": [
       "<pre style=\"white-space:pre;overflow-x:auto;line-height:normal;font-family:Menlo,'DejaVu Sans Mono',consolas,'Courier New',monospace\">Memory usage: <span style=\"color: #008080; text-decoration-color: #008080; font-weight: bold\">0</span> GB, <span style=\"color: #008080; text-decoration-color: #008080; font-weight: bold\">481</span> MB, <span style=\"color: #008080; text-decoration-color: #008080; font-weight: bold\">868</span> kB\n",
       "</pre>\n"
      ],
      "text/plain": [
       "Memory usage: \u001b[1;36m0\u001b[0m GB, \u001b[1;36m481\u001b[0m MB, \u001b[1;36m868\u001b[0m kB\n"
      ]
     },
     "metadata": {},
     "output_type": "display_data"
    },
    {
     "data": {
      "text/html": [
       "<pre style=\"white-space:pre;overflow-x:auto;line-height:normal;font-family:Menlo,'DejaVu Sans Mono',consolas,'Courier New',monospace\">Overall time required: <span style=\"color: #008080; text-decoration-color: #008080; font-weight: bold\">8.1</span> s\n",
       "</pre>\n"
      ],
      "text/plain": [
       "Overall time required: \u001b[1;36m8.1\u001b[0m s\n"
      ]
     },
     "metadata": {},
     "output_type": "display_data"
    },
    {
     "data": {
      "text/html": [
       "<pre style=\"white-space:pre;overflow-x:auto;line-height:normal;font-family:Menlo,'DejaVu Sans Mono',consolas,'Courier New',monospace\"><span style=\"color: #008080; text-decoration-color: #008080; font-weight: bold\">7</span> observations found\n",
       "</pre>\n"
      ],
      "text/plain": [
       "\u001b[1;36m7\u001b[0m observations found\n"
      ]
     },
     "metadata": {},
     "output_type": "display_data"
    },
    {
     "data": {
      "text/html": [
       "<pre style=\"white-space:pre;overflow-x:auto;line-height:normal;font-family:Menlo,'DejaVu Sans Mono',consolas,'Courier New',monospace\">Bayesian neural network trained in <span style=\"color: #008080; text-decoration-color: #008080; font-weight: bold\">4.3</span> s\n",
       "</pre>\n"
      ],
      "text/plain": [
       "Bayesian neural network trained in \u001b[1;36m4.3\u001b[0m s\n"
      ]
     },
     "metadata": {},
     "output_type": "display_data"
    },
    {
     "data": {
      "text/html": [
       "<pre style=\"white-space:pre;overflow-x:auto;line-height:normal;font-family:Menlo,'DejaVu Sans Mono',consolas,'Courier New',monospace\"><span style=\"color: #008080; text-decoration-color: #008080; font-weight: bold\">800</span> random proposals drawn in <span style=\"color: #008080; text-decoration-color: #008080; font-weight: bold\">2.1</span> s\n",
       "</pre>\n"
      ],
      "text/plain": [
       "\u001b[1;36m800\u001b[0m random proposals drawn in \u001b[1;36m2.1\u001b[0m s\n"
      ]
     },
     "metadata": {},
     "output_type": "display_data"
    },
    {
     "data": {
      "text/html": [
       "<pre style=\"white-space:pre;overflow-x:auto;line-height:normal;font-family:Menlo,'DejaVu Sans Mono',consolas,'Courier New',monospace\"><span style=\"color: #008080; text-decoration-color: #008080; font-weight: bold\">800</span> proposals optimized in <span style=\"color: #008080; text-decoration-color: #008080; font-weight: bold\">4.3</span> s using <span style=\"color: #008080; text-decoration-color: #008080; font-weight: bold\">4</span> CPUs\n",
       "</pre>\n"
      ],
      "text/plain": [
       "\u001b[1;36m800\u001b[0m proposals optimized in \u001b[1;36m4.3\u001b[0m s using \u001b[1;36m4\u001b[0m CPUs\n"
      ]
     },
     "metadata": {},
     "output_type": "display_data"
    },
    {
     "data": {
      "text/html": [
       "<pre style=\"white-space:pre;overflow-x:auto;line-height:normal;font-family:Menlo,'DejaVu Sans Mono',consolas,'Courier New',monospace\">Acquisition tasks for <span style=\"color: #008080; text-decoration-color: #008080; font-weight: bold\">1</span> sampling strategy performed in <span style=\"color: #008080; text-decoration-color: #008080; font-weight: bold\">6.4</span> s\n",
       "</pre>\n"
      ],
      "text/plain": [
       "Acquisition tasks for \u001b[1;36m1\u001b[0m sampling strategy performed in \u001b[1;36m6.4\u001b[0m s\n"
      ]
     },
     "metadata": {},
     "output_type": "display_data"
    },
    {
     "data": {
      "text/html": [
       "<pre style=\"white-space:pre;overflow-x:auto;line-height:normal;font-family:Menlo,'DejaVu Sans Mono',consolas,'Courier New',monospace\"><span style=\"color: #008080; text-decoration-color: #008080; font-weight: bold\">1</span> sample selected in <span style=\"color: #008080; text-decoration-color: #008080; font-weight: bold\">379.7</span> ms\n",
       "</pre>\n"
      ],
      "text/plain": [
       "\u001b[1;36m1\u001b[0m sample selected in \u001b[1;36m379.7\u001b[0m ms\n"
      ]
     },
     "metadata": {},
     "output_type": "display_data"
    },
    {
     "data": {
      "text/html": [
       "<pre style=\"white-space:pre;overflow-x:auto;line-height:normal;font-family:Menlo,'DejaVu Sans Mono',consolas,'Courier New',monospace\">Memory usage: <span style=\"color: #008080; text-decoration-color: #008080; font-weight: bold\">0</span> GB, <span style=\"color: #008080; text-decoration-color: #008080; font-weight: bold\">482</span> MB, <span style=\"color: #008080; text-decoration-color: #008080; font-weight: bold\">196</span> kB\n",
       "</pre>\n"
      ],
      "text/plain": [
       "Memory usage: \u001b[1;36m0\u001b[0m GB, \u001b[1;36m482\u001b[0m MB, \u001b[1;36m196\u001b[0m kB\n"
      ]
     },
     "metadata": {},
     "output_type": "display_data"
    },
    {
     "data": {
      "text/html": [
       "<pre style=\"white-space:pre;overflow-x:auto;line-height:normal;font-family:Menlo,'DejaVu Sans Mono',consolas,'Courier New',monospace\">Overall time required: <span style=\"color: #008080; text-decoration-color: #008080; font-weight: bold\">11.1</span> s\n",
       "</pre>\n"
      ],
      "text/plain": [
       "Overall time required: \u001b[1;36m11.1\u001b[0m s\n"
      ]
     },
     "metadata": {},
     "output_type": "display_data"
    },
    {
     "data": {
      "text/html": [
       "<pre style=\"white-space:pre;overflow-x:auto;line-height:normal;font-family:Menlo,'DejaVu Sans Mono',consolas,'Courier New',monospace\"><span style=\"color: #008080; text-decoration-color: #008080; font-weight: bold\">8</span> observations found\n",
       "</pre>\n"
      ],
      "text/plain": [
       "\u001b[1;36m8\u001b[0m observations found\n"
      ]
     },
     "metadata": {},
     "output_type": "display_data"
    },
    {
     "data": {
      "text/html": [
       "<pre style=\"white-space:pre;overflow-x:auto;line-height:normal;font-family:Menlo,'DejaVu Sans Mono',consolas,'Courier New',monospace\">Bayesian neural network trained in <span style=\"color: #008080; text-decoration-color: #008080; font-weight: bold\">4.9</span> s\n",
       "</pre>\n"
      ],
      "text/plain": [
       "Bayesian neural network trained in \u001b[1;36m4.9\u001b[0m s\n"
      ]
     },
     "metadata": {},
     "output_type": "display_data"
    },
    {
     "data": {
      "text/html": [
       "<pre style=\"white-space:pre;overflow-x:auto;line-height:normal;font-family:Menlo,'DejaVu Sans Mono',consolas,'Courier New',monospace\"><span style=\"color: #008080; text-decoration-color: #008080; font-weight: bold\">800</span> random proposals drawn in <span style=\"color: #008080; text-decoration-color: #008080; font-weight: bold\">107.8</span> ms\n",
       "</pre>\n"
      ],
      "text/plain": [
       "\u001b[1;36m800\u001b[0m random proposals drawn in \u001b[1;36m107.8\u001b[0m ms\n"
      ]
     },
     "metadata": {},
     "output_type": "display_data"
    },
    {
     "data": {
      "text/html": [
       "<pre style=\"white-space:pre;overflow-x:auto;line-height:normal;font-family:Menlo,'DejaVu Sans Mono',consolas,'Courier New',monospace\"><span style=\"color: #008080; text-decoration-color: #008080; font-weight: bold\">800</span> proposals optimized in <span style=\"color: #008080; text-decoration-color: #008080; font-weight: bold\">3.9</span> s using <span style=\"color: #008080; text-decoration-color: #008080; font-weight: bold\">4</span> CPUs\n",
       "</pre>\n"
      ],
      "text/plain": [
       "\u001b[1;36m800\u001b[0m proposals optimized in \u001b[1;36m3.9\u001b[0m s using \u001b[1;36m4\u001b[0m CPUs\n"
      ]
     },
     "metadata": {},
     "output_type": "display_data"
    },
    {
     "data": {
      "text/html": [
       "<pre style=\"white-space:pre;overflow-x:auto;line-height:normal;font-family:Menlo,'DejaVu Sans Mono',consolas,'Courier New',monospace\">Acquisition tasks for <span style=\"color: #008080; text-decoration-color: #008080; font-weight: bold\">1</span> sampling strategy performed in <span style=\"color: #008080; text-decoration-color: #008080; font-weight: bold\">4.1</span> s\n",
       "</pre>\n"
      ],
      "text/plain": [
       "Acquisition tasks for \u001b[1;36m1\u001b[0m sampling strategy performed in \u001b[1;36m4.1\u001b[0m s\n"
      ]
     },
     "metadata": {},
     "output_type": "display_data"
    },
    {
     "data": {
      "text/html": [
       "<pre style=\"white-space:pre;overflow-x:auto;line-height:normal;font-family:Menlo,'DejaVu Sans Mono',consolas,'Courier New',monospace\"><span style=\"color: #008080; text-decoration-color: #008080; font-weight: bold\">1</span> sample selected in <span style=\"color: #008080; text-decoration-color: #008080; font-weight: bold\">392.0</span> ms\n",
       "</pre>\n"
      ],
      "text/plain": [
       "\u001b[1;36m1\u001b[0m sample selected in \u001b[1;36m392.0\u001b[0m ms\n"
      ]
     },
     "metadata": {},
     "output_type": "display_data"
    },
    {
     "data": {
      "text/html": [
       "<pre style=\"white-space:pre;overflow-x:auto;line-height:normal;font-family:Menlo,'DejaVu Sans Mono',consolas,'Courier New',monospace\">Memory usage: <span style=\"color: #008080; text-decoration-color: #008080; font-weight: bold\">0</span> GB, <span style=\"color: #008080; text-decoration-color: #008080; font-weight: bold\">482</span> MB, <span style=\"color: #008080; text-decoration-color: #008080; font-weight: bold\">432</span> kB\n",
       "</pre>\n"
      ],
      "text/plain": [
       "Memory usage: \u001b[1;36m0\u001b[0m GB, \u001b[1;36m482\u001b[0m MB, \u001b[1;36m432\u001b[0m kB\n"
      ]
     },
     "metadata": {},
     "output_type": "display_data"
    },
    {
     "data": {
      "text/html": [
       "<pre style=\"white-space:pre;overflow-x:auto;line-height:normal;font-family:Menlo,'DejaVu Sans Mono',consolas,'Courier New',monospace\">Overall time required: <span style=\"color: #008080; text-decoration-color: #008080; font-weight: bold\">9.4</span> s\n",
       "</pre>\n"
      ],
      "text/plain": [
       "Overall time required: \u001b[1;36m9.4\u001b[0m s\n"
      ]
     },
     "metadata": {},
     "output_type": "display_data"
    },
    {
     "data": {
      "text/html": [
       "<pre style=\"white-space:pre;overflow-x:auto;line-height:normal;font-family:Menlo,'DejaVu Sans Mono',consolas,'Courier New',monospace\"><span style=\"color: #008080; text-decoration-color: #008080; font-weight: bold\">9</span> observations found\n",
       "</pre>\n"
      ],
      "text/plain": [
       "\u001b[1;36m9\u001b[0m observations found\n"
      ]
     },
     "metadata": {},
     "output_type": "display_data"
    },
    {
     "data": {
      "text/html": [
       "<pre style=\"white-space:pre;overflow-x:auto;line-height:normal;font-family:Menlo,'DejaVu Sans Mono',consolas,'Courier New',monospace\">Bayesian neural network trained in <span style=\"color: #008080; text-decoration-color: #008080; font-weight: bold\">4.2</span> s\n",
       "</pre>\n"
      ],
      "text/plain": [
       "Bayesian neural network trained in \u001b[1;36m4.2\u001b[0m s\n"
      ]
     },
     "metadata": {},
     "output_type": "display_data"
    },
    {
     "data": {
      "text/html": [
       "<pre style=\"white-space:pre;overflow-x:auto;line-height:normal;font-family:Menlo,'DejaVu Sans Mono',consolas,'Courier New',monospace\"><span style=\"color: #008080; text-decoration-color: #008080; font-weight: bold\">800</span> random proposals drawn in <span style=\"color: #008080; text-decoration-color: #008080; font-weight: bold\">107.3</span> ms\n",
       "</pre>\n"
      ],
      "text/plain": [
       "\u001b[1;36m800\u001b[0m random proposals drawn in \u001b[1;36m107.3\u001b[0m ms\n"
      ]
     },
     "metadata": {},
     "output_type": "display_data"
    },
    {
     "data": {
      "text/html": [
       "<pre style=\"white-space:pre;overflow-x:auto;line-height:normal;font-family:Menlo,'DejaVu Sans Mono',consolas,'Courier New',monospace\"><span style=\"color: #008080; text-decoration-color: #008080; font-weight: bold\">800</span> proposals optimized in <span style=\"color: #008080; text-decoration-color: #008080; font-weight: bold\">4.5</span> s using <span style=\"color: #008080; text-decoration-color: #008080; font-weight: bold\">4</span> CPUs\n",
       "</pre>\n"
      ],
      "text/plain": [
       "\u001b[1;36m800\u001b[0m proposals optimized in \u001b[1;36m4.5\u001b[0m s using \u001b[1;36m4\u001b[0m CPUs\n"
      ]
     },
     "metadata": {},
     "output_type": "display_data"
    },
    {
     "data": {
      "text/html": [
       "<pre style=\"white-space:pre;overflow-x:auto;line-height:normal;font-family:Menlo,'DejaVu Sans Mono',consolas,'Courier New',monospace\">Acquisition tasks for <span style=\"color: #008080; text-decoration-color: #008080; font-weight: bold\">1</span> sampling strategy performed in <span style=\"color: #008080; text-decoration-color: #008080; font-weight: bold\">4.6</span> s\n",
       "</pre>\n"
      ],
      "text/plain": [
       "Acquisition tasks for \u001b[1;36m1\u001b[0m sampling strategy performed in \u001b[1;36m4.6\u001b[0m s\n"
      ]
     },
     "metadata": {},
     "output_type": "display_data"
    },
    {
     "data": {
      "text/html": [
       "<pre style=\"white-space:pre;overflow-x:auto;line-height:normal;font-family:Menlo,'DejaVu Sans Mono',consolas,'Courier New',monospace\"><span style=\"color: #008080; text-decoration-color: #008080; font-weight: bold\">1</span> sample selected in <span style=\"color: #008080; text-decoration-color: #008080; font-weight: bold\">423.9</span> ms\n",
       "</pre>\n"
      ],
      "text/plain": [
       "\u001b[1;36m1\u001b[0m sample selected in \u001b[1;36m423.9\u001b[0m ms\n"
      ]
     },
     "metadata": {},
     "output_type": "display_data"
    },
    {
     "data": {
      "text/html": [
       "<pre style=\"white-space:pre;overflow-x:auto;line-height:normal;font-family:Menlo,'DejaVu Sans Mono',consolas,'Courier New',monospace\">Memory usage: <span style=\"color: #008080; text-decoration-color: #008080; font-weight: bold\">0</span> GB, <span style=\"color: #008080; text-decoration-color: #008080; font-weight: bold\">482</span> MB, <span style=\"color: #008080; text-decoration-color: #008080; font-weight: bold\">732</span> kB\n",
       "</pre>\n"
      ],
      "text/plain": [
       "Memory usage: \u001b[1;36m0\u001b[0m GB, \u001b[1;36m482\u001b[0m MB, \u001b[1;36m732\u001b[0m kB\n"
      ]
     },
     "metadata": {},
     "output_type": "display_data"
    },
    {
     "data": {
      "text/html": [
       "<pre style=\"white-space:pre;overflow-x:auto;line-height:normal;font-family:Menlo,'DejaVu Sans Mono',consolas,'Courier New',monospace\">Overall time required: <span style=\"color: #008080; text-decoration-color: #008080; font-weight: bold\">9.2</span> s\n",
       "</pre>\n"
      ],
      "text/plain": [
       "Overall time required: \u001b[1;36m9.2\u001b[0m s\n"
      ]
     },
     "metadata": {},
     "output_type": "display_data"
    },
    {
     "data": {
      "text/html": [
       "<pre style=\"white-space:pre;overflow-x:auto;line-height:normal;font-family:Menlo,'DejaVu Sans Mono',consolas,'Courier New',monospace\"><span style=\"color: #008080; text-decoration-color: #008080; font-weight: bold\">10</span> observations found\n",
       "</pre>\n"
      ],
      "text/plain": [
       "\u001b[1;36m10\u001b[0m observations found\n"
      ]
     },
     "metadata": {},
     "output_type": "display_data"
    },
    {
     "data": {
      "text/html": [
       "<pre style=\"white-space:pre;overflow-x:auto;line-height:normal;font-family:Menlo,'DejaVu Sans Mono',consolas,'Courier New',monospace\">Bayesian neural network trained in <span style=\"color: #008080; text-decoration-color: #008080; font-weight: bold\">4.2</span> s\n",
       "</pre>\n"
      ],
      "text/plain": [
       "Bayesian neural network trained in \u001b[1;36m4.2\u001b[0m s\n"
      ]
     },
     "metadata": {},
     "output_type": "display_data"
    },
    {
     "data": {
      "text/html": [
       "<pre style=\"white-space:pre;overflow-x:auto;line-height:normal;font-family:Menlo,'DejaVu Sans Mono',consolas,'Courier New',monospace\"><span style=\"color: #008080; text-decoration-color: #008080; font-weight: bold\">800</span> random proposals drawn in <span style=\"color: #008080; text-decoration-color: #008080; font-weight: bold\">105.4</span> ms\n",
       "</pre>\n"
      ],
      "text/plain": [
       "\u001b[1;36m800\u001b[0m random proposals drawn in \u001b[1;36m105.4\u001b[0m ms\n"
      ]
     },
     "metadata": {},
     "output_type": "display_data"
    },
    {
     "data": {
      "text/html": [
       "<pre style=\"white-space:pre;overflow-x:auto;line-height:normal;font-family:Menlo,'DejaVu Sans Mono',consolas,'Courier New',monospace\"><span style=\"color: #008080; text-decoration-color: #008080; font-weight: bold\">800</span> proposals optimized in <span style=\"color: #008080; text-decoration-color: #008080; font-weight: bold\">5.1</span> s using <span style=\"color: #008080; text-decoration-color: #008080; font-weight: bold\">4</span> CPUs\n",
       "</pre>\n"
      ],
      "text/plain": [
       "\u001b[1;36m800\u001b[0m proposals optimized in \u001b[1;36m5.1\u001b[0m s using \u001b[1;36m4\u001b[0m CPUs\n"
      ]
     },
     "metadata": {},
     "output_type": "display_data"
    },
    {
     "data": {
      "text/html": [
       "<pre style=\"white-space:pre;overflow-x:auto;line-height:normal;font-family:Menlo,'DejaVu Sans Mono',consolas,'Courier New',monospace\">Acquisition tasks for <span style=\"color: #008080; text-decoration-color: #008080; font-weight: bold\">1</span> sampling strategy performed in <span style=\"color: #008080; text-decoration-color: #008080; font-weight: bold\">5.2</span> s\n",
       "</pre>\n"
      ],
      "text/plain": [
       "Acquisition tasks for \u001b[1;36m1\u001b[0m sampling strategy performed in \u001b[1;36m5.2\u001b[0m s\n"
      ]
     },
     "metadata": {},
     "output_type": "display_data"
    },
    {
     "data": {
      "text/html": [
       "<pre style=\"white-space:pre;overflow-x:auto;line-height:normal;font-family:Menlo,'DejaVu Sans Mono',consolas,'Courier New',monospace\"><span style=\"color: #008080; text-decoration-color: #008080; font-weight: bold\">1</span> sample selected in <span style=\"color: #008080; text-decoration-color: #008080; font-weight: bold\">427.0</span> ms\n",
       "</pre>\n"
      ],
      "text/plain": [
       "\u001b[1;36m1\u001b[0m sample selected in \u001b[1;36m427.0\u001b[0m ms\n"
      ]
     },
     "metadata": {},
     "output_type": "display_data"
    },
    {
     "data": {
      "text/html": [
       "<pre style=\"white-space:pre;overflow-x:auto;line-height:normal;font-family:Menlo,'DejaVu Sans Mono',consolas,'Courier New',monospace\">Memory usage: <span style=\"color: #008080; text-decoration-color: #008080; font-weight: bold\">0</span> GB, <span style=\"color: #008080; text-decoration-color: #008080; font-weight: bold\">483</span> MB, <span style=\"color: #008080; text-decoration-color: #008080; font-weight: bold\">328</span> kB\n",
       "</pre>\n"
      ],
      "text/plain": [
       "Memory usage: \u001b[1;36m0\u001b[0m GB, \u001b[1;36m483\u001b[0m MB, \u001b[1;36m328\u001b[0m kB\n"
      ]
     },
     "metadata": {},
     "output_type": "display_data"
    },
    {
     "data": {
      "text/html": [
       "<pre style=\"white-space:pre;overflow-x:auto;line-height:normal;font-family:Menlo,'DejaVu Sans Mono',consolas,'Courier New',monospace\">Overall time required: <span style=\"color: #008080; text-decoration-color: #008080; font-weight: bold\">9.9</span> s\n",
       "</pre>\n"
      ],
      "text/plain": [
       "Overall time required: \u001b[1;36m9.9\u001b[0m s\n"
      ]
     },
     "metadata": {},
     "output_type": "display_data"
    },
    {
     "data": {
      "text/html": [
       "<pre style=\"white-space:pre;overflow-x:auto;line-height:normal;font-family:Menlo,'DejaVu Sans Mono',consolas,'Courier New',monospace\"><span style=\"color: #008080; text-decoration-color: #008080; font-weight: bold\">11</span> observations found\n",
       "</pre>\n"
      ],
      "text/plain": [
       "\u001b[1;36m11\u001b[0m observations found\n"
      ]
     },
     "metadata": {},
     "output_type": "display_data"
    },
    {
     "data": {
      "text/html": [
       "<pre style=\"white-space:pre;overflow-x:auto;line-height:normal;font-family:Menlo,'DejaVu Sans Mono',consolas,'Courier New',monospace\">Bayesian neural network trained in <span style=\"color: #008080; text-decoration-color: #008080; font-weight: bold\">4.3</span> s\n",
       "</pre>\n"
      ],
      "text/plain": [
       "Bayesian neural network trained in \u001b[1;36m4.3\u001b[0m s\n"
      ]
     },
     "metadata": {},
     "output_type": "display_data"
    },
    {
     "data": {
      "text/html": [
       "<pre style=\"white-space:pre;overflow-x:auto;line-height:normal;font-family:Menlo,'DejaVu Sans Mono',consolas,'Courier New',monospace\"><span style=\"color: #008080; text-decoration-color: #008080; font-weight: bold\">800</span> random proposals drawn in <span style=\"color: #008080; text-decoration-color: #008080; font-weight: bold\">100.3</span> ms\n",
       "</pre>\n"
      ],
      "text/plain": [
       "\u001b[1;36m800\u001b[0m random proposals drawn in \u001b[1;36m100.3\u001b[0m ms\n"
      ]
     },
     "metadata": {},
     "output_type": "display_data"
    },
    {
     "data": {
      "text/html": [
       "<pre style=\"white-space:pre;overflow-x:auto;line-height:normal;font-family:Menlo,'DejaVu Sans Mono',consolas,'Courier New',monospace\"><span style=\"color: #008080; text-decoration-color: #008080; font-weight: bold\">800</span> proposals optimized in <span style=\"color: #008080; text-decoration-color: #008080; font-weight: bold\">4.9</span> s using <span style=\"color: #008080; text-decoration-color: #008080; font-weight: bold\">4</span> CPUs\n",
       "</pre>\n"
      ],
      "text/plain": [
       "\u001b[1;36m800\u001b[0m proposals optimized in \u001b[1;36m4.9\u001b[0m s using \u001b[1;36m4\u001b[0m CPUs\n"
      ]
     },
     "metadata": {},
     "output_type": "display_data"
    },
    {
     "data": {
      "text/html": [
       "<pre style=\"white-space:pre;overflow-x:auto;line-height:normal;font-family:Menlo,'DejaVu Sans Mono',consolas,'Courier New',monospace\">Acquisition tasks for <span style=\"color: #008080; text-decoration-color: #008080; font-weight: bold\">1</span> sampling strategy performed in <span style=\"color: #008080; text-decoration-color: #008080; font-weight: bold\">5.0</span> s\n",
       "</pre>\n"
      ],
      "text/plain": [
       "Acquisition tasks for \u001b[1;36m1\u001b[0m sampling strategy performed in \u001b[1;36m5.0\u001b[0m s\n"
      ]
     },
     "metadata": {},
     "output_type": "display_data"
    },
    {
     "data": {
      "text/html": [
       "<pre style=\"white-space:pre;overflow-x:auto;line-height:normal;font-family:Menlo,'DejaVu Sans Mono',consolas,'Courier New',monospace\"><span style=\"color: #008080; text-decoration-color: #008080; font-weight: bold\">1</span> sample selected in <span style=\"color: #008080; text-decoration-color: #008080; font-weight: bold\">452.0</span> ms\n",
       "</pre>\n"
      ],
      "text/plain": [
       "\u001b[1;36m1\u001b[0m sample selected in \u001b[1;36m452.0\u001b[0m ms\n"
      ]
     },
     "metadata": {},
     "output_type": "display_data"
    },
    {
     "data": {
      "text/html": [
       "<pre style=\"white-space:pre;overflow-x:auto;line-height:normal;font-family:Menlo,'DejaVu Sans Mono',consolas,'Courier New',monospace\">Memory usage: <span style=\"color: #008080; text-decoration-color: #008080; font-weight: bold\">0</span> GB, <span style=\"color: #008080; text-decoration-color: #008080; font-weight: bold\">485</span> MB, <span style=\"color: #008080; text-decoration-color: #008080; font-weight: bold\">108</span> kB\n",
       "</pre>\n"
      ],
      "text/plain": [
       "Memory usage: \u001b[1;36m0\u001b[0m GB, \u001b[1;36m485\u001b[0m MB, \u001b[1;36m108\u001b[0m kB\n"
      ]
     },
     "metadata": {},
     "output_type": "display_data"
    },
    {
     "data": {
      "text/html": [
       "<pre style=\"white-space:pre;overflow-x:auto;line-height:normal;font-family:Menlo,'DejaVu Sans Mono',consolas,'Courier New',monospace\">Overall time required: <span style=\"color: #008080; text-decoration-color: #008080; font-weight: bold\">9.8</span> s\n",
       "</pre>\n"
      ],
      "text/plain": [
       "Overall time required: \u001b[1;36m9.8\u001b[0m s\n"
      ]
     },
     "metadata": {},
     "output_type": "display_data"
    },
    {
     "data": {
      "text/html": [
       "<pre style=\"white-space:pre;overflow-x:auto;line-height:normal;font-family:Menlo,'DejaVu Sans Mono',consolas,'Courier New',monospace\"><span style=\"color: #008080; text-decoration-color: #008080; font-weight: bold\">12</span> observations found\n",
       "</pre>\n"
      ],
      "text/plain": [
       "\u001b[1;36m12\u001b[0m observations found\n"
      ]
     },
     "metadata": {},
     "output_type": "display_data"
    },
    {
     "data": {
      "text/html": [
       "<pre style=\"white-space:pre;overflow-x:auto;line-height:normal;font-family:Menlo,'DejaVu Sans Mono',consolas,'Courier New',monospace\">Bayesian neural network trained in <span style=\"color: #008080; text-decoration-color: #008080; font-weight: bold\">4.3</span> s\n",
       "</pre>\n"
      ],
      "text/plain": [
       "Bayesian neural network trained in \u001b[1;36m4.3\u001b[0m s\n"
      ]
     },
     "metadata": {},
     "output_type": "display_data"
    },
    {
     "data": {
      "text/html": [
       "<pre style=\"white-space:pre;overflow-x:auto;line-height:normal;font-family:Menlo,'DejaVu Sans Mono',consolas,'Courier New',monospace\"><span style=\"color: #008080; text-decoration-color: #008080; font-weight: bold\">800</span> random proposals drawn in <span style=\"color: #008080; text-decoration-color: #008080; font-weight: bold\">104.3</span> ms\n",
       "</pre>\n"
      ],
      "text/plain": [
       "\u001b[1;36m800\u001b[0m random proposals drawn in \u001b[1;36m104.3\u001b[0m ms\n"
      ]
     },
     "metadata": {},
     "output_type": "display_data"
    },
    {
     "data": {
      "text/html": [
       "<pre style=\"white-space:pre;overflow-x:auto;line-height:normal;font-family:Menlo,'DejaVu Sans Mono',consolas,'Courier New',monospace\"><span style=\"color: #008080; text-decoration-color: #008080; font-weight: bold\">800</span> proposals optimized in <span style=\"color: #008080; text-decoration-color: #008080; font-weight: bold\">6.7</span> s using <span style=\"color: #008080; text-decoration-color: #008080; font-weight: bold\">4</span> CPUs\n",
       "</pre>\n"
      ],
      "text/plain": [
       "\u001b[1;36m800\u001b[0m proposals optimized in \u001b[1;36m6.7\u001b[0m s using \u001b[1;36m4\u001b[0m CPUs\n"
      ]
     },
     "metadata": {},
     "output_type": "display_data"
    },
    {
     "data": {
      "text/html": [
       "<pre style=\"white-space:pre;overflow-x:auto;line-height:normal;font-family:Menlo,'DejaVu Sans Mono',consolas,'Courier New',monospace\">Acquisition tasks for <span style=\"color: #008080; text-decoration-color: #008080; font-weight: bold\">1</span> sampling strategy performed in <span style=\"color: #008080; text-decoration-color: #008080; font-weight: bold\">6.9</span> s\n",
       "</pre>\n"
      ],
      "text/plain": [
       "Acquisition tasks for \u001b[1;36m1\u001b[0m sampling strategy performed in \u001b[1;36m6.9\u001b[0m s\n"
      ]
     },
     "metadata": {},
     "output_type": "display_data"
    },
    {
     "data": {
      "text/html": [
       "<pre style=\"white-space:pre;overflow-x:auto;line-height:normal;font-family:Menlo,'DejaVu Sans Mono',consolas,'Courier New',monospace\"><span style=\"color: #008080; text-decoration-color: #008080; font-weight: bold\">1</span> sample selected in <span style=\"color: #008080; text-decoration-color: #008080; font-weight: bold\">498.3</span> ms\n",
       "</pre>\n"
      ],
      "text/plain": [
       "\u001b[1;36m1\u001b[0m sample selected in \u001b[1;36m498.3\u001b[0m ms\n"
      ]
     },
     "metadata": {},
     "output_type": "display_data"
    },
    {
     "data": {
      "text/html": [
       "<pre style=\"white-space:pre;overflow-x:auto;line-height:normal;font-family:Menlo,'DejaVu Sans Mono',consolas,'Courier New',monospace\">Memory usage: <span style=\"color: #008080; text-decoration-color: #008080; font-weight: bold\">0</span> GB, <span style=\"color: #008080; text-decoration-color: #008080; font-weight: bold\">486</span> MB, <span style=\"color: #008080; text-decoration-color: #008080; font-weight: bold\">248</span> kB\n",
       "</pre>\n"
      ],
      "text/plain": [
       "Memory usage: \u001b[1;36m0\u001b[0m GB, \u001b[1;36m486\u001b[0m MB, \u001b[1;36m248\u001b[0m kB\n"
      ]
     },
     "metadata": {},
     "output_type": "display_data"
    },
    {
     "data": {
      "text/html": [
       "<pre style=\"white-space:pre;overflow-x:auto;line-height:normal;font-family:Menlo,'DejaVu Sans Mono',consolas,'Courier New',monospace\">Overall time required: <span style=\"color: #008080; text-decoration-color: #008080; font-weight: bold\">11.7</span> s\n",
       "</pre>\n"
      ],
      "text/plain": [
       "Overall time required: \u001b[1;36m11.7\u001b[0m s\n"
      ]
     },
     "metadata": {},
     "output_type": "display_data"
    },
    {
     "data": {
      "text/html": [
       "<pre style=\"white-space:pre;overflow-x:auto;line-height:normal;font-family:Menlo,'DejaVu Sans Mono',consolas,'Courier New',monospace\"><span style=\"color: #008080; text-decoration-color: #008080; font-weight: bold\">13</span> observations found\n",
       "</pre>\n"
      ],
      "text/plain": [
       "\u001b[1;36m13\u001b[0m observations found\n"
      ]
     },
     "metadata": {},
     "output_type": "display_data"
    },
    {
     "data": {
      "text/html": [
       "<pre style=\"white-space:pre;overflow-x:auto;line-height:normal;font-family:Menlo,'DejaVu Sans Mono',consolas,'Courier New',monospace\">Bayesian neural network trained in <span style=\"color: #008080; text-decoration-color: #008080; font-weight: bold\">5.2</span> s\n",
       "</pre>\n"
      ],
      "text/plain": [
       "Bayesian neural network trained in \u001b[1;36m5.2\u001b[0m s\n"
      ]
     },
     "metadata": {},
     "output_type": "display_data"
    },
    {
     "data": {
      "text/html": [
       "<pre style=\"white-space:pre;overflow-x:auto;line-height:normal;font-family:Menlo,'DejaVu Sans Mono',consolas,'Courier New',monospace\"><span style=\"color: #008080; text-decoration-color: #008080; font-weight: bold\">800</span> random proposals drawn in <span style=\"color: #008080; text-decoration-color: #008080; font-weight: bold\">116.7</span> ms\n",
       "</pre>\n"
      ],
      "text/plain": [
       "\u001b[1;36m800\u001b[0m random proposals drawn in \u001b[1;36m116.7\u001b[0m ms\n"
      ]
     },
     "metadata": {},
     "output_type": "display_data"
    },
    {
     "data": {
      "text/html": [
       "<pre style=\"white-space:pre;overflow-x:auto;line-height:normal;font-family:Menlo,'DejaVu Sans Mono',consolas,'Courier New',monospace\"><span style=\"color: #008080; text-decoration-color: #008080; font-weight: bold\">800</span> proposals optimized in <span style=\"color: #008080; text-decoration-color: #008080; font-weight: bold\">4.9</span> s using <span style=\"color: #008080; text-decoration-color: #008080; font-weight: bold\">4</span> CPUs\n",
       "</pre>\n"
      ],
      "text/plain": [
       "\u001b[1;36m800\u001b[0m proposals optimized in \u001b[1;36m4.9\u001b[0m s using \u001b[1;36m4\u001b[0m CPUs\n"
      ]
     },
     "metadata": {},
     "output_type": "display_data"
    },
    {
     "data": {
      "text/html": [
       "<pre style=\"white-space:pre;overflow-x:auto;line-height:normal;font-family:Menlo,'DejaVu Sans Mono',consolas,'Courier New',monospace\">Acquisition tasks for <span style=\"color: #008080; text-decoration-color: #008080; font-weight: bold\">1</span> sampling strategy performed in <span style=\"color: #008080; text-decoration-color: #008080; font-weight: bold\">5.0</span> s\n",
       "</pre>\n"
      ],
      "text/plain": [
       "Acquisition tasks for \u001b[1;36m1\u001b[0m sampling strategy performed in \u001b[1;36m5.0\u001b[0m s\n"
      ]
     },
     "metadata": {},
     "output_type": "display_data"
    },
    {
     "data": {
      "text/html": [
       "<pre style=\"white-space:pre;overflow-x:auto;line-height:normal;font-family:Menlo,'DejaVu Sans Mono',consolas,'Courier New',monospace\"><span style=\"color: #008080; text-decoration-color: #008080; font-weight: bold\">1</span> sample selected in <span style=\"color: #008080; text-decoration-color: #008080; font-weight: bold\">472.3</span> ms\n",
       "</pre>\n"
      ],
      "text/plain": [
       "\u001b[1;36m1\u001b[0m sample selected in \u001b[1;36m472.3\u001b[0m ms\n"
      ]
     },
     "metadata": {},
     "output_type": "display_data"
    },
    {
     "data": {
      "text/html": [
       "<pre style=\"white-space:pre;overflow-x:auto;line-height:normal;font-family:Menlo,'DejaVu Sans Mono',consolas,'Courier New',monospace\">Memory usage: <span style=\"color: #008080; text-decoration-color: #008080; font-weight: bold\">0</span> GB, <span style=\"color: #008080; text-decoration-color: #008080; font-weight: bold\">487</span> MB, <span style=\"color: #008080; text-decoration-color: #008080; font-weight: bold\">472</span> kB\n",
       "</pre>\n"
      ],
      "text/plain": [
       "Memory usage: \u001b[1;36m0\u001b[0m GB, \u001b[1;36m487\u001b[0m MB, \u001b[1;36m472\u001b[0m kB\n"
      ]
     },
     "metadata": {},
     "output_type": "display_data"
    },
    {
     "data": {
      "text/html": [
       "<pre style=\"white-space:pre;overflow-x:auto;line-height:normal;font-family:Menlo,'DejaVu Sans Mono',consolas,'Courier New',monospace\">Overall time required: <span style=\"color: #008080; text-decoration-color: #008080; font-weight: bold\">10.8</span> s\n",
       "</pre>\n"
      ],
      "text/plain": [
       "Overall time required: \u001b[1;36m10.8\u001b[0m s\n"
      ]
     },
     "metadata": {},
     "output_type": "display_data"
    },
    {
     "data": {
      "text/html": [
       "<pre style=\"white-space:pre;overflow-x:auto;line-height:normal;font-family:Menlo,'DejaVu Sans Mono',consolas,'Courier New',monospace\"><span style=\"color: #008080; text-decoration-color: #008080; font-weight: bold\">14</span> observations found\n",
       "</pre>\n"
      ],
      "text/plain": [
       "\u001b[1;36m14\u001b[0m observations found\n"
      ]
     },
     "metadata": {},
     "output_type": "display_data"
    },
    {
     "data": {
      "text/html": [
       "<pre style=\"white-space:pre;overflow-x:auto;line-height:normal;font-family:Menlo,'DejaVu Sans Mono',consolas,'Courier New',monospace\">Bayesian neural network trained in <span style=\"color: #008080; text-decoration-color: #008080; font-weight: bold\">4.7</span> s\n",
       "</pre>\n"
      ],
      "text/plain": [
       "Bayesian neural network trained in \u001b[1;36m4.7\u001b[0m s\n"
      ]
     },
     "metadata": {},
     "output_type": "display_data"
    },
    {
     "data": {
      "text/html": [
       "<pre style=\"white-space:pre;overflow-x:auto;line-height:normal;font-family:Menlo,'DejaVu Sans Mono',consolas,'Courier New',monospace\"><span style=\"color: #008080; text-decoration-color: #008080; font-weight: bold\">800</span> random proposals drawn in <span style=\"color: #008080; text-decoration-color: #008080; font-weight: bold\">112.7</span> ms\n",
       "</pre>\n"
      ],
      "text/plain": [
       "\u001b[1;36m800\u001b[0m random proposals drawn in \u001b[1;36m112.7\u001b[0m ms\n"
      ]
     },
     "metadata": {},
     "output_type": "display_data"
    },
    {
     "data": {
      "text/html": [
       "<pre style=\"white-space:pre;overflow-x:auto;line-height:normal;font-family:Menlo,'DejaVu Sans Mono',consolas,'Courier New',monospace\"><span style=\"color: #008080; text-decoration-color: #008080; font-weight: bold\">800</span> proposals optimized in <span style=\"color: #008080; text-decoration-color: #008080; font-weight: bold\">6.9</span> s using <span style=\"color: #008080; text-decoration-color: #008080; font-weight: bold\">4</span> CPUs\n",
       "</pre>\n"
      ],
      "text/plain": [
       "\u001b[1;36m800\u001b[0m proposals optimized in \u001b[1;36m6.9\u001b[0m s using \u001b[1;36m4\u001b[0m CPUs\n"
      ]
     },
     "metadata": {},
     "output_type": "display_data"
    },
    {
     "data": {
      "text/html": [
       "<pre style=\"white-space:pre;overflow-x:auto;line-height:normal;font-family:Menlo,'DejaVu Sans Mono',consolas,'Courier New',monospace\">Acquisition tasks for <span style=\"color: #008080; text-decoration-color: #008080; font-weight: bold\">1</span> sampling strategy performed in <span style=\"color: #008080; text-decoration-color: #008080; font-weight: bold\">7.1</span> s\n",
       "</pre>\n"
      ],
      "text/plain": [
       "Acquisition tasks for \u001b[1;36m1\u001b[0m sampling strategy performed in \u001b[1;36m7.1\u001b[0m s\n"
      ]
     },
     "metadata": {},
     "output_type": "display_data"
    },
    {
     "data": {
      "text/html": [
       "<pre style=\"white-space:pre;overflow-x:auto;line-height:normal;font-family:Menlo,'DejaVu Sans Mono',consolas,'Courier New',monospace\"><span style=\"color: #008080; text-decoration-color: #008080; font-weight: bold\">1</span> sample selected in <span style=\"color: #008080; text-decoration-color: #008080; font-weight: bold\">558.5</span> ms\n",
       "</pre>\n"
      ],
      "text/plain": [
       "\u001b[1;36m1\u001b[0m sample selected in \u001b[1;36m558.5\u001b[0m ms\n"
      ]
     },
     "metadata": {},
     "output_type": "display_data"
    },
    {
     "data": {
      "text/html": [
       "<pre style=\"white-space:pre;overflow-x:auto;line-height:normal;font-family:Menlo,'DejaVu Sans Mono',consolas,'Courier New',monospace\">Memory usage: <span style=\"color: #008080; text-decoration-color: #008080; font-weight: bold\">0</span> GB, <span style=\"color: #008080; text-decoration-color: #008080; font-weight: bold\">489</span> MB, <span style=\"color: #008080; text-decoration-color: #008080; font-weight: bold\">140</span> kB\n",
       "</pre>\n"
      ],
      "text/plain": [
       "Memory usage: \u001b[1;36m0\u001b[0m GB, \u001b[1;36m489\u001b[0m MB, \u001b[1;36m140\u001b[0m kB\n"
      ]
     },
     "metadata": {},
     "output_type": "display_data"
    },
    {
     "data": {
      "text/html": [
       "<pre style=\"white-space:pre;overflow-x:auto;line-height:normal;font-family:Menlo,'DejaVu Sans Mono',consolas,'Courier New',monospace\">Overall time required: <span style=\"color: #008080; text-decoration-color: #008080; font-weight: bold\">12.4</span> s\n",
       "</pre>\n"
      ],
      "text/plain": [
       "Overall time required: \u001b[1;36m12.4\u001b[0m s\n"
      ]
     },
     "metadata": {},
     "output_type": "display_data"
    },
    {
     "data": {
      "text/html": [
       "<pre style=\"white-space:pre;overflow-x:auto;line-height:normal;font-family:Menlo,'DejaVu Sans Mono',consolas,'Courier New',monospace\"><span style=\"color: #008080; text-decoration-color: #008080; font-weight: bold\">15</span> observations found\n",
       "</pre>\n"
      ],
      "text/plain": [
       "\u001b[1;36m15\u001b[0m observations found\n"
      ]
     },
     "metadata": {},
     "output_type": "display_data"
    },
    {
     "data": {
      "text/html": [
       "<pre style=\"white-space:pre;overflow-x:auto;line-height:normal;font-family:Menlo,'DejaVu Sans Mono',consolas,'Courier New',monospace\">Bayesian neural network trained in <span style=\"color: #008080; text-decoration-color: #008080; font-weight: bold\">5.1</span> s\n",
       "</pre>\n"
      ],
      "text/plain": [
       "Bayesian neural network trained in \u001b[1;36m5.1\u001b[0m s\n"
      ]
     },
     "metadata": {},
     "output_type": "display_data"
    },
    {
     "data": {
      "text/html": [
       "<pre style=\"white-space:pre;overflow-x:auto;line-height:normal;font-family:Menlo,'DejaVu Sans Mono',consolas,'Courier New',monospace\"><span style=\"color: #008080; text-decoration-color: #008080; font-weight: bold\">800</span> random proposals drawn in <span style=\"color: #008080; text-decoration-color: #008080; font-weight: bold\">276.7</span> ms\n",
       "</pre>\n"
      ],
      "text/plain": [
       "\u001b[1;36m800\u001b[0m random proposals drawn in \u001b[1;36m276.7\u001b[0m ms\n"
      ]
     },
     "metadata": {},
     "output_type": "display_data"
    },
    {
     "data": {
      "text/html": [
       "<pre style=\"white-space:pre;overflow-x:auto;line-height:normal;font-family:Menlo,'DejaVu Sans Mono',consolas,'Courier New',monospace\"><span style=\"color: #008080; text-decoration-color: #008080; font-weight: bold\">800</span> proposals optimized in <span style=\"color: #008080; text-decoration-color: #008080; font-weight: bold\">5.8</span> s using <span style=\"color: #008080; text-decoration-color: #008080; font-weight: bold\">4</span> CPUs\n",
       "</pre>\n"
      ],
      "text/plain": [
       "\u001b[1;36m800\u001b[0m proposals optimized in \u001b[1;36m5.8\u001b[0m s using \u001b[1;36m4\u001b[0m CPUs\n"
      ]
     },
     "metadata": {},
     "output_type": "display_data"
    },
    {
     "data": {
      "text/html": [
       "<pre style=\"white-space:pre;overflow-x:auto;line-height:normal;font-family:Menlo,'DejaVu Sans Mono',consolas,'Courier New',monospace\">Acquisition tasks for <span style=\"color: #008080; text-decoration-color: #008080; font-weight: bold\">1</span> sampling strategy performed in <span style=\"color: #008080; text-decoration-color: #008080; font-weight: bold\">6.4</span> s\n",
       "</pre>\n"
      ],
      "text/plain": [
       "Acquisition tasks for \u001b[1;36m1\u001b[0m sampling strategy performed in \u001b[1;36m6.4\u001b[0m s\n"
      ]
     },
     "metadata": {},
     "output_type": "display_data"
    },
    {
     "data": {
      "text/html": [
       "<pre style=\"white-space:pre;overflow-x:auto;line-height:normal;font-family:Menlo,'DejaVu Sans Mono',consolas,'Courier New',monospace\"><span style=\"color: #008080; text-decoration-color: #008080; font-weight: bold\">1</span> sample selected in <span style=\"color: #008080; text-decoration-color: #008080; font-weight: bold\">604.8</span> ms\n",
       "</pre>\n"
      ],
      "text/plain": [
       "\u001b[1;36m1\u001b[0m sample selected in \u001b[1;36m604.8\u001b[0m ms\n"
      ]
     },
     "metadata": {},
     "output_type": "display_data"
    },
    {
     "data": {
      "text/html": [
       "<pre style=\"white-space:pre;overflow-x:auto;line-height:normal;font-family:Menlo,'DejaVu Sans Mono',consolas,'Courier New',monospace\">Memory usage: <span style=\"color: #008080; text-decoration-color: #008080; font-weight: bold\">0</span> GB, <span style=\"color: #008080; text-decoration-color: #008080; font-weight: bold\">490</span> MB, <span style=\"color: #008080; text-decoration-color: #008080; font-weight: bold\">76</span> kB\n",
       "</pre>\n"
      ],
      "text/plain": [
       "Memory usage: \u001b[1;36m0\u001b[0m GB, \u001b[1;36m490\u001b[0m MB, \u001b[1;36m76\u001b[0m kB\n"
      ]
     },
     "metadata": {},
     "output_type": "display_data"
    },
    {
     "data": {
      "text/html": [
       "<pre style=\"white-space:pre;overflow-x:auto;line-height:normal;font-family:Menlo,'DejaVu Sans Mono',consolas,'Courier New',monospace\">Overall time required: <span style=\"color: #008080; text-decoration-color: #008080; font-weight: bold\">12.2</span> s\n",
       "</pre>\n"
      ],
      "text/plain": [
       "Overall time required: \u001b[1;36m12.2\u001b[0m s\n"
      ]
     },
     "metadata": {},
     "output_type": "display_data"
    },
    {
     "data": {
      "text/html": [
       "<pre style=\"white-space:pre;overflow-x:auto;line-height:normal;font-family:Menlo,'DejaVu Sans Mono',consolas,'Courier New',monospace\"><span style=\"color: #008080; text-decoration-color: #008080; font-weight: bold\">16</span> observations found\n",
       "</pre>\n"
      ],
      "text/plain": [
       "\u001b[1;36m16\u001b[0m observations found\n"
      ]
     },
     "metadata": {},
     "output_type": "display_data"
    },
    {
     "data": {
      "text/html": [
       "<pre style=\"white-space:pre;overflow-x:auto;line-height:normal;font-family:Menlo,'DejaVu Sans Mono',consolas,'Courier New',monospace\">Bayesian neural network trained in <span style=\"color: #008080; text-decoration-color: #008080; font-weight: bold\">5.0</span> s\n",
       "</pre>\n"
      ],
      "text/plain": [
       "Bayesian neural network trained in \u001b[1;36m5.0\u001b[0m s\n"
      ]
     },
     "metadata": {},
     "output_type": "display_data"
    },
    {
     "data": {
      "text/html": [
       "<pre style=\"white-space:pre;overflow-x:auto;line-height:normal;font-family:Menlo,'DejaVu Sans Mono',consolas,'Courier New',monospace\"><span style=\"color: #008080; text-decoration-color: #008080; font-weight: bold\">800</span> random proposals drawn in <span style=\"color: #008080; text-decoration-color: #008080; font-weight: bold\">106.4</span> ms\n",
       "</pre>\n"
      ],
      "text/plain": [
       "\u001b[1;36m800\u001b[0m random proposals drawn in \u001b[1;36m106.4\u001b[0m ms\n"
      ]
     },
     "metadata": {},
     "output_type": "display_data"
    },
    {
     "data": {
      "text/html": [
       "<pre style=\"white-space:pre;overflow-x:auto;line-height:normal;font-family:Menlo,'DejaVu Sans Mono',consolas,'Courier New',monospace\"><span style=\"color: #008080; text-decoration-color: #008080; font-weight: bold\">800</span> proposals optimized in <span style=\"color: #008080; text-decoration-color: #008080; font-weight: bold\">5.7</span> s using <span style=\"color: #008080; text-decoration-color: #008080; font-weight: bold\">4</span> CPUs\n",
       "</pre>\n"
      ],
      "text/plain": [
       "\u001b[1;36m800\u001b[0m proposals optimized in \u001b[1;36m5.7\u001b[0m s using \u001b[1;36m4\u001b[0m CPUs\n"
      ]
     },
     "metadata": {},
     "output_type": "display_data"
    },
    {
     "data": {
      "text/html": [
       "<pre style=\"white-space:pre;overflow-x:auto;line-height:normal;font-family:Menlo,'DejaVu Sans Mono',consolas,'Courier New',monospace\">Acquisition tasks for <span style=\"color: #008080; text-decoration-color: #008080; font-weight: bold\">1</span> sampling strategy performed in <span style=\"color: #008080; text-decoration-color: #008080; font-weight: bold\">5.8</span> s\n",
       "</pre>\n"
      ],
      "text/plain": [
       "Acquisition tasks for \u001b[1;36m1\u001b[0m sampling strategy performed in \u001b[1;36m5.8\u001b[0m s\n"
      ]
     },
     "metadata": {},
     "output_type": "display_data"
    },
    {
     "data": {
      "text/html": [
       "<pre style=\"white-space:pre;overflow-x:auto;line-height:normal;font-family:Menlo,'DejaVu Sans Mono',consolas,'Courier New',monospace\"><span style=\"color: #008080; text-decoration-color: #008080; font-weight: bold\">1</span> sample selected in <span style=\"color: #008080; text-decoration-color: #008080; font-weight: bold\">533.6</span> ms\n",
       "</pre>\n"
      ],
      "text/plain": [
       "\u001b[1;36m1\u001b[0m sample selected in \u001b[1;36m533.6\u001b[0m ms\n"
      ]
     },
     "metadata": {},
     "output_type": "display_data"
    },
    {
     "data": {
      "text/html": [
       "<pre style=\"white-space:pre;overflow-x:auto;line-height:normal;font-family:Menlo,'DejaVu Sans Mono',consolas,'Courier New',monospace\">Memory usage: <span style=\"color: #008080; text-decoration-color: #008080; font-weight: bold\">0</span> GB, <span style=\"color: #008080; text-decoration-color: #008080; font-weight: bold\">492</span> MB, <span style=\"color: #008080; text-decoration-color: #008080; font-weight: bold\">240</span> kB\n",
       "</pre>\n"
      ],
      "text/plain": [
       "Memory usage: \u001b[1;36m0\u001b[0m GB, \u001b[1;36m492\u001b[0m MB, \u001b[1;36m240\u001b[0m kB\n"
      ]
     },
     "metadata": {},
     "output_type": "display_data"
    },
    {
     "data": {
      "text/html": [
       "<pre style=\"white-space:pre;overflow-x:auto;line-height:normal;font-family:Menlo,'DejaVu Sans Mono',consolas,'Courier New',monospace\">Overall time required: <span style=\"color: #008080; text-decoration-color: #008080; font-weight: bold\">11.4</span> s\n",
       "</pre>\n"
      ],
      "text/plain": [
       "Overall time required: \u001b[1;36m11.4\u001b[0m s\n"
      ]
     },
     "metadata": {},
     "output_type": "display_data"
    },
    {
     "data": {
      "text/html": [
       "<pre style=\"white-space:pre;overflow-x:auto;line-height:normal;font-family:Menlo,'DejaVu Sans Mono',consolas,'Courier New',monospace\"><span style=\"color: #008080; text-decoration-color: #008080; font-weight: bold\">17</span> observations found\n",
       "</pre>\n"
      ],
      "text/plain": [
       "\u001b[1;36m17\u001b[0m observations found\n"
      ]
     },
     "metadata": {},
     "output_type": "display_data"
    },
    {
     "data": {
      "text/html": [
       "<pre style=\"white-space:pre;overflow-x:auto;line-height:normal;font-family:Menlo,'DejaVu Sans Mono',consolas,'Courier New',monospace\">Bayesian neural network trained in <span style=\"color: #008080; text-decoration-color: #008080; font-weight: bold\">4.9</span> s\n",
       "</pre>\n"
      ],
      "text/plain": [
       "Bayesian neural network trained in \u001b[1;36m4.9\u001b[0m s\n"
      ]
     },
     "metadata": {},
     "output_type": "display_data"
    },
    {
     "data": {
      "text/html": [
       "<pre style=\"white-space:pre;overflow-x:auto;line-height:normal;font-family:Menlo,'DejaVu Sans Mono',consolas,'Courier New',monospace\"><span style=\"color: #008080; text-decoration-color: #008080; font-weight: bold\">800</span> random proposals drawn in <span style=\"color: #008080; text-decoration-color: #008080; font-weight: bold\">103.8</span> ms\n",
       "</pre>\n"
      ],
      "text/plain": [
       "\u001b[1;36m800\u001b[0m random proposals drawn in \u001b[1;36m103.8\u001b[0m ms\n"
      ]
     },
     "metadata": {},
     "output_type": "display_data"
    },
    {
     "data": {
      "text/html": [
       "<pre style=\"white-space:pre;overflow-x:auto;line-height:normal;font-family:Menlo,'DejaVu Sans Mono',consolas,'Courier New',monospace\"><span style=\"color: #008080; text-decoration-color: #008080; font-weight: bold\">800</span> proposals optimized in <span style=\"color: #008080; text-decoration-color: #008080; font-weight: bold\">5.5</span> s using <span style=\"color: #008080; text-decoration-color: #008080; font-weight: bold\">4</span> CPUs\n",
       "</pre>\n"
      ],
      "text/plain": [
       "\u001b[1;36m800\u001b[0m proposals optimized in \u001b[1;36m5.5\u001b[0m s using \u001b[1;36m4\u001b[0m CPUs\n"
      ]
     },
     "metadata": {},
     "output_type": "display_data"
    },
    {
     "data": {
      "text/html": [
       "<pre style=\"white-space:pre;overflow-x:auto;line-height:normal;font-family:Menlo,'DejaVu Sans Mono',consolas,'Courier New',monospace\">Acquisition tasks for <span style=\"color: #008080; text-decoration-color: #008080; font-weight: bold\">1</span> sampling strategy performed in <span style=\"color: #008080; text-decoration-color: #008080; font-weight: bold\">5.6</span> s\n",
       "</pre>\n"
      ],
      "text/plain": [
       "Acquisition tasks for \u001b[1;36m1\u001b[0m sampling strategy performed in \u001b[1;36m5.6\u001b[0m s\n"
      ]
     },
     "metadata": {},
     "output_type": "display_data"
    },
    {
     "data": {
      "text/html": [
       "<pre style=\"white-space:pre;overflow-x:auto;line-height:normal;font-family:Menlo,'DejaVu Sans Mono',consolas,'Courier New',monospace\"><span style=\"color: #008080; text-decoration-color: #008080; font-weight: bold\">1</span> sample selected in <span style=\"color: #008080; text-decoration-color: #008080; font-weight: bold\">541.5</span> ms\n",
       "</pre>\n"
      ],
      "text/plain": [
       "\u001b[1;36m1\u001b[0m sample selected in \u001b[1;36m541.5\u001b[0m ms\n"
      ]
     },
     "metadata": {},
     "output_type": "display_data"
    },
    {
     "data": {
      "text/html": [
       "<pre style=\"white-space:pre;overflow-x:auto;line-height:normal;font-family:Menlo,'DejaVu Sans Mono',consolas,'Courier New',monospace\">Memory usage: <span style=\"color: #008080; text-decoration-color: #008080; font-weight: bold\">0</span> GB, <span style=\"color: #008080; text-decoration-color: #008080; font-weight: bold\">493</span> MB, <span style=\"color: #008080; text-decoration-color: #008080; font-weight: bold\">160</span> kB\n",
       "</pre>\n"
      ],
      "text/plain": [
       "Memory usage: \u001b[1;36m0\u001b[0m GB, \u001b[1;36m493\u001b[0m MB, \u001b[1;36m160\u001b[0m kB\n"
      ]
     },
     "metadata": {},
     "output_type": "display_data"
    },
    {
     "data": {
      "text/html": [
       "<pre style=\"white-space:pre;overflow-x:auto;line-height:normal;font-family:Menlo,'DejaVu Sans Mono',consolas,'Courier New',monospace\">Overall time required: <span style=\"color: #008080; text-decoration-color: #008080; font-weight: bold\">11.1</span> s\n",
       "</pre>\n"
      ],
      "text/plain": [
       "Overall time required: \u001b[1;36m11.1\u001b[0m s\n"
      ]
     },
     "metadata": {},
     "output_type": "display_data"
    },
    {
     "data": {
      "text/html": [
       "<pre style=\"white-space:pre;overflow-x:auto;line-height:normal;font-family:Menlo,'DejaVu Sans Mono',consolas,'Courier New',monospace\"><span style=\"color: #008080; text-decoration-color: #008080; font-weight: bold\">18</span> observations found\n",
       "</pre>\n"
      ],
      "text/plain": [
       "\u001b[1;36m18\u001b[0m observations found\n"
      ]
     },
     "metadata": {},
     "output_type": "display_data"
    },
    {
     "data": {
      "text/html": [
       "<pre style=\"white-space:pre;overflow-x:auto;line-height:normal;font-family:Menlo,'DejaVu Sans Mono',consolas,'Courier New',monospace\">Bayesian neural network trained in <span style=\"color: #008080; text-decoration-color: #008080; font-weight: bold\">4.9</span> s\n",
       "</pre>\n"
      ],
      "text/plain": [
       "Bayesian neural network trained in \u001b[1;36m4.9\u001b[0m s\n"
      ]
     },
     "metadata": {},
     "output_type": "display_data"
    },
    {
     "data": {
      "text/html": [
       "<pre style=\"white-space:pre;overflow-x:auto;line-height:normal;font-family:Menlo,'DejaVu Sans Mono',consolas,'Courier New',monospace\"><span style=\"color: #008080; text-decoration-color: #008080; font-weight: bold\">800</span> random proposals drawn in <span style=\"color: #008080; text-decoration-color: #008080; font-weight: bold\">109.6</span> ms\n",
       "</pre>\n"
      ],
      "text/plain": [
       "\u001b[1;36m800\u001b[0m random proposals drawn in \u001b[1;36m109.6\u001b[0m ms\n"
      ]
     },
     "metadata": {},
     "output_type": "display_data"
    },
    {
     "data": {
      "text/html": [
       "<pre style=\"white-space:pre;overflow-x:auto;line-height:normal;font-family:Menlo,'DejaVu Sans Mono',consolas,'Courier New',monospace\"><span style=\"color: #008080; text-decoration-color: #008080; font-weight: bold\">800</span> proposals optimized in <span style=\"color: #008080; text-decoration-color: #008080; font-weight: bold\">6.0</span> s using <span style=\"color: #008080; text-decoration-color: #008080; font-weight: bold\">4</span> CPUs\n",
       "</pre>\n"
      ],
      "text/plain": [
       "\u001b[1;36m800\u001b[0m proposals optimized in \u001b[1;36m6.0\u001b[0m s using \u001b[1;36m4\u001b[0m CPUs\n"
      ]
     },
     "metadata": {},
     "output_type": "display_data"
    },
    {
     "data": {
      "text/html": [
       "<pre style=\"white-space:pre;overflow-x:auto;line-height:normal;font-family:Menlo,'DejaVu Sans Mono',consolas,'Courier New',monospace\">Acquisition tasks for <span style=\"color: #008080; text-decoration-color: #008080; font-weight: bold\">1</span> sampling strategy performed in <span style=\"color: #008080; text-decoration-color: #008080; font-weight: bold\">6.1</span> s\n",
       "</pre>\n"
      ],
      "text/plain": [
       "Acquisition tasks for \u001b[1;36m1\u001b[0m sampling strategy performed in \u001b[1;36m6.1\u001b[0m s\n"
      ]
     },
     "metadata": {},
     "output_type": "display_data"
    },
    {
     "data": {
      "text/html": [
       "<pre style=\"white-space:pre;overflow-x:auto;line-height:normal;font-family:Menlo,'DejaVu Sans Mono',consolas,'Courier New',monospace\"><span style=\"color: #008080; text-decoration-color: #008080; font-weight: bold\">1</span> sample selected in <span style=\"color: #008080; text-decoration-color: #008080; font-weight: bold\">574.5</span> ms\n",
       "</pre>\n"
      ],
      "text/plain": [
       "\u001b[1;36m1\u001b[0m sample selected in \u001b[1;36m574.5\u001b[0m ms\n"
      ]
     },
     "metadata": {},
     "output_type": "display_data"
    },
    {
     "data": {
      "text/html": [
       "<pre style=\"white-space:pre;overflow-x:auto;line-height:normal;font-family:Menlo,'DejaVu Sans Mono',consolas,'Courier New',monospace\">Memory usage: <span style=\"color: #008080; text-decoration-color: #008080; font-weight: bold\">0</span> GB, <span style=\"color: #008080; text-decoration-color: #008080; font-weight: bold\">493</span> MB, <span style=\"color: #008080; text-decoration-color: #008080; font-weight: bold\">960</span> kB\n",
       "</pre>\n"
      ],
      "text/plain": [
       "Memory usage: \u001b[1;36m0\u001b[0m GB, \u001b[1;36m493\u001b[0m MB, \u001b[1;36m960\u001b[0m kB\n"
      ]
     },
     "metadata": {},
     "output_type": "display_data"
    },
    {
     "data": {
      "text/html": [
       "<pre style=\"white-space:pre;overflow-x:auto;line-height:normal;font-family:Menlo,'DejaVu Sans Mono',consolas,'Courier New',monospace\">Overall time required: <span style=\"color: #008080; text-decoration-color: #008080; font-weight: bold\">11.7</span> s\n",
       "</pre>\n"
      ],
      "text/plain": [
       "Overall time required: \u001b[1;36m11.7\u001b[0m s\n"
      ]
     },
     "metadata": {},
     "output_type": "display_data"
    },
    {
     "data": {
      "text/html": [
       "<pre style=\"white-space:pre;overflow-x:auto;line-height:normal;font-family:Menlo,'DejaVu Sans Mono',consolas,'Courier New',monospace\"><span style=\"color: #008080; text-decoration-color: #008080; font-weight: bold\">19</span> observations found\n",
       "</pre>\n"
      ],
      "text/plain": [
       "\u001b[1;36m19\u001b[0m observations found\n"
      ]
     },
     "metadata": {},
     "output_type": "display_data"
    },
    {
     "data": {
      "text/html": [
       "<pre style=\"white-space:pre;overflow-x:auto;line-height:normal;font-family:Menlo,'DejaVu Sans Mono',consolas,'Courier New',monospace\">Bayesian neural network trained in <span style=\"color: #008080; text-decoration-color: #008080; font-weight: bold\">4.8</span> s\n",
       "</pre>\n"
      ],
      "text/plain": [
       "Bayesian neural network trained in \u001b[1;36m4.8\u001b[0m s\n"
      ]
     },
     "metadata": {},
     "output_type": "display_data"
    },
    {
     "data": {
      "text/html": [
       "<pre style=\"white-space:pre;overflow-x:auto;line-height:normal;font-family:Menlo,'DejaVu Sans Mono',consolas,'Courier New',monospace\"><span style=\"color: #008080; text-decoration-color: #008080; font-weight: bold\">800</span> random proposals drawn in <span style=\"color: #008080; text-decoration-color: #008080; font-weight: bold\">100.9</span> ms\n",
       "</pre>\n"
      ],
      "text/plain": [
       "\u001b[1;36m800\u001b[0m random proposals drawn in \u001b[1;36m100.9\u001b[0m ms\n"
      ]
     },
     "metadata": {},
     "output_type": "display_data"
    },
    {
     "data": {
      "text/html": [
       "<pre style=\"white-space:pre;overflow-x:auto;line-height:normal;font-family:Menlo,'DejaVu Sans Mono',consolas,'Courier New',monospace\"><span style=\"color: #008080; text-decoration-color: #008080; font-weight: bold\">800</span> proposals optimized in <span style=\"color: #008080; text-decoration-color: #008080; font-weight: bold\">6.3</span> s using <span style=\"color: #008080; text-decoration-color: #008080; font-weight: bold\">4</span> CPUs\n",
       "</pre>\n"
      ],
      "text/plain": [
       "\u001b[1;36m800\u001b[0m proposals optimized in \u001b[1;36m6.3\u001b[0m s using \u001b[1;36m4\u001b[0m CPUs\n"
      ]
     },
     "metadata": {},
     "output_type": "display_data"
    },
    {
     "data": {
      "text/html": [
       "<pre style=\"white-space:pre;overflow-x:auto;line-height:normal;font-family:Menlo,'DejaVu Sans Mono',consolas,'Courier New',monospace\">Acquisition tasks for <span style=\"color: #008080; text-decoration-color: #008080; font-weight: bold\">1</span> sampling strategy performed in <span style=\"color: #008080; text-decoration-color: #008080; font-weight: bold\">6.4</span> s\n",
       "</pre>\n"
      ],
      "text/plain": [
       "Acquisition tasks for \u001b[1;36m1\u001b[0m sampling strategy performed in \u001b[1;36m6.4\u001b[0m s\n"
      ]
     },
     "metadata": {},
     "output_type": "display_data"
    },
    {
     "data": {
      "text/html": [
       "<pre style=\"white-space:pre;overflow-x:auto;line-height:normal;font-family:Menlo,'DejaVu Sans Mono',consolas,'Courier New',monospace\"><span style=\"color: #008080; text-decoration-color: #008080; font-weight: bold\">1</span> sample selected in <span style=\"color: #008080; text-decoration-color: #008080; font-weight: bold\">604.8</span> ms\n",
       "</pre>\n"
      ],
      "text/plain": [
       "\u001b[1;36m1\u001b[0m sample selected in \u001b[1;36m604.8\u001b[0m ms\n"
      ]
     },
     "metadata": {},
     "output_type": "display_data"
    },
    {
     "data": {
      "text/html": [
       "<pre style=\"white-space:pre;overflow-x:auto;line-height:normal;font-family:Menlo,'DejaVu Sans Mono',consolas,'Courier New',monospace\">Memory usage: <span style=\"color: #008080; text-decoration-color: #008080; font-weight: bold\">0</span> GB, <span style=\"color: #008080; text-decoration-color: #008080; font-weight: bold\">495</span> MB, <span style=\"color: #008080; text-decoration-color: #008080; font-weight: bold\">792</span> kB\n",
       "</pre>\n"
      ],
      "text/plain": [
       "Memory usage: \u001b[1;36m0\u001b[0m GB, \u001b[1;36m495\u001b[0m MB, \u001b[1;36m792\u001b[0m kB\n"
      ]
     },
     "metadata": {},
     "output_type": "display_data"
    },
    {
     "data": {
      "text/html": [
       "<pre style=\"white-space:pre;overflow-x:auto;line-height:normal;font-family:Menlo,'DejaVu Sans Mono',consolas,'Courier New',monospace\">Overall time required: <span style=\"color: #008080; text-decoration-color: #008080; font-weight: bold\">11.9</span> s\n",
       "</pre>\n"
      ],
      "text/plain": [
       "Overall time required: \u001b[1;36m11.9\u001b[0m s\n"
      ]
     },
     "metadata": {},
     "output_type": "display_data"
    },
    {
     "data": {
      "text/html": [
       "<pre style=\"white-space:pre;overflow-x:auto;line-height:normal;font-family:Menlo,'DejaVu Sans Mono',consolas,'Courier New',monospace\"><span style=\"color: #008080; text-decoration-color: #008080; font-weight: bold\">20</span> observations found\n",
       "</pre>\n"
      ],
      "text/plain": [
       "\u001b[1;36m20\u001b[0m observations found\n"
      ]
     },
     "metadata": {},
     "output_type": "display_data"
    },
    {
     "data": {
      "text/html": [
       "<pre style=\"white-space:pre;overflow-x:auto;line-height:normal;font-family:Menlo,'DejaVu Sans Mono',consolas,'Courier New',monospace\">Bayesian neural network trained in <span style=\"color: #008080; text-decoration-color: #008080; font-weight: bold\">4.5</span> s\n",
       "</pre>\n"
      ],
      "text/plain": [
       "Bayesian neural network trained in \u001b[1;36m4.5\u001b[0m s\n"
      ]
     },
     "metadata": {},
     "output_type": "display_data"
    },
    {
     "data": {
      "text/html": [
       "<pre style=\"white-space:pre;overflow-x:auto;line-height:normal;font-family:Menlo,'DejaVu Sans Mono',consolas,'Courier New',monospace\"><span style=\"color: #008080; text-decoration-color: #008080; font-weight: bold\">800</span> random proposals drawn in <span style=\"color: #008080; text-decoration-color: #008080; font-weight: bold\">384.5</span> ms\n",
       "</pre>\n"
      ],
      "text/plain": [
       "\u001b[1;36m800\u001b[0m random proposals drawn in \u001b[1;36m384.5\u001b[0m ms\n"
      ]
     },
     "metadata": {},
     "output_type": "display_data"
    },
    {
     "data": {
      "text/html": [
       "<pre style=\"white-space:pre;overflow-x:auto;line-height:normal;font-family:Menlo,'DejaVu Sans Mono',consolas,'Courier New',monospace\"><span style=\"color: #008080; text-decoration-color: #008080; font-weight: bold\">800</span> proposals optimized in <span style=\"color: #008080; text-decoration-color: #008080; font-weight: bold\">7.1</span> s using <span style=\"color: #008080; text-decoration-color: #008080; font-weight: bold\">4</span> CPUs\n",
       "</pre>\n"
      ],
      "text/plain": [
       "\u001b[1;36m800\u001b[0m proposals optimized in \u001b[1;36m7.1\u001b[0m s using \u001b[1;36m4\u001b[0m CPUs\n"
      ]
     },
     "metadata": {},
     "output_type": "display_data"
    },
    {
     "data": {
      "text/html": [
       "<pre style=\"white-space:pre;overflow-x:auto;line-height:normal;font-family:Menlo,'DejaVu Sans Mono',consolas,'Courier New',monospace\">Acquisition tasks for <span style=\"color: #008080; text-decoration-color: #008080; font-weight: bold\">1</span> sampling strategy performed in <span style=\"color: #008080; text-decoration-color: #008080; font-weight: bold\">7.6</span> s\n",
       "</pre>\n"
      ],
      "text/plain": [
       "Acquisition tasks for \u001b[1;36m1\u001b[0m sampling strategy performed in \u001b[1;36m7.6\u001b[0m s\n"
      ]
     },
     "metadata": {},
     "output_type": "display_data"
    },
    {
     "data": {
      "text/html": [
       "<pre style=\"white-space:pre;overflow-x:auto;line-height:normal;font-family:Menlo,'DejaVu Sans Mono',consolas,'Courier New',monospace\"><span style=\"color: #008080; text-decoration-color: #008080; font-weight: bold\">1</span> sample selected in <span style=\"color: #008080; text-decoration-color: #008080; font-weight: bold\">750.1</span> ms\n",
       "</pre>\n"
      ],
      "text/plain": [
       "\u001b[1;36m1\u001b[0m sample selected in \u001b[1;36m750.1\u001b[0m ms\n"
      ]
     },
     "metadata": {},
     "output_type": "display_data"
    },
    {
     "data": {
      "text/html": [
       "<pre style=\"white-space:pre;overflow-x:auto;line-height:normal;font-family:Menlo,'DejaVu Sans Mono',consolas,'Courier New',monospace\">Memory usage: <span style=\"color: #008080; text-decoration-color: #008080; font-weight: bold\">0</span> GB, <span style=\"color: #008080; text-decoration-color: #008080; font-weight: bold\">496</span> MB, <span style=\"color: #008080; text-decoration-color: #008080; font-weight: bold\">636</span> kB\n",
       "</pre>\n"
      ],
      "text/plain": [
       "Memory usage: \u001b[1;36m0\u001b[0m GB, \u001b[1;36m496\u001b[0m MB, \u001b[1;36m636\u001b[0m kB\n"
      ]
     },
     "metadata": {},
     "output_type": "display_data"
    },
    {
     "data": {
      "text/html": [
       "<pre style=\"white-space:pre;overflow-x:auto;line-height:normal;font-family:Menlo,'DejaVu Sans Mono',consolas,'Courier New',monospace\">Overall time required: <span style=\"color: #008080; text-decoration-color: #008080; font-weight: bold\">12.8</span> s\n",
       "</pre>\n"
      ],
      "text/plain": [
       "Overall time required: \u001b[1;36m12.8\u001b[0m s\n"
      ]
     },
     "metadata": {},
     "output_type": "display_data"
    },
    {
     "data": {
      "text/html": [
       "<pre style=\"white-space:pre;overflow-x:auto;line-height:normal;font-family:Menlo,'DejaVu Sans Mono',consolas,'Courier New',monospace\"><span style=\"color: #008080; text-decoration-color: #008080; font-weight: bold\">21</span> observations found\n",
       "</pre>\n"
      ],
      "text/plain": [
       "\u001b[1;36m21\u001b[0m observations found\n"
      ]
     },
     "metadata": {},
     "output_type": "display_data"
    },
    {
     "data": {
      "text/html": [
       "<pre style=\"white-space:pre;overflow-x:auto;line-height:normal;font-family:Menlo,'DejaVu Sans Mono',consolas,'Courier New',monospace\">Bayesian neural network trained in <span style=\"color: #008080; text-decoration-color: #008080; font-weight: bold\">4.5</span> s\n",
       "</pre>\n"
      ],
      "text/plain": [
       "Bayesian neural network trained in \u001b[1;36m4.5\u001b[0m s\n"
      ]
     },
     "metadata": {},
     "output_type": "display_data"
    },
    {
     "data": {
      "text/html": [
       "<pre style=\"white-space:pre;overflow-x:auto;line-height:normal;font-family:Menlo,'DejaVu Sans Mono',consolas,'Courier New',monospace\"><span style=\"color: #008080; text-decoration-color: #008080; font-weight: bold\">800</span> random proposals drawn in <span style=\"color: #008080; text-decoration-color: #008080; font-weight: bold\">104.8</span> ms\n",
       "</pre>\n"
      ],
      "text/plain": [
       "\u001b[1;36m800\u001b[0m random proposals drawn in \u001b[1;36m104.8\u001b[0m ms\n"
      ]
     },
     "metadata": {},
     "output_type": "display_data"
    },
    {
     "data": {
      "text/html": [
       "<pre style=\"white-space:pre;overflow-x:auto;line-height:normal;font-family:Menlo,'DejaVu Sans Mono',consolas,'Courier New',monospace\"><span style=\"color: #008080; text-decoration-color: #008080; font-weight: bold\">800</span> proposals optimized in <span style=\"color: #008080; text-decoration-color: #008080; font-weight: bold\">6.7</span> s using <span style=\"color: #008080; text-decoration-color: #008080; font-weight: bold\">4</span> CPUs\n",
       "</pre>\n"
      ],
      "text/plain": [
       "\u001b[1;36m800\u001b[0m proposals optimized in \u001b[1;36m6.7\u001b[0m s using \u001b[1;36m4\u001b[0m CPUs\n"
      ]
     },
     "metadata": {},
     "output_type": "display_data"
    },
    {
     "data": {
      "text/html": [
       "<pre style=\"white-space:pre;overflow-x:auto;line-height:normal;font-family:Menlo,'DejaVu Sans Mono',consolas,'Courier New',monospace\">Acquisition tasks for <span style=\"color: #008080; text-decoration-color: #008080; font-weight: bold\">1</span> sampling strategy performed in <span style=\"color: #008080; text-decoration-color: #008080; font-weight: bold\">6.9</span> s\n",
       "</pre>\n"
      ],
      "text/plain": [
       "Acquisition tasks for \u001b[1;36m1\u001b[0m sampling strategy performed in \u001b[1;36m6.9\u001b[0m s\n"
      ]
     },
     "metadata": {},
     "output_type": "display_data"
    },
    {
     "data": {
      "text/html": [
       "<pre style=\"white-space:pre;overflow-x:auto;line-height:normal;font-family:Menlo,'DejaVu Sans Mono',consolas,'Courier New',monospace\"><span style=\"color: #008080; text-decoration-color: #008080; font-weight: bold\">1</span> sample selected in <span style=\"color: #008080; text-decoration-color: #008080; font-weight: bold\">635.2</span> ms\n",
       "</pre>\n"
      ],
      "text/plain": [
       "\u001b[1;36m1\u001b[0m sample selected in \u001b[1;36m635.2\u001b[0m ms\n"
      ]
     },
     "metadata": {},
     "output_type": "display_data"
    },
    {
     "data": {
      "text/html": [
       "<pre style=\"white-space:pre;overflow-x:auto;line-height:normal;font-family:Menlo,'DejaVu Sans Mono',consolas,'Courier New',monospace\">Memory usage: <span style=\"color: #008080; text-decoration-color: #008080; font-weight: bold\">0</span> GB, <span style=\"color: #008080; text-decoration-color: #008080; font-weight: bold\">496</span> MB, <span style=\"color: #008080; text-decoration-color: #008080; font-weight: bold\">636</span> kB\n",
       "</pre>\n"
      ],
      "text/plain": [
       "Memory usage: \u001b[1;36m0\u001b[0m GB, \u001b[1;36m496\u001b[0m MB, \u001b[1;36m636\u001b[0m kB\n"
      ]
     },
     "metadata": {},
     "output_type": "display_data"
    },
    {
     "data": {
      "text/html": [
       "<pre style=\"white-space:pre;overflow-x:auto;line-height:normal;font-family:Menlo,'DejaVu Sans Mono',consolas,'Courier New',monospace\">Overall time required: <span style=\"color: #008080; text-decoration-color: #008080; font-weight: bold\">12.0</span> s\n",
       "</pre>\n"
      ],
      "text/plain": [
       "Overall time required: \u001b[1;36m12.0\u001b[0m s\n"
      ]
     },
     "metadata": {},
     "output_type": "display_data"
    },
    {
     "data": {
      "text/html": [
       "<pre style=\"white-space:pre;overflow-x:auto;line-height:normal;font-family:Menlo,'DejaVu Sans Mono',consolas,'Courier New',monospace\"><span style=\"color: #008080; text-decoration-color: #008080; font-weight: bold\">22</span> observations found\n",
       "</pre>\n"
      ],
      "text/plain": [
       "\u001b[1;36m22\u001b[0m observations found\n"
      ]
     },
     "metadata": {},
     "output_type": "display_data"
    },
    {
     "data": {
      "text/html": [
       "<pre style=\"white-space:pre;overflow-x:auto;line-height:normal;font-family:Menlo,'DejaVu Sans Mono',consolas,'Courier New',monospace\">Bayesian neural network trained in <span style=\"color: #008080; text-decoration-color: #008080; font-weight: bold\">6.4</span> s\n",
       "</pre>\n"
      ],
      "text/plain": [
       "Bayesian neural network trained in \u001b[1;36m6.4\u001b[0m s\n"
      ]
     },
     "metadata": {},
     "output_type": "display_data"
    },
    {
     "data": {
      "text/html": [
       "<pre style=\"white-space:pre;overflow-x:auto;line-height:normal;font-family:Menlo,'DejaVu Sans Mono',consolas,'Courier New',monospace\"><span style=\"color: #008080; text-decoration-color: #008080; font-weight: bold\">800</span> random proposals drawn in <span style=\"color: #008080; text-decoration-color: #008080; font-weight: bold\">4.6</span> s\n",
       "</pre>\n"
      ],
      "text/plain": [
       "\u001b[1;36m800\u001b[0m random proposals drawn in \u001b[1;36m4.6\u001b[0m s\n"
      ]
     },
     "metadata": {},
     "output_type": "display_data"
    },
    {
     "data": {
      "text/html": [
       "<pre style=\"white-space:pre;overflow-x:auto;line-height:normal;font-family:Menlo,'DejaVu Sans Mono',consolas,'Courier New',monospace\"><span style=\"color: #008080; text-decoration-color: #008080; font-weight: bold\">800</span> proposals optimized in <span style=\"color: #008080; text-decoration-color: #008080; font-weight: bold\">7.1</span> s using <span style=\"color: #008080; text-decoration-color: #008080; font-weight: bold\">4</span> CPUs\n",
       "</pre>\n"
      ],
      "text/plain": [
       "\u001b[1;36m800\u001b[0m proposals optimized in \u001b[1;36m7.1\u001b[0m s using \u001b[1;36m4\u001b[0m CPUs\n"
      ]
     },
     "metadata": {},
     "output_type": "display_data"
    },
    {
     "data": {
      "text/html": [
       "<pre style=\"white-space:pre;overflow-x:auto;line-height:normal;font-family:Menlo,'DejaVu Sans Mono',consolas,'Courier New',monospace\">Acquisition tasks for <span style=\"color: #008080; text-decoration-color: #008080; font-weight: bold\">1</span> sampling strategy performed in <span style=\"color: #008080; text-decoration-color: #008080; font-weight: bold\">12.8</span> s\n",
       "</pre>\n"
      ],
      "text/plain": [
       "Acquisition tasks for \u001b[1;36m1\u001b[0m sampling strategy performed in \u001b[1;36m12.8\u001b[0m s\n"
      ]
     },
     "metadata": {},
     "output_type": "display_data"
    },
    {
     "data": {
      "text/html": [
       "<pre style=\"white-space:pre;overflow-x:auto;line-height:normal;font-family:Menlo,'DejaVu Sans Mono',consolas,'Courier New',monospace\"><span style=\"color: #008080; text-decoration-color: #008080; font-weight: bold\">1</span> sample selected in <span style=\"color: #008080; text-decoration-color: #008080; font-weight: bold\">943.9</span> ms\n",
       "</pre>\n"
      ],
      "text/plain": [
       "\u001b[1;36m1\u001b[0m sample selected in \u001b[1;36m943.9\u001b[0m ms\n"
      ]
     },
     "metadata": {},
     "output_type": "display_data"
    },
    {
     "data": {
      "text/html": [
       "<pre style=\"white-space:pre;overflow-x:auto;line-height:normal;font-family:Menlo,'DejaVu Sans Mono',consolas,'Courier New',monospace\">Memory usage: <span style=\"color: #008080; text-decoration-color: #008080; font-weight: bold\">0</span> GB, <span style=\"color: #008080; text-decoration-color: #008080; font-weight: bold\">496</span> MB, <span style=\"color: #008080; text-decoration-color: #008080; font-weight: bold\">636</span> kB\n",
       "</pre>\n"
      ],
      "text/plain": [
       "Memory usage: \u001b[1;36m0\u001b[0m GB, \u001b[1;36m496\u001b[0m MB, \u001b[1;36m636\u001b[0m kB\n"
      ]
     },
     "metadata": {},
     "output_type": "display_data"
    },
    {
     "data": {
      "text/html": [
       "<pre style=\"white-space:pre;overflow-x:auto;line-height:normal;font-family:Menlo,'DejaVu Sans Mono',consolas,'Courier New',monospace\">Overall time required: <span style=\"color: #008080; text-decoration-color: #008080; font-weight: bold\">20.2</span> s\n",
       "</pre>\n"
      ],
      "text/plain": [
       "Overall time required: \u001b[1;36m20.2\u001b[0m s\n"
      ]
     },
     "metadata": {},
     "output_type": "display_data"
    },
    {
     "data": {
      "text/html": [
       "<pre style=\"white-space:pre;overflow-x:auto;line-height:normal;font-family:Menlo,'DejaVu Sans Mono',consolas,'Courier New',monospace\"><span style=\"color: #008080; text-decoration-color: #008080; font-weight: bold\">23</span> observations found\n",
       "</pre>\n"
      ],
      "text/plain": [
       "\u001b[1;36m23\u001b[0m observations found\n"
      ]
     },
     "metadata": {},
     "output_type": "display_data"
    },
    {
     "data": {
      "text/html": [
       "<pre style=\"white-space:pre;overflow-x:auto;line-height:normal;font-family:Menlo,'DejaVu Sans Mono',consolas,'Courier New',monospace\">Bayesian neural network trained in <span style=\"color: #008080; text-decoration-color: #008080; font-weight: bold\">4.6</span> s\n",
       "</pre>\n"
      ],
      "text/plain": [
       "Bayesian neural network trained in \u001b[1;36m4.6\u001b[0m s\n"
      ]
     },
     "metadata": {},
     "output_type": "display_data"
    },
    {
     "data": {
      "text/html": [
       "<pre style=\"white-space:pre;overflow-x:auto;line-height:normal;font-family:Menlo,'DejaVu Sans Mono',consolas,'Courier New',monospace\"><span style=\"color: #008080; text-decoration-color: #008080; font-weight: bold\">800</span> random proposals drawn in <span style=\"color: #008080; text-decoration-color: #008080; font-weight: bold\">101.9</span> ms\n",
       "</pre>\n"
      ],
      "text/plain": [
       "\u001b[1;36m800\u001b[0m random proposals drawn in \u001b[1;36m101.9\u001b[0m ms\n"
      ]
     },
     "metadata": {},
     "output_type": "display_data"
    },
    {
     "data": {
      "text/html": [
       "<pre style=\"white-space:pre;overflow-x:auto;line-height:normal;font-family:Menlo,'DejaVu Sans Mono',consolas,'Courier New',monospace\"><span style=\"color: #008080; text-decoration-color: #008080; font-weight: bold\">800</span> proposals optimized in <span style=\"color: #008080; text-decoration-color: #008080; font-weight: bold\">7.3</span> s using <span style=\"color: #008080; text-decoration-color: #008080; font-weight: bold\">4</span> CPUs\n",
       "</pre>\n"
      ],
      "text/plain": [
       "\u001b[1;36m800\u001b[0m proposals optimized in \u001b[1;36m7.3\u001b[0m s using \u001b[1;36m4\u001b[0m CPUs\n"
      ]
     },
     "metadata": {},
     "output_type": "display_data"
    },
    {
     "data": {
      "text/html": [
       "<pre style=\"white-space:pre;overflow-x:auto;line-height:normal;font-family:Menlo,'DejaVu Sans Mono',consolas,'Courier New',monospace\">Acquisition tasks for <span style=\"color: #008080; text-decoration-color: #008080; font-weight: bold\">1</span> sampling strategy performed in <span style=\"color: #008080; text-decoration-color: #008080; font-weight: bold\">7.4</span> s\n",
       "</pre>\n"
      ],
      "text/plain": [
       "Acquisition tasks for \u001b[1;36m1\u001b[0m sampling strategy performed in \u001b[1;36m7.4\u001b[0m s\n"
      ]
     },
     "metadata": {},
     "output_type": "display_data"
    },
    {
     "data": {
      "text/html": [
       "<pre style=\"white-space:pre;overflow-x:auto;line-height:normal;font-family:Menlo,'DejaVu Sans Mono',consolas,'Courier New',monospace\"><span style=\"color: #008080; text-decoration-color: #008080; font-weight: bold\">1</span> sample selected in <span style=\"color: #008080; text-decoration-color: #008080; font-weight: bold\">654.7</span> ms\n",
       "</pre>\n"
      ],
      "text/plain": [
       "\u001b[1;36m1\u001b[0m sample selected in \u001b[1;36m654.7\u001b[0m ms\n"
      ]
     },
     "metadata": {},
     "output_type": "display_data"
    },
    {
     "data": {
      "text/html": [
       "<pre style=\"white-space:pre;overflow-x:auto;line-height:normal;font-family:Menlo,'DejaVu Sans Mono',consolas,'Courier New',monospace\">Memory usage: <span style=\"color: #008080; text-decoration-color: #008080; font-weight: bold\">0</span> GB, <span style=\"color: #008080; text-decoration-color: #008080; font-weight: bold\">496</span> MB, <span style=\"color: #008080; text-decoration-color: #008080; font-weight: bold\">636</span> kB\n",
       "</pre>\n"
      ],
      "text/plain": [
       "Memory usage: \u001b[1;36m0\u001b[0m GB, \u001b[1;36m496\u001b[0m MB, \u001b[1;36m636\u001b[0m kB\n"
      ]
     },
     "metadata": {},
     "output_type": "display_data"
    },
    {
     "data": {
      "text/html": [
       "<pre style=\"white-space:pre;overflow-x:auto;line-height:normal;font-family:Menlo,'DejaVu Sans Mono',consolas,'Courier New',monospace\">Overall time required: <span style=\"color: #008080; text-decoration-color: #008080; font-weight: bold\">12.7</span> s\n",
       "</pre>\n"
      ],
      "text/plain": [
       "Overall time required: \u001b[1;36m12.7\u001b[0m s\n"
      ]
     },
     "metadata": {},
     "output_type": "display_data"
    }
   ],
   "source": [
    "observations = []\n",
    "for iter in range(BUDGET):\n",
    "\n",
    "\n",
    "\t# alternating sampling strategies\n",
    "\tselect_ix = iter % len(SAMPLING_SRATEGIES)\n",
    "\tsampling_strategy = SAMPLING_SRATEGIES[select_ix]\n",
    "\n",
    "\t# get a new sample\n",
    "\tsamples  = gryffin.recommend(\n",
    "\t\tobservations = observations, sampling_strategies=[sampling_strategy]\n",
    "\t)\n",
    "\n",
    "\tsample = samples[0]\n",
    "\n",
    "\t# get measurements for samples\n",
    "\tobservation = surface.run([val for key, val in sample.items()])[0][0]\n",
    "\tsample['obj'] = observation\n",
    "\n",
    "\tif PLOT:\n",
    "\t\t# optional instructions just for plotting\n",
    "\t\tfor ax in axes:\n",
    "\t\t\tax.clear()\n",
    "\t\tif iter >=1:\n",
    "\t\t\t# plotting ground truth\n",
    "\t\t\tx_domain = np.linspace(0., 1., 60)\n",
    "\t\t\ty_domain = np.linspace(0., 1., 60)\n",
    "\t\t\tX, Y = np.meshgrid(x_domain, y_domain)\n",
    "\t\t\tZ    = np.zeros((x_domain.shape[0], y_domain.shape[0]))\n",
    "\t\t\tacq = np.zeros((x_domain.shape[0], y_domain.shape[0]))\n",
    "\n",
    "\t\t\tfor x_index, x_element in enumerate(x_domain):\n",
    "\t\t\t\tfor y_index, y_element in enumerate(y_domain):\n",
    "\t\t\t\t\t# evaluate surface\n",
    "\t\t\t\t\tloss_value = surface.run([x_element, y_element])[0][0]\n",
    "\t\t\t\t\tZ[y_index, x_index] = loss_value\n",
    "\t\t\t\t\t# evaluate acquisition function\n",
    "\t\t\t\t\tacq_value = gryffin.get_acquisition([{'param_0': x_element, 'param_1': y_element }])[sampling_strategy][0]\n",
    "\t\t\t\t\tacq[y_index, x_index] = acq_value\n",
    "\n",
    "\n",
    "\n",
    "\t\t\tcontours = axes[0].contour(X, Y, Z, 3, colors='black')\n",
    "\t\t\taxes[0].clabel(contours, inline=True, fontsize=8)\n",
    "\t\t\taxes[0].imshow(Z, extent=[0, 1, 0, 1], origin='lower', cmap='RdGy', alpha=0.5)\n",
    "\n",
    "# \t\t\t# plot the constraint line\n",
    "# \t\t\taxes[0].plot(x_domain, 1.2-y_domain, c='k', ls='--', lw=1)\n",
    "\n",
    "# \t\t\t# fill between\n",
    "# \t\t\taxes[0].fill_between(x_domain, 1.2-y_domain, 1.2-y_domain+0.8, color='k', alpha=0.4, )\n",
    "\n",
    "\t\t\tfor obs_index, obs in enumerate(observations):\n",
    "\t\t\t\tif obs_index == 0:\n",
    "\t\t\t\t\taxes[0].plot(obs['param_0'], obs['param_1'], marker = 'o', color = '#1a1423', markersize = 7, alpha=0.8, label='Previous observations')\n",
    "\t\t\t\telse:\n",
    "\t\t\t\t\taxes[0].plot(obs['param_0'], obs['param_1'], marker = 'o', color = '#1a1423', markersize = 7, alpha=0.8)\n",
    "\n",
    "\t\t\tif len(observations) >= 1:\n",
    "\t\t\t\t# plot the final observation\n",
    "\t\t\t\taxes[0].plot(observations[-1]['param_0'], observations[-1]['param_1'], marker = 'D', color = '#5b2333', markersize = 8, label='Observation')\n",
    "\n",
    "\t\t\taxes[0].set_ylim(0., 1.)\n",
    "\n",
    "\t\t\taxes[0].set_title('Dejong surface')\n",
    "\t\t\taxes[0].set_ylabel('param_1')\n",
    "\t\t\taxes[0].set_xlabel('param_0')\n",
    "\n",
    "\t\t\taxes[0].legend(loc='upper right', fontsize=10)\n",
    "\n",
    "\n",
    "\n",
    "\t\t\t# plot acquisition\n",
    "\t\t\tcontours = axes[1].contour(X, Y, acq, 3, colors='black')\n",
    "\t\t\taxes[1].clabel(contours, inline=True, fontsize=8)\n",
    "\t\t\taxes[1].imshow(acq, extent=[0, 1, 0, 1], origin='lower', cmap='RdGy', alpha=0.5)\n",
    "\n",
    "# \t\t\t# plot the constraint line\n",
    "# \t\t\taxes[1].plot(x_domain, 1.2-y_domain, c='k', ls='--', lw=1)\n",
    "\n",
    "# \t\t\t# fill between\n",
    "# \t\t\taxes[1].fill_between(x_domain, 1.2-y_domain, 1.2-y_domain+0.8, color='k', alpha=0.4, )\n",
    "\n",
    "\t\t\tfor obs_index, obs in enumerate(observations):\n",
    "\t\t\t\tif obs_index == 0:\n",
    "\t\t\t\t\taxes[1].plot(obs['param_0'], obs['param_1'], marker = 'o', color = '#1a1423', markersize = 7, ls='', alpha=0.8, label='Previous observations')\n",
    "\t\t\t\telse:\n",
    "\t\t\t\t\taxes[1].plot(obs['param_0'], obs['param_1'], marker = 'o', color = '#1a1423', markersize = 7, alpha=0.8)\n",
    "\n",
    "\t\t\tif len(observations) >= 1:\n",
    "\t\t\t\t# plot the final observation\n",
    "\t\t\t\taxes[1].plot(observations[-1]['param_0'], observations[-1]['param_1'], marker = 'D', ls='', color = '#5b2333', markersize = 8, label='Observation')\n",
    "\n",
    "\t\t\taxes[1].set_ylim(0., 1.)\n",
    "\n",
    "\n",
    "\t\t\taxes[1].set_title('Gryffin acquistion\\n' + r'$\\lambda=$'+f'{sampling_strategy}')\n",
    "\t\t\taxes[1].set_xlabel('param_0')\n",
    "\n",
    "\n",
    "\n",
    "\t\t\tplt.pause(0.05)\n",
    "\t\t\tplt.savefig(f'basic-usage-vis/iter_{str(iter).zfill(2)}')\n",
    "\n",
    "\n",
    "\t# add measurements to cache\n",
    "\tobservations.append(sample)"
   ]
  },
  {
   "cell_type": "code",
   "execution_count": null,
   "id": "dynamic-annex",
   "metadata": {},
   "outputs": [],
   "source": []
  }
 ],
 "metadata": {
  "kernelspec": {
   "display_name": "gryffin-demo",
   "language": "python",
   "name": "gryffin-demo"
  },
  "language_info": {
   "codemirror_mode": {
    "name": "ipython",
    "version": 3
   },
   "file_extension": ".py",
   "mimetype": "text/x-python",
   "name": "python",
   "nbconvert_exporter": "python",
   "pygments_lexer": "ipython3",
   "version": "3.9.12"
  }
 },
 "nbformat": 4,
 "nbformat_minor": 5
}
